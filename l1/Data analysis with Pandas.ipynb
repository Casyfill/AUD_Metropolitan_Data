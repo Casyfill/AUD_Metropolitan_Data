{
 "cells": [
  {
   "cell_type": "markdown",
   "metadata": {},
   "source": [
    "## Introduction to Pandas"
   ]
  },
  {
   "cell_type": "markdown",
   "metadata": {},
   "source": [
    "In this tutorial we download real data from NYC open data through API and analyse the data in Pandas. We cover the base Pandas functions, visualize data and make small assignment in pairs."
   ]
  },
  {
   "cell_type": "code",
   "execution_count": 62,
   "metadata": {
    "collapsed": true
   },
   "outputs": [],
   "source": [
    "import requests\n",
    "import datetime\n",
    "import time"
   ]
  },
  {
   "cell_type": "code",
   "execution_count": 136,
   "metadata": {
    "collapsed": false
   },
   "outputs": [],
   "source": [
    "import requests\n",
    "\n",
    "\n"
   ]
  },
  {
   "cell_type": "code",
   "execution_count": 139,
   "metadata": {
    "collapsed": false
   },
   "outputs": [
    {
     "data": {
      "text/plain": [
       "'2017-03-13T20:59:19.000'"
      ]
     },
     "execution_count": 139,
     "metadata": {},
     "output_type": "execute_result"
    }
   ],
   "source": [
    "pd.DataFrame(data)['created_date'].min()"
   ]
  },
  {
   "cell_type": "code",
   "execution_count": 140,
   "metadata": {
    "collapsed": false
   },
   "outputs": [],
   "source": [
    "def get_complaints():\n",
    "    \n",
    "    \"\"\"Get data about complaints from NYC Open data\"\"\"\n",
    "    \n",
    "    url = \"http://data.cityofnewyork.us/resource/fhrw-4uyv.json?$$app_token=FfobI56OJyyKtJvlMf9YGiH3P\"\n",
    "\n",
    "    response = requests.get(url)\n",
    "    if response.status_code == 200:\n",
    "        data = response.json()\n",
    "    return data"
   ]
  },
  {
   "cell_type": "markdown",
   "metadata": {},
   "source": [
    "So, we are going to load the 311 CSV file using the read_csv function. It will automatically detect that the first row contains the column labels, but we need to explicitly tell read_csv that the row labels are contained in column Unique Key"
   ]
  },
  {
   "cell_type": "code",
   "execution_count": 9,
   "metadata": {
    "collapsed": false
   },
   "outputs": [
    {
     "name": "stderr",
     "output_type": "stream",
     "text": [
      "/Library/Frameworks/Python.framework/Versions/3.4/lib/python3.4/site-packages/IPython/core/interactiveshell.py:2717: DtypeWarning: Columns (8) have mixed types. Specify dtype option on import or set low_memory=False.\n",
      "  interactivity=interactivity, compiler=compiler, result=result)\n"
     ]
    }
   ],
   "source": [
    "complaints = pd.read_csv('311-service-requests.csv', index_col='Unique Key')"
   ]
  },
  {
   "cell_type": "markdown",
   "metadata": {},
   "source": [
    "complaints is a DataFrame. You can think of it as containing a table representing the data in the file. To see the part of dataset, use function head()"
   ]
  },
  {
   "cell_type": "code",
   "execution_count": 77,
   "metadata": {
    "collapsed": false
   },
   "outputs": [
    {
     "data": {
      "text/html": [
       "<div>\n",
       "<table border=\"1\" class=\"dataframe\">\n",
       "  <thead>\n",
       "    <tr style=\"text-align: right;\">\n",
       "      <th></th>\n",
       "      <th>Created Date</th>\n",
       "      <th>Closed Date</th>\n",
       "      <th>Agency</th>\n",
       "      <th>Agency Name</th>\n",
       "      <th>Complaint Type</th>\n",
       "      <th>Descriptor</th>\n",
       "      <th>Location Type</th>\n",
       "      <th>Incident Zip</th>\n",
       "      <th>Incident Address</th>\n",
       "      <th>Street Name</th>\n",
       "      <th>...</th>\n",
       "      <th>Garage Lot Name</th>\n",
       "      <th>Ferry Direction</th>\n",
       "      <th>Ferry Terminal Name</th>\n",
       "      <th>Latitude</th>\n",
       "      <th>Longitude</th>\n",
       "      <th>Location</th>\n",
       "      <th>created_timestamp</th>\n",
       "      <th>created_hour</th>\n",
       "      <th>created_month</th>\n",
       "      <th>created_day</th>\n",
       "    </tr>\n",
       "    <tr>\n",
       "      <th>Unique Key</th>\n",
       "      <th></th>\n",
       "      <th></th>\n",
       "      <th></th>\n",
       "      <th></th>\n",
       "      <th></th>\n",
       "      <th></th>\n",
       "      <th></th>\n",
       "      <th></th>\n",
       "      <th></th>\n",
       "      <th></th>\n",
       "      <th></th>\n",
       "      <th></th>\n",
       "      <th></th>\n",
       "      <th></th>\n",
       "      <th></th>\n",
       "      <th></th>\n",
       "      <th></th>\n",
       "      <th></th>\n",
       "      <th></th>\n",
       "      <th></th>\n",
       "      <th></th>\n",
       "    </tr>\n",
       "  </thead>\n",
       "  <tbody>\n",
       "    <tr>\n",
       "      <th>26589651</th>\n",
       "      <td>10/31/2013 02:08:41 AM</td>\n",
       "      <td>NaN</td>\n",
       "      <td>NYPD</td>\n",
       "      <td>New York City Police Department</td>\n",
       "      <td>Noise - Street/Sidewalk</td>\n",
       "      <td>Loud Talking</td>\n",
       "      <td>Street/Sidewalk</td>\n",
       "      <td>11432</td>\n",
       "      <td>90-03 169 STREET</td>\n",
       "      <td>169 STREET</td>\n",
       "      <td>...</td>\n",
       "      <td>NaN</td>\n",
       "      <td>NaN</td>\n",
       "      <td>NaN</td>\n",
       "      <td>40.708275</td>\n",
       "      <td>-73.791604</td>\n",
       "      <td>(40.70827532593202, -73.79160395779721)</td>\n",
       "      <td>1.383171e+09</td>\n",
       "      <td>2</td>\n",
       "      <td>10</td>\n",
       "      <td>3</td>\n",
       "    </tr>\n",
       "    <tr>\n",
       "      <th>26593698</th>\n",
       "      <td>10/31/2013 02:01:04 AM</td>\n",
       "      <td>NaN</td>\n",
       "      <td>NYPD</td>\n",
       "      <td>New York City Police Department</td>\n",
       "      <td>Illegal Parking</td>\n",
       "      <td>Commercial Overnight Parking</td>\n",
       "      <td>Street/Sidewalk</td>\n",
       "      <td>11378</td>\n",
       "      <td>58 AVENUE</td>\n",
       "      <td>58 AVENUE</td>\n",
       "      <td>...</td>\n",
       "      <td>NaN</td>\n",
       "      <td>NaN</td>\n",
       "      <td>NaN</td>\n",
       "      <td>40.721041</td>\n",
       "      <td>-73.909453</td>\n",
       "      <td>(40.721040535628305, -73.90945306791765)</td>\n",
       "      <td>1.383170e+09</td>\n",
       "      <td>2</td>\n",
       "      <td>10</td>\n",
       "      <td>3</td>\n",
       "    </tr>\n",
       "    <tr>\n",
       "      <th>26594139</th>\n",
       "      <td>10/31/2013 02:00:24 AM</td>\n",
       "      <td>10/31/2013 02:40:32 AM</td>\n",
       "      <td>NYPD</td>\n",
       "      <td>New York City Police Department</td>\n",
       "      <td>Noise - Commercial</td>\n",
       "      <td>Loud Music/Party</td>\n",
       "      <td>Club/Bar/Restaurant</td>\n",
       "      <td>10032</td>\n",
       "      <td>4060 BROADWAY</td>\n",
       "      <td>BROADWAY</td>\n",
       "      <td>...</td>\n",
       "      <td>NaN</td>\n",
       "      <td>NaN</td>\n",
       "      <td>NaN</td>\n",
       "      <td>40.843330</td>\n",
       "      <td>-73.939144</td>\n",
       "      <td>(40.84332975466513, -73.93914371913482)</td>\n",
       "      <td>1.383170e+09</td>\n",
       "      <td>2</td>\n",
       "      <td>10</td>\n",
       "      <td>3</td>\n",
       "    </tr>\n",
       "    <tr>\n",
       "      <th>26595721</th>\n",
       "      <td>10/31/2013 01:56:23 AM</td>\n",
       "      <td>10/31/2013 02:21:48 AM</td>\n",
       "      <td>NYPD</td>\n",
       "      <td>New York City Police Department</td>\n",
       "      <td>Noise - Vehicle</td>\n",
       "      <td>Car/Truck Horn</td>\n",
       "      <td>Street/Sidewalk</td>\n",
       "      <td>10023</td>\n",
       "      <td>WEST 72 STREET</td>\n",
       "      <td>WEST 72 STREET</td>\n",
       "      <td>...</td>\n",
       "      <td>NaN</td>\n",
       "      <td>NaN</td>\n",
       "      <td>NaN</td>\n",
       "      <td>40.778009</td>\n",
       "      <td>-73.980213</td>\n",
       "      <td>(40.7780087446372, -73.98021349023975)</td>\n",
       "      <td>1.383170e+09</td>\n",
       "      <td>1</td>\n",
       "      <td>10</td>\n",
       "      <td>3</td>\n",
       "    </tr>\n",
       "    <tr>\n",
       "      <th>26590930</th>\n",
       "      <td>10/31/2013 01:53:44 AM</td>\n",
       "      <td>NaN</td>\n",
       "      <td>DOHMH</td>\n",
       "      <td>Department of Health and Mental Hygiene</td>\n",
       "      <td>Rodent</td>\n",
       "      <td>Condition Attracting Rodents</td>\n",
       "      <td>Vacant Lot</td>\n",
       "      <td>10027</td>\n",
       "      <td>WEST 124 STREET</td>\n",
       "      <td>WEST 124 STREET</td>\n",
       "      <td>...</td>\n",
       "      <td>NaN</td>\n",
       "      <td>NaN</td>\n",
       "      <td>NaN</td>\n",
       "      <td>40.807691</td>\n",
       "      <td>-73.947387</td>\n",
       "      <td>(40.80769092704951, -73.94738703491433)</td>\n",
       "      <td>1.383170e+09</td>\n",
       "      <td>1</td>\n",
       "      <td>10</td>\n",
       "      <td>3</td>\n",
       "    </tr>\n",
       "  </tbody>\n",
       "</table>\n",
       "<p>5 rows × 55 columns</p>\n",
       "</div>"
      ],
      "text/plain": [
       "                      Created Date             Closed Date Agency  \\\n",
       "Unique Key                                                          \n",
       "26589651    10/31/2013 02:08:41 AM                     NaN   NYPD   \n",
       "26593698    10/31/2013 02:01:04 AM                     NaN   NYPD   \n",
       "26594139    10/31/2013 02:00:24 AM  10/31/2013 02:40:32 AM   NYPD   \n",
       "26595721    10/31/2013 01:56:23 AM  10/31/2013 02:21:48 AM   NYPD   \n",
       "26590930    10/31/2013 01:53:44 AM                     NaN  DOHMH   \n",
       "\n",
       "                                        Agency Name           Complaint Type  \\\n",
       "Unique Key                                                                     \n",
       "26589651            New York City Police Department  Noise - Street/Sidewalk   \n",
       "26593698            New York City Police Department          Illegal Parking   \n",
       "26594139            New York City Police Department       Noise - Commercial   \n",
       "26595721            New York City Police Department          Noise - Vehicle   \n",
       "26590930    Department of Health and Mental Hygiene                   Rodent   \n",
       "\n",
       "                              Descriptor        Location Type Incident Zip  \\\n",
       "Unique Key                                                                   \n",
       "26589651                    Loud Talking      Street/Sidewalk        11432   \n",
       "26593698    Commercial Overnight Parking      Street/Sidewalk        11378   \n",
       "26594139                Loud Music/Party  Club/Bar/Restaurant        10032   \n",
       "26595721                  Car/Truck Horn      Street/Sidewalk        10023   \n",
       "26590930    Condition Attracting Rodents           Vacant Lot        10027   \n",
       "\n",
       "            Incident Address      Street Name     ...     Garage Lot Name  \\\n",
       "Unique Key                                        ...                       \n",
       "26589651    90-03 169 STREET       169 STREET     ...                 NaN   \n",
       "26593698           58 AVENUE        58 AVENUE     ...                 NaN   \n",
       "26594139       4060 BROADWAY         BROADWAY     ...                 NaN   \n",
       "26595721      WEST 72 STREET   WEST 72 STREET     ...                 NaN   \n",
       "26590930     WEST 124 STREET  WEST 124 STREET     ...                 NaN   \n",
       "\n",
       "           Ferry Direction Ferry Terminal Name   Latitude  Longitude  \\\n",
       "Unique Key                                                             \n",
       "26589651               NaN                 NaN  40.708275 -73.791604   \n",
       "26593698               NaN                 NaN  40.721041 -73.909453   \n",
       "26594139               NaN                 NaN  40.843330 -73.939144   \n",
       "26595721               NaN                 NaN  40.778009 -73.980213   \n",
       "26590930               NaN                 NaN  40.807691 -73.947387   \n",
       "\n",
       "                                            Location created_timestamp  \\\n",
       "Unique Key                                                               \n",
       "26589651     (40.70827532593202, -73.79160395779721)      1.383171e+09   \n",
       "26593698    (40.721040535628305, -73.90945306791765)      1.383170e+09   \n",
       "26594139     (40.84332975466513, -73.93914371913482)      1.383170e+09   \n",
       "26595721      (40.7780087446372, -73.98021349023975)      1.383170e+09   \n",
       "26590930     (40.80769092704951, -73.94738703491433)      1.383170e+09   \n",
       "\n",
       "           created_hour created_month created_day  \n",
       "Unique Key                                         \n",
       "26589651              2            10           3  \n",
       "26593698              2            10           3  \n",
       "26594139              2            10           3  \n",
       "26595721              1            10           3  \n",
       "26590930              1            10           3  \n",
       "\n",
       "[5 rows x 55 columns]"
      ]
     },
     "execution_count": 77,
     "metadata": {},
     "output_type": "execute_result"
    }
   ],
   "source": [
    "complaints.head()"
   ]
  },
  {
   "cell_type": "code",
   "execution_count": 63,
   "metadata": {
    "collapsed": false
   },
   "outputs": [],
   "source": [
    "complaints['created_timestamp'] = complaints.apply(lambda x: time.mktime(datetime.datetime.strptime(x['Created Date'], \"%m/%d/%Y %H:%M:%S %p\").timetuple()), axis = 1)"
   ]
  },
  {
   "cell_type": "code",
   "execution_count": 76,
   "metadata": {
    "collapsed": false
   },
   "outputs": [],
   "source": [
    "complaints['created_hour'] = complaints.apply(lambda x: datetime.datetime.fromtimestamp(x['created_timestamp']).hour, axis = 1)\n",
    "complaints['created_month'] = complaints.apply(lambda x: datetime.datetime.fromtimestamp(x['created_timestamp']).month, axis = 1)\n",
    "complaints['created_day'] = complaints.apply(lambda x: datetime.datetime.fromtimestamp(x['created_timestamp']).weekday(), axis = 1)"
   ]
  },
  {
   "cell_type": "markdown",
   "metadata": {},
   "source": [
    "head() function returns first 5 rows of Dataframe. If it is necessary to print more than 5 rows, pass number of rows as an argument to head()"
   ]
  },
  {
   "cell_type": "markdown",
   "metadata": {},
   "source": [
    "Function tail() prints last 5 rows of Dataframe "
   ]
  },
  {
   "cell_type": "code",
   "execution_count": 88,
   "metadata": {
    "collapsed": false
   },
   "outputs": [
    {
     "data": {
      "text/html": [
       "<div>\n",
       "<table border=\"1\" class=\"dataframe\">\n",
       "  <thead>\n",
       "    <tr style=\"text-align: right;\">\n",
       "      <th></th>\n",
       "      <th>Created Date</th>\n",
       "      <th>Closed Date</th>\n",
       "      <th>Agency</th>\n",
       "      <th>Agency Name</th>\n",
       "      <th>Complaint Type</th>\n",
       "      <th>Descriptor</th>\n",
       "      <th>Location Type</th>\n",
       "      <th>Incident Zip</th>\n",
       "      <th>Incident Address</th>\n",
       "      <th>Street Name</th>\n",
       "      <th>...</th>\n",
       "      <th>Garage Lot Name</th>\n",
       "      <th>Ferry Direction</th>\n",
       "      <th>Ferry Terminal Name</th>\n",
       "      <th>Latitude</th>\n",
       "      <th>Longitude</th>\n",
       "      <th>Location</th>\n",
       "      <th>created_timestamp</th>\n",
       "      <th>created_hour</th>\n",
       "      <th>created_month</th>\n",
       "      <th>created_day</th>\n",
       "    </tr>\n",
       "    <tr>\n",
       "      <th>Unique Key</th>\n",
       "      <th></th>\n",
       "      <th></th>\n",
       "      <th></th>\n",
       "      <th></th>\n",
       "      <th></th>\n",
       "      <th></th>\n",
       "      <th></th>\n",
       "      <th></th>\n",
       "      <th></th>\n",
       "      <th></th>\n",
       "      <th></th>\n",
       "      <th></th>\n",
       "      <th></th>\n",
       "      <th></th>\n",
       "      <th></th>\n",
       "      <th></th>\n",
       "      <th></th>\n",
       "      <th></th>\n",
       "      <th></th>\n",
       "      <th></th>\n",
       "      <th></th>\n",
       "    </tr>\n",
       "  </thead>\n",
       "  <tbody>\n",
       "    <tr>\n",
       "      <th>26429040</th>\n",
       "      <td>10/04/2013 12:04:52 AM</td>\n",
       "      <td>10/04/2013 03:01:04 AM</td>\n",
       "      <td>NYPD</td>\n",
       "      <td>New York City Police Department</td>\n",
       "      <td>Noise - Street/Sidewalk</td>\n",
       "      <td>Loud Talking</td>\n",
       "      <td>Street/Sidewalk</td>\n",
       "      <td>10003</td>\n",
       "      <td>99 2 AVENUE</td>\n",
       "      <td>2 AVENUE</td>\n",
       "      <td>...</td>\n",
       "      <td>NaN</td>\n",
       "      <td>NaN</td>\n",
       "      <td>NaN</td>\n",
       "      <td>40.727251</td>\n",
       "      <td>-73.988660</td>\n",
       "      <td>(40.727251287038676, -73.98866028603422)</td>\n",
       "      <td>1.380874e+09</td>\n",
       "      <td>12</td>\n",
       "      <td>10</td>\n",
       "      <td>4</td>\n",
       "    </tr>\n",
       "    <tr>\n",
       "      <th>26434084</th>\n",
       "      <td>10/04/2013 12:04:00 AM</td>\n",
       "      <td>NaN</td>\n",
       "      <td>DEP</td>\n",
       "      <td>Department of Environmental Protection</td>\n",
       "      <td>Noise</td>\n",
       "      <td>Noise: Construction Before/After Hours (NM1)</td>\n",
       "      <td>NaN</td>\n",
       "      <td>10036</td>\n",
       "      <td>NaN</td>\n",
       "      <td>NaN</td>\n",
       "      <td>...</td>\n",
       "      <td>NaN</td>\n",
       "      <td>NaN</td>\n",
       "      <td>NaN</td>\n",
       "      <td>40.760405</td>\n",
       "      <td>-73.987474</td>\n",
       "      <td>(40.76040500039782, -73.98747426235285)</td>\n",
       "      <td>1.380874e+09</td>\n",
       "      <td>12</td>\n",
       "      <td>10</td>\n",
       "      <td>4</td>\n",
       "    </tr>\n",
       "    <tr>\n",
       "      <th>26426164</th>\n",
       "      <td>10/04/2013 12:03:00 AM</td>\n",
       "      <td>10/04/2013 02:14:57 AM</td>\n",
       "      <td>NYPD</td>\n",
       "      <td>New York City Police Department</td>\n",
       "      <td>Noise - Commercial</td>\n",
       "      <td>Loud Music/Party</td>\n",
       "      <td>Club/Bar/Restaurant</td>\n",
       "      <td>11106</td>\n",
       "      <td>30-09 BROADWAY</td>\n",
       "      <td>BROADWAY</td>\n",
       "      <td>...</td>\n",
       "      <td>NaN</td>\n",
       "      <td>NaN</td>\n",
       "      <td>NaN</td>\n",
       "      <td>40.762279</td>\n",
       "      <td>-73.926013</td>\n",
       "      <td>(40.762278541098084, -73.92601303458156)</td>\n",
       "      <td>1.380874e+09</td>\n",
       "      <td>12</td>\n",
       "      <td>10</td>\n",
       "      <td>4</td>\n",
       "    </tr>\n",
       "    <tr>\n",
       "      <th>26439710</th>\n",
       "      <td>10/04/2013 12:03:00 AM</td>\n",
       "      <td>10/04/2013 12:03:00 AM</td>\n",
       "      <td>DEP</td>\n",
       "      <td>Department of Environmental Protection</td>\n",
       "      <td>Water System</td>\n",
       "      <td>Dirty Water (WE)</td>\n",
       "      <td>NaN</td>\n",
       "      <td>10022</td>\n",
       "      <td>325 EAST 54 STREET</td>\n",
       "      <td>EAST 54 STREET</td>\n",
       "      <td>...</td>\n",
       "      <td>NaN</td>\n",
       "      <td>NaN</td>\n",
       "      <td>NaN</td>\n",
       "      <td>40.757069</td>\n",
       "      <td>-73.965933</td>\n",
       "      <td>(40.75706852462872, -73.96593314322774)</td>\n",
       "      <td>1.380874e+09</td>\n",
       "      <td>12</td>\n",
       "      <td>10</td>\n",
       "      <td>4</td>\n",
       "    </tr>\n",
       "    <tr>\n",
       "      <th>26435569</th>\n",
       "      <td>10/04/2013 12:02:00 AM</td>\n",
       "      <td>10/04/2013 01:10:00 AM</td>\n",
       "      <td>DEP</td>\n",
       "      <td>Department of Environmental Protection</td>\n",
       "      <td>Water System</td>\n",
       "      <td>Dirty Water (WE)</td>\n",
       "      <td>NaN</td>\n",
       "      <td>10022</td>\n",
       "      <td>311 EAST 50 STREET</td>\n",
       "      <td>EAST 50 STREET</td>\n",
       "      <td>...</td>\n",
       "      <td>NaN</td>\n",
       "      <td>NaN</td>\n",
       "      <td>NaN</td>\n",
       "      <td>40.754662</td>\n",
       "      <td>-73.967992</td>\n",
       "      <td>(40.75466197318078, -73.96799173864807)</td>\n",
       "      <td>1.380874e+09</td>\n",
       "      <td>12</td>\n",
       "      <td>10</td>\n",
       "      <td>4</td>\n",
       "    </tr>\n",
       "    <tr>\n",
       "      <th>26426013</th>\n",
       "      <td>10/04/2013 12:01:13 AM</td>\n",
       "      <td>10/07/2013 04:07:16 PM</td>\n",
       "      <td>DPR</td>\n",
       "      <td>Department of Parks and Recreation</td>\n",
       "      <td>Maintenance or Facility</td>\n",
       "      <td>Structure - Outdoors</td>\n",
       "      <td>Park</td>\n",
       "      <td>11213</td>\n",
       "      <td>NaN</td>\n",
       "      <td>NaN</td>\n",
       "      <td>...</td>\n",
       "      <td>NaN</td>\n",
       "      <td>NaN</td>\n",
       "      <td>NaN</td>\n",
       "      <td>NaN</td>\n",
       "      <td>NaN</td>\n",
       "      <td>NaN</td>\n",
       "      <td>1.380874e+09</td>\n",
       "      <td>12</td>\n",
       "      <td>10</td>\n",
       "      <td>4</td>\n",
       "    </tr>\n",
       "    <tr>\n",
       "      <th>26428083</th>\n",
       "      <td>10/04/2013 12:01:05 AM</td>\n",
       "      <td>10/04/2013 02:13:50 AM</td>\n",
       "      <td>NYPD</td>\n",
       "      <td>New York City Police Department</td>\n",
       "      <td>Illegal Parking</td>\n",
       "      <td>Posted Parking Sign Violation</td>\n",
       "      <td>Street/Sidewalk</td>\n",
       "      <td>11434</td>\n",
       "      <td>NaN</td>\n",
       "      <td>NaN</td>\n",
       "      <td>...</td>\n",
       "      <td>NaN</td>\n",
       "      <td>NaN</td>\n",
       "      <td>NaN</td>\n",
       "      <td>40.656160</td>\n",
       "      <td>-73.767353</td>\n",
       "      <td>(40.656160351546845, -73.76735262738222)</td>\n",
       "      <td>1.380874e+09</td>\n",
       "      <td>12</td>\n",
       "      <td>10</td>\n",
       "      <td>4</td>\n",
       "    </tr>\n",
       "    <tr>\n",
       "      <th>26428987</th>\n",
       "      <td>10/04/2013 12:00:45 AM</td>\n",
       "      <td>10/04/2013 01:25:01 AM</td>\n",
       "      <td>NYPD</td>\n",
       "      <td>New York City Police Department</td>\n",
       "      <td>Noise - Street/Sidewalk</td>\n",
       "      <td>Loud Talking</td>\n",
       "      <td>Street/Sidewalk</td>\n",
       "      <td>10016</td>\n",
       "      <td>344 EAST 28 STREET</td>\n",
       "      <td>EAST 28 STREET</td>\n",
       "      <td>...</td>\n",
       "      <td>NaN</td>\n",
       "      <td>NaN</td>\n",
       "      <td>NaN</td>\n",
       "      <td>40.740295</td>\n",
       "      <td>-73.976952</td>\n",
       "      <td>(40.740295354643706, -73.97695165980414)</td>\n",
       "      <td>1.380874e+09</td>\n",
       "      <td>12</td>\n",
       "      <td>10</td>\n",
       "      <td>4</td>\n",
       "    </tr>\n",
       "    <tr>\n",
       "      <th>26426115</th>\n",
       "      <td>10/04/2013 12:00:28 AM</td>\n",
       "      <td>10/04/2013 04:17:32 AM</td>\n",
       "      <td>NYPD</td>\n",
       "      <td>New York City Police Department</td>\n",
       "      <td>Noise - Commercial</td>\n",
       "      <td>Loud Talking</td>\n",
       "      <td>Club/Bar/Restaurant</td>\n",
       "      <td>11226</td>\n",
       "      <td>1233 FLATBUSH AVENUE</td>\n",
       "      <td>FLATBUSH AVENUE</td>\n",
       "      <td>...</td>\n",
       "      <td>NaN</td>\n",
       "      <td>NaN</td>\n",
       "      <td>NaN</td>\n",
       "      <td>40.640182</td>\n",
       "      <td>-73.955306</td>\n",
       "      <td>(40.64018174662485, -73.95530566958138)</td>\n",
       "      <td>1.380874e+09</td>\n",
       "      <td>12</td>\n",
       "      <td>10</td>\n",
       "      <td>4</td>\n",
       "    </tr>\n",
       "    <tr>\n",
       "      <th>26428033</th>\n",
       "      <td>10/04/2013 12:00:10 AM</td>\n",
       "      <td>10/04/2013 01:20:52 AM</td>\n",
       "      <td>NYPD</td>\n",
       "      <td>New York City Police Department</td>\n",
       "      <td>Blocked Driveway</td>\n",
       "      <td>Partial Access</td>\n",
       "      <td>Street/Sidewalk</td>\n",
       "      <td>11236</td>\n",
       "      <td>1259 EAST 94 STREET</td>\n",
       "      <td>EAST 94 STREET</td>\n",
       "      <td>...</td>\n",
       "      <td>NaN</td>\n",
       "      <td>NaN</td>\n",
       "      <td>NaN</td>\n",
       "      <td>40.640024</td>\n",
       "      <td>-73.900717</td>\n",
       "      <td>(40.640024057399216, -73.90071711703163)</td>\n",
       "      <td>1.380874e+09</td>\n",
       "      <td>12</td>\n",
       "      <td>10</td>\n",
       "      <td>4</td>\n",
       "    </tr>\n",
       "  </tbody>\n",
       "</table>\n",
       "<p>10 rows × 55 columns</p>\n",
       "</div>"
      ],
      "text/plain": [
       "                      Created Date             Closed Date Agency  \\\n",
       "Unique Key                                                          \n",
       "26429040    10/04/2013 12:04:52 AM  10/04/2013 03:01:04 AM   NYPD   \n",
       "26434084    10/04/2013 12:04:00 AM                     NaN    DEP   \n",
       "26426164    10/04/2013 12:03:00 AM  10/04/2013 02:14:57 AM   NYPD   \n",
       "26439710    10/04/2013 12:03:00 AM  10/04/2013 12:03:00 AM    DEP   \n",
       "26435569    10/04/2013 12:02:00 AM  10/04/2013 01:10:00 AM    DEP   \n",
       "26426013    10/04/2013 12:01:13 AM  10/07/2013 04:07:16 PM    DPR   \n",
       "26428083    10/04/2013 12:01:05 AM  10/04/2013 02:13:50 AM   NYPD   \n",
       "26428987    10/04/2013 12:00:45 AM  10/04/2013 01:25:01 AM   NYPD   \n",
       "26426115    10/04/2013 12:00:28 AM  10/04/2013 04:17:32 AM   NYPD   \n",
       "26428033    10/04/2013 12:00:10 AM  10/04/2013 01:20:52 AM   NYPD   \n",
       "\n",
       "                                       Agency Name           Complaint Type  \\\n",
       "Unique Key                                                                    \n",
       "26429040           New York City Police Department  Noise - Street/Sidewalk   \n",
       "26434084    Department of Environmental Protection                    Noise   \n",
       "26426164           New York City Police Department       Noise - Commercial   \n",
       "26439710    Department of Environmental Protection             Water System   \n",
       "26435569    Department of Environmental Protection             Water System   \n",
       "26426013        Department of Parks and Recreation  Maintenance or Facility   \n",
       "26428083           New York City Police Department          Illegal Parking   \n",
       "26428987           New York City Police Department  Noise - Street/Sidewalk   \n",
       "26426115           New York City Police Department       Noise - Commercial   \n",
       "26428033           New York City Police Department         Blocked Driveway   \n",
       "\n",
       "                                              Descriptor        Location Type  \\\n",
       "Unique Key                                                                      \n",
       "26429040                                    Loud Talking      Street/Sidewalk   \n",
       "26434084    Noise: Construction Before/After Hours (NM1)                  NaN   \n",
       "26426164                                Loud Music/Party  Club/Bar/Restaurant   \n",
       "26439710                                Dirty Water (WE)                  NaN   \n",
       "26435569                                Dirty Water (WE)                  NaN   \n",
       "26426013                            Structure - Outdoors                 Park   \n",
       "26428083                   Posted Parking Sign Violation      Street/Sidewalk   \n",
       "26428987                                    Loud Talking      Street/Sidewalk   \n",
       "26426115                                    Loud Talking  Club/Bar/Restaurant   \n",
       "26428033                                  Partial Access      Street/Sidewalk   \n",
       "\n",
       "           Incident Zip      Incident Address      Street Name     ...      \\\n",
       "Unique Key                                                         ...       \n",
       "26429040          10003           99 2 AVENUE         2 AVENUE     ...       \n",
       "26434084          10036                   NaN              NaN     ...       \n",
       "26426164          11106        30-09 BROADWAY         BROADWAY     ...       \n",
       "26439710          10022    325 EAST 54 STREET   EAST 54 STREET     ...       \n",
       "26435569          10022    311 EAST 50 STREET   EAST 50 STREET     ...       \n",
       "26426013          11213                   NaN              NaN     ...       \n",
       "26428083          11434                   NaN              NaN     ...       \n",
       "26428987          10016    344 EAST 28 STREET   EAST 28 STREET     ...       \n",
       "26426115          11226  1233 FLATBUSH AVENUE  FLATBUSH AVENUE     ...       \n",
       "26428033          11236   1259 EAST 94 STREET   EAST 94 STREET     ...       \n",
       "\n",
       "           Garage Lot Name Ferry Direction Ferry Terminal Name   Latitude  \\\n",
       "Unique Key                                                                  \n",
       "26429040               NaN             NaN                 NaN  40.727251   \n",
       "26434084               NaN             NaN                 NaN  40.760405   \n",
       "26426164               NaN             NaN                 NaN  40.762279   \n",
       "26439710               NaN             NaN                 NaN  40.757069   \n",
       "26435569               NaN             NaN                 NaN  40.754662   \n",
       "26426013               NaN             NaN                 NaN        NaN   \n",
       "26428083               NaN             NaN                 NaN  40.656160   \n",
       "26428987               NaN             NaN                 NaN  40.740295   \n",
       "26426115               NaN             NaN                 NaN  40.640182   \n",
       "26428033               NaN             NaN                 NaN  40.640024   \n",
       "\n",
       "            Longitude                                  Location  \\\n",
       "Unique Key                                                        \n",
       "26429040   -73.988660  (40.727251287038676, -73.98866028603422)   \n",
       "26434084   -73.987474   (40.76040500039782, -73.98747426235285)   \n",
       "26426164   -73.926013  (40.762278541098084, -73.92601303458156)   \n",
       "26439710   -73.965933   (40.75706852462872, -73.96593314322774)   \n",
       "26435569   -73.967992   (40.75466197318078, -73.96799173864807)   \n",
       "26426013          NaN                                       NaN   \n",
       "26428083   -73.767353  (40.656160351546845, -73.76735262738222)   \n",
       "26428987   -73.976952  (40.740295354643706, -73.97695165980414)   \n",
       "26426115   -73.955306   (40.64018174662485, -73.95530566958138)   \n",
       "26428033   -73.900717  (40.640024057399216, -73.90071711703163)   \n",
       "\n",
       "           created_timestamp created_hour created_month created_day  \n",
       "Unique Key                                                           \n",
       "26429040        1.380874e+09           12            10           4  \n",
       "26434084        1.380874e+09           12            10           4  \n",
       "26426164        1.380874e+09           12            10           4  \n",
       "26439710        1.380874e+09           12            10           4  \n",
       "26435569        1.380874e+09           12            10           4  \n",
       "26426013        1.380874e+09           12            10           4  \n",
       "26428083        1.380874e+09           12            10           4  \n",
       "26428987        1.380874e+09           12            10           4  \n",
       "26426115        1.380874e+09           12            10           4  \n",
       "26428033        1.380874e+09           12            10           4  \n",
       "\n",
       "[10 rows x 55 columns]"
      ]
     },
     "execution_count": 88,
     "metadata": {},
     "output_type": "execute_result"
    }
   ],
   "source": [
    "complaints.tail(10)"
   ]
  },
  {
   "cell_type": "markdown",
   "metadata": {},
   "source": [
    "We can get some statistics over DataFrame in one short command:"
   ]
  },
  {
   "cell_type": "code",
   "execution_count": 106,
   "metadata": {
    "collapsed": false
   },
   "outputs": [
    {
     "data": {
      "text/html": [
       "<div>\n",
       "<table border=\"1\" class=\"dataframe\">\n",
       "  <thead>\n",
       "    <tr style=\"text-align: right;\">\n",
       "      <th></th>\n",
       "      <th>X Coordinate (State Plane)</th>\n",
       "      <th>Y Coordinate (State Plane)</th>\n",
       "      <th>School or Citywide Complaint</th>\n",
       "      <th>Latitude</th>\n",
       "      <th>Longitude</th>\n",
       "      <th>created_timestamp</th>\n",
       "      <th>created_hour</th>\n",
       "      <th>created_month</th>\n",
       "      <th>created_day</th>\n",
       "    </tr>\n",
       "  </thead>\n",
       "  <tbody>\n",
       "    <tr>\n",
       "      <th>count</th>\n",
       "      <td>9.814300e+04</td>\n",
       "      <td>98143.000000</td>\n",
       "      <td>0.0</td>\n",
       "      <td>98143.000000</td>\n",
       "      <td>98143.000000</td>\n",
       "      <td>1.110690e+05</td>\n",
       "      <td>111069.000000</td>\n",
       "      <td>111069.0</td>\n",
       "      <td>111069.000000</td>\n",
       "    </tr>\n",
       "    <tr>\n",
       "      <th>mean</th>\n",
       "      <td>1.004544e+06</td>\n",
       "      <td>205553.153287</td>\n",
       "      <td>NaN</td>\n",
       "      <td>40.730821</td>\n",
       "      <td>-73.926738</td>\n",
       "      <td>1.382086e+09</td>\n",
       "      <td>8.700763</td>\n",
       "      <td>10.0</td>\n",
       "      <td>2.503372</td>\n",
       "    </tr>\n",
       "    <tr>\n",
       "      <th>std</th>\n",
       "      <td>2.206087e+04</td>\n",
       "      <td>31334.677543</td>\n",
       "      <td>NaN</td>\n",
       "      <td>0.086006</td>\n",
       "      <td>0.079563</td>\n",
       "      <td>6.762386e+05</td>\n",
       "      <td>3.839348</td>\n",
       "      <td>0.0</td>\n",
       "      <td>1.832793</td>\n",
       "    </tr>\n",
       "    <tr>\n",
       "      <th>min</th>\n",
       "      <td>9.134950e+05</td>\n",
       "      <td>121152.000000</td>\n",
       "      <td>NaN</td>\n",
       "      <td>40.498949</td>\n",
       "      <td>-74.254437</td>\n",
       "      <td>1.380834e+09</td>\n",
       "      <td>1.000000</td>\n",
       "      <td>10.0</td>\n",
       "      <td>0.000000</td>\n",
       "    </tr>\n",
       "    <tr>\n",
       "      <th>25%</th>\n",
       "      <td>9.920490e+05</td>\n",
       "      <td>182506.000000</td>\n",
       "      <td>NaN</td>\n",
       "      <td>40.667529</td>\n",
       "      <td>-73.971882</td>\n",
       "      <td>1.381450e+09</td>\n",
       "      <td>6.000000</td>\n",
       "      <td>10.0</td>\n",
       "      <td>1.000000</td>\n",
       "    </tr>\n",
       "    <tr>\n",
       "      <th>50%</th>\n",
       "      <td>1.003205e+06</td>\n",
       "      <td>203251.000000</td>\n",
       "      <td>NaN</td>\n",
       "      <td>40.724521</td>\n",
       "      <td>-73.931580</td>\n",
       "      <td>1.382141e+09</td>\n",
       "      <td>10.000000</td>\n",
       "      <td>10.0</td>\n",
       "      <td>2.000000</td>\n",
       "    </tr>\n",
       "    <tr>\n",
       "      <th>75%</th>\n",
       "      <td>1.016823e+06</td>\n",
       "      <td>233366.000000</td>\n",
       "      <td>NaN</td>\n",
       "      <td>40.807183</td>\n",
       "      <td>-73.882430</td>\n",
       "      <td>1.382662e+09</td>\n",
       "      <td>12.000000</td>\n",
       "      <td>10.0</td>\n",
       "      <td>4.000000</td>\n",
       "    </tr>\n",
       "    <tr>\n",
       "      <th>max</th>\n",
       "      <td>1.067024e+06</td>\n",
       "      <td>271485.000000</td>\n",
       "      <td>NaN</td>\n",
       "      <td>40.911792</td>\n",
       "      <td>-73.701278</td>\n",
       "      <td>1.383210e+09</td>\n",
       "      <td>12.000000</td>\n",
       "      <td>10.0</td>\n",
       "      <td>6.000000</td>\n",
       "    </tr>\n",
       "  </tbody>\n",
       "</table>\n",
       "</div>"
      ],
      "text/plain": [
       "       X Coordinate (State Plane)  Y Coordinate (State Plane)  \\\n",
       "count                9.814300e+04                98143.000000   \n",
       "mean                 1.004544e+06               205553.153287   \n",
       "std                  2.206087e+04                31334.677543   \n",
       "min                  9.134950e+05               121152.000000   \n",
       "25%                  9.920490e+05               182506.000000   \n",
       "50%                  1.003205e+06               203251.000000   \n",
       "75%                  1.016823e+06               233366.000000   \n",
       "max                  1.067024e+06               271485.000000   \n",
       "\n",
       "       School or Citywide Complaint      Latitude     Longitude  \\\n",
       "count                           0.0  98143.000000  98143.000000   \n",
       "mean                            NaN     40.730821    -73.926738   \n",
       "std                             NaN      0.086006      0.079563   \n",
       "min                             NaN     40.498949    -74.254437   \n",
       "25%                             NaN     40.667529    -73.971882   \n",
       "50%                             NaN     40.724521    -73.931580   \n",
       "75%                             NaN     40.807183    -73.882430   \n",
       "max                             NaN     40.911792    -73.701278   \n",
       "\n",
       "       created_timestamp   created_hour  created_month    created_day  \n",
       "count       1.110690e+05  111069.000000       111069.0  111069.000000  \n",
       "mean        1.382086e+09       8.700763           10.0       2.503372  \n",
       "std         6.762386e+05       3.839348            0.0       1.832793  \n",
       "min         1.380834e+09       1.000000           10.0       0.000000  \n",
       "25%         1.381450e+09       6.000000           10.0       1.000000  \n",
       "50%         1.382141e+09      10.000000           10.0       2.000000  \n",
       "75%         1.382662e+09      12.000000           10.0       4.000000  \n",
       "max         1.383210e+09      12.000000           10.0       6.000000  "
      ]
     },
     "execution_count": 106,
     "metadata": {},
     "output_type": "execute_result"
    }
   ],
   "source": [
    "complaints.describe()"
   ]
  },
  {
   "cell_type": "code",
   "execution_count": null,
   "metadata": {
    "collapsed": true
   },
   "outputs": [],
   "source": []
  },
  {
   "cell_type": "markdown",
   "metadata": {},
   "source": [
    "We can access an individual column using square brackets. This returns a Series object, which represents a one-dimensional labelled array. In this case, the array is labelled by Unique Key. Also we can select subsets of the rows by indexing:\n"
   ]
  },
  {
   "cell_type": "code",
   "execution_count": 33,
   "metadata": {
    "collapsed": false
   },
   "outputs": [
    {
     "data": {
      "text/plain": [
       "Unique Key\n",
       "26589651    Noise - Street/Sidewalk\n",
       "26593698            Illegal Parking\n",
       "26594139         Noise - Commercial\n",
       "26595721            Noise - Vehicle\n",
       "26590930                     Rodent\n",
       "26592370         Noise - Commercial\n",
       "26595682           Blocked Driveway\n",
       "26595195         Noise - Commercial\n",
       "26590540         Noise - Commercial\n",
       "26594392         Noise - Commercial\n",
       "Name: Complaint Type, dtype: object"
      ]
     },
     "execution_count": 33,
     "metadata": {},
     "output_type": "execute_result"
    }
   ],
   "source": [
    "complaints['Complaint Type'][:10]"
   ]
  },
  {
   "cell_type": "markdown",
   "metadata": {},
   "source": [
    "However, if we select multiple columns, we get back a DataFrame:"
   ]
  },
  {
   "cell_type": "code",
   "execution_count": 34,
   "metadata": {
    "collapsed": false
   },
   "outputs": [
    {
     "data": {
      "text/html": [
       "<div>\n",
       "<table border=\"1\" class=\"dataframe\">\n",
       "  <thead>\n",
       "    <tr style=\"text-align: right;\">\n",
       "      <th></th>\n",
       "      <th>Complaint Type</th>\n",
       "      <th>Borough</th>\n",
       "    </tr>\n",
       "    <tr>\n",
       "      <th>Unique Key</th>\n",
       "      <th></th>\n",
       "      <th></th>\n",
       "    </tr>\n",
       "  </thead>\n",
       "  <tbody>\n",
       "    <tr>\n",
       "      <th>26589651</th>\n",
       "      <td>Noise - Street/Sidewalk</td>\n",
       "      <td>QUEENS</td>\n",
       "    </tr>\n",
       "    <tr>\n",
       "      <th>26593698</th>\n",
       "      <td>Illegal Parking</td>\n",
       "      <td>QUEENS</td>\n",
       "    </tr>\n",
       "    <tr>\n",
       "      <th>26594139</th>\n",
       "      <td>Noise - Commercial</td>\n",
       "      <td>MANHATTAN</td>\n",
       "    </tr>\n",
       "    <tr>\n",
       "      <th>26595721</th>\n",
       "      <td>Noise - Vehicle</td>\n",
       "      <td>MANHATTAN</td>\n",
       "    </tr>\n",
       "    <tr>\n",
       "      <th>26590930</th>\n",
       "      <td>Rodent</td>\n",
       "      <td>MANHATTAN</td>\n",
       "    </tr>\n",
       "    <tr>\n",
       "      <th>26592370</th>\n",
       "      <td>Noise - Commercial</td>\n",
       "      <td>QUEENS</td>\n",
       "    </tr>\n",
       "    <tr>\n",
       "      <th>26595682</th>\n",
       "      <td>Blocked Driveway</td>\n",
       "      <td>QUEENS</td>\n",
       "    </tr>\n",
       "    <tr>\n",
       "      <th>26595195</th>\n",
       "      <td>Noise - Commercial</td>\n",
       "      <td>QUEENS</td>\n",
       "    </tr>\n",
       "    <tr>\n",
       "      <th>26590540</th>\n",
       "      <td>Noise - Commercial</td>\n",
       "      <td>MANHATTAN</td>\n",
       "    </tr>\n",
       "    <tr>\n",
       "      <th>26594392</th>\n",
       "      <td>Noise - Commercial</td>\n",
       "      <td>BROOKLYN</td>\n",
       "    </tr>\n",
       "  </tbody>\n",
       "</table>\n",
       "</div>"
      ],
      "text/plain": [
       "                     Complaint Type    Borough\n",
       "Unique Key                                    \n",
       "26589651    Noise - Street/Sidewalk     QUEENS\n",
       "26593698            Illegal Parking     QUEENS\n",
       "26594139         Noise - Commercial  MANHATTAN\n",
       "26595721            Noise - Vehicle  MANHATTAN\n",
       "26590930                     Rodent  MANHATTAN\n",
       "26592370         Noise - Commercial     QUEENS\n",
       "26595682           Blocked Driveway     QUEENS\n",
       "26595195         Noise - Commercial     QUEENS\n",
       "26590540         Noise - Commercial  MANHATTAN\n",
       "26594392         Noise - Commercial   BROOKLYN"
      ]
     },
     "execution_count": 34,
     "metadata": {},
     "output_type": "execute_result"
    }
   ],
   "source": [
    "complaints[['Complaint Type', 'Borough']][:10]"
   ]
  },
  {
   "cell_type": "markdown",
   "metadata": {},
   "source": [
    "We can access an individual row using its index:"
   ]
  },
  {
   "cell_type": "code",
   "execution_count": 35,
   "metadata": {
    "collapsed": false
   },
   "outputs": [
    {
     "data": {
      "text/plain": [
       "Created Date                                       10/31/2013 02:08:41 AM\n",
       "Closed Date                                                           NaN\n",
       "Agency                                                               NYPD\n",
       "Agency Name                               New York City Police Department\n",
       "Complaint Type                                    Noise - Street/Sidewalk\n",
       "Descriptor                                                   Loud Talking\n",
       "Location Type                                             Street/Sidewalk\n",
       "Incident Zip                                                        11432\n",
       "Incident Address                                         90-03 169 STREET\n",
       "Street Name                                                    169 STREET\n",
       "Cross Street 1                                                  90 AVENUE\n",
       "Cross Street 2                                                  91 AVENUE\n",
       "Intersection Street 1                                                 NaN\n",
       "Intersection Street 2                                                 NaN\n",
       "Address Type                                                      ADDRESS\n",
       "City                                                              JAMAICA\n",
       "Landmark                                                              NaN\n",
       "Facility Type                                                    Precinct\n",
       "Status                                                           Assigned\n",
       "Due Date                                           10/31/2013 10:08:41 AM\n",
       "Resolution Action Updated Date                     10/31/2013 02:35:17 AM\n",
       "Community Board                                                 12 QUEENS\n",
       "Borough                                                            QUEENS\n",
       "X Coordinate (State Plane)                                    1.04203e+06\n",
       "Y Coordinate (State Plane)                                         197389\n",
       "Park Facility Name                                            Unspecified\n",
       "Park Borough                                                       QUEENS\n",
       "School Name                                                   Unspecified\n",
       "School Number                                                 Unspecified\n",
       "School Region                                                 Unspecified\n",
       "School Code                                                   Unspecified\n",
       "School Phone Number                                           Unspecified\n",
       "School Address                                                Unspecified\n",
       "School City                                                   Unspecified\n",
       "School State                                                  Unspecified\n",
       "School Zip                                                    Unspecified\n",
       "School Not Found                                                        N\n",
       "School or Citywide Complaint                                          NaN\n",
       "Vehicle Type                                                          NaN\n",
       "Taxi Company Borough                                                  NaN\n",
       "Taxi Pick Up Location                                                 NaN\n",
       "Bridge Highway Name                                                   NaN\n",
       "Bridge Highway Direction                                              NaN\n",
       "Road Ramp                                                             NaN\n",
       "Bridge Highway Segment                                                NaN\n",
       "Garage Lot Name                                                       NaN\n",
       "Ferry Direction                                                       NaN\n",
       "Ferry Terminal Name                                                   NaN\n",
       "Latitude                                                          40.7083\n",
       "Longitude                                                        -73.7916\n",
       "Location                          (40.70827532593202, -73.79160395779721)\n",
       "Name: 26589651, dtype: object"
      ]
     },
     "execution_count": 35,
     "metadata": {},
     "output_type": "execute_result"
    }
   ],
   "source": [
    "complaints.loc[26589651]"
   ]
  },
  {
   "cell_type": "markdown",
   "metadata": {},
   "source": [
    "Or by its row number:"
   ]
  },
  {
   "cell_type": "code",
   "execution_count": 36,
   "metadata": {
    "collapsed": false
   },
   "outputs": [
    {
     "data": {
      "text/plain": [
       "Created Date                                       10/31/2013 02:08:41 AM\n",
       "Closed Date                                                           NaN\n",
       "Agency                                                               NYPD\n",
       "Agency Name                               New York City Police Department\n",
       "Complaint Type                                    Noise - Street/Sidewalk\n",
       "Descriptor                                                   Loud Talking\n",
       "Location Type                                             Street/Sidewalk\n",
       "Incident Zip                                                        11432\n",
       "Incident Address                                         90-03 169 STREET\n",
       "Street Name                                                    169 STREET\n",
       "Cross Street 1                                                  90 AVENUE\n",
       "Cross Street 2                                                  91 AVENUE\n",
       "Intersection Street 1                                                 NaN\n",
       "Intersection Street 2                                                 NaN\n",
       "Address Type                                                      ADDRESS\n",
       "City                                                              JAMAICA\n",
       "Landmark                                                              NaN\n",
       "Facility Type                                                    Precinct\n",
       "Status                                                           Assigned\n",
       "Due Date                                           10/31/2013 10:08:41 AM\n",
       "Resolution Action Updated Date                     10/31/2013 02:35:17 AM\n",
       "Community Board                                                 12 QUEENS\n",
       "Borough                                                            QUEENS\n",
       "X Coordinate (State Plane)                                    1.04203e+06\n",
       "Y Coordinate (State Plane)                                         197389\n",
       "Park Facility Name                                            Unspecified\n",
       "Park Borough                                                       QUEENS\n",
       "School Name                                                   Unspecified\n",
       "School Number                                                 Unspecified\n",
       "School Region                                                 Unspecified\n",
       "School Code                                                   Unspecified\n",
       "School Phone Number                                           Unspecified\n",
       "School Address                                                Unspecified\n",
       "School City                                                   Unspecified\n",
       "School State                                                  Unspecified\n",
       "School Zip                                                    Unspecified\n",
       "School Not Found                                                        N\n",
       "School or Citywide Complaint                                          NaN\n",
       "Vehicle Type                                                          NaN\n",
       "Taxi Company Borough                                                  NaN\n",
       "Taxi Pick Up Location                                                 NaN\n",
       "Bridge Highway Name                                                   NaN\n",
       "Bridge Highway Direction                                              NaN\n",
       "Road Ramp                                                             NaN\n",
       "Bridge Highway Segment                                                NaN\n",
       "Garage Lot Name                                                       NaN\n",
       "Ferry Direction                                                       NaN\n",
       "Ferry Terminal Name                                                   NaN\n",
       "Latitude                                                          40.7083\n",
       "Longitude                                                        -73.7916\n",
       "Location                          (40.70827532593202, -73.79160395779721)\n",
       "Name: 26589651, dtype: object"
      ]
     },
     "execution_count": 36,
     "metadata": {},
     "output_type": "execute_result"
    }
   ],
   "source": [
    "complaints.iloc[0]"
   ]
  },
  {
   "cell_type": "markdown",
   "metadata": {},
   "source": [
    "Quick aside: if we don't specify an index column, then row number becomes the index column."
   ]
  },
  {
   "cell_type": "markdown",
   "metadata": {},
   "source": [
    "The value_counts method will tally up the number of times a value appears in a column, and will return a Series with the counts, in descending order. "
   ]
  },
  {
   "cell_type": "code",
   "execution_count": 37,
   "metadata": {
    "collapsed": false
   },
   "outputs": [
    {
     "data": {
      "text/plain": [
       "HEATING                   14200\n",
       "GENERAL CONSTRUCTION       7471\n",
       "Street Light Condition     7117\n",
       "DOF Literature Request     5797\n",
       "PLUMBING                   5373\n",
       "PAINT - PLASTER            5149\n",
       "Blocked Driveway           4590\n",
       "NONCONST                   3998\n",
       "Street Condition           3473\n",
       "Illegal Parking            3343\n",
       "Name: Complaint Type, dtype: int64"
      ]
     },
     "execution_count": 37,
     "metadata": {},
     "output_type": "execute_result"
    }
   ],
   "source": [
    "complaints['Complaint Type'].value_counts()[:10]"
   ]
  },
  {
   "cell_type": "markdown",
   "metadata": {},
   "source": [
    "## Pandas visualization"
   ]
  },
  {
   "cell_type": "markdown",
   "metadata": {},
   "source": [
    "We can also do some plotting of the data without much effort:"
   ]
  },
  {
   "cell_type": "code",
   "execution_count": 26,
   "metadata": {
    "collapsed": true
   },
   "outputs": [],
   "source": [
    "%matplotlib inline\n",
    "import matplotlib.pyplot as plt"
   ]
  },
  {
   "cell_type": "markdown",
   "metadata": {},
   "source": []
  },
  {
   "cell_type": "code",
   "execution_count": 27,
   "metadata": {
    "collapsed": false
   },
   "outputs": [
    {
     "data": {
      "text/plain": [
       "<matplotlib.axes._subplots.AxesSubplot at 0x109f65630>"
      ]
     },
     "execution_count": 27,
     "metadata": {},
     "output_type": "execute_result"
    },
    {
     "data": {
      "image/png": "[encoded data removed]",
      "text/plain": [
       "<matplotlib.figure.Figure at 0x1089a5860>"
      ]
     },
     "metadata": {},
     "output_type": "display_data"
    }
   ],
   "source": [
    "ctcounts[:10].plot(\"bar\")"
   ]
  },
  {
   "cell_type": "markdown",
   "metadata": {},
   "source": []
  },
  {
   "cell_type": "code",
   "execution_count": 105,
   "metadata": {
    "collapsed": false
   },
   "outputs": [
    {
     "data": {
      "text/plain": [
       "<matplotlib.axes._subplots.AxesSubplot at 0x10ca32ac8>"
      ]
     },
     "execution_count": 105,
     "metadata": {},
     "output_type": "execute_result"
    },
    {
     "data": {
      "image/png": "[encoded data removed]",
      "text/plain": [
       "<matplotlib.figure.Figure at 0x10ca32b00>"
      ]
     },
     "metadata": {},
     "output_type": "display_data"
    }
   ],
   "source": [
    "complaints['created_hour'].plot('hist', bins=50)"
   ]
  },
  {
   "cell_type": "code",
   "execution_count": 29,
   "metadata": {
    "collapsed": false
   },
   "outputs": [
    {
     "data": {
      "text/plain": [
       "<matplotlib.axes._subplots.AxesSubplot at 0x10bc2f4e0>"
      ]
     },
     "execution_count": 29,
     "metadata": {},
     "output_type": "execute_result"
    },
    {
     "data": {
      "image/png": "[encoded data removed]",
      "text/plain": [
       "<matplotlib.figure.Figure at 0x10a6e24a8>"
      ]
     },
     "metadata": {},
     "output_type": "display_data"
    }
   ],
   "source": [
    "complaints.plot(kind='scatter', x='Longitude', y='Latitude')"
   ]
  },
  {
   "cell_type": "markdown",
   "metadata": {},
   "source": [
    "## Exersices"
   ]
  },
  {
   "cell_type": "markdown",
   "metadata": {},
   "source": [
    "How can we find the earliest created date in DataFrame?"
   ]
  },
  {
   "cell_type": "code",
   "execution_count": 86,
   "metadata": {
    "collapsed": false
   },
   "outputs": [
    {
     "data": {
      "text/plain": [
       "'10/04/2013 01:00:00 PM'"
      ]
     },
     "execution_count": 86,
     "metadata": {},
     "output_type": "execute_result"
    }
   ],
   "source": [
    "complaints['Created Date'].min()"
   ]
  },
  {
   "cell_type": "markdown",
   "metadata": {},
   "source": [
    "How can we find the latest created date in DataFrame?"
   ]
  },
  {
   "cell_type": "code",
   "execution_count": null,
   "metadata": {
    "collapsed": true
   },
   "outputs": [],
   "source": [
    "complaints['Created Date'].max()"
   ]
  },
  {
   "cell_type": "markdown",
   "metadata": {},
   "source": [
    "How can we print just the column containing street names?"
   ]
  },
  {
   "cell_type": "code",
   "execution_count": 115,
   "metadata": {
    "collapsed": false
   },
   "outputs": [
    {
     "data": {
      "text/plain": [
       "Unique Key\n",
       "26589651         169 STREET\n",
       "26593698          58 AVENUE\n",
       "26594139           BROADWAY\n",
       "26595721     WEST 72 STREET\n",
       "26590930    WEST 124 STREET\n",
       "Name: Street Name, dtype: object"
      ]
     },
     "execution_count": 115,
     "metadata": {},
     "output_type": "execute_result"
    }
   ],
   "source": [
    "complaints['Street Name'][:5]"
   ]
  },
  {
   "cell_type": "markdown",
   "metadata": {},
   "source": [
    "How can we get a list of the location types in the DataFrame, without duplicates?"
   ]
  },
  {
   "cell_type": "code",
   "execution_count": null,
   "metadata": {
    "collapsed": true
   },
   "outputs": [],
   "source": [
    "complaints['Location Type'].unique()"
   ]
  },
  {
   "cell_type": "markdown",
   "metadata": {},
   "source": [
    "What is the largest NYC Agency responsible for complaints?"
   ]
  },
  {
   "cell_type": "code",
   "execution_count": 116,
   "metadata": {
    "collapsed": false
   },
   "outputs": [
    {
     "data": {
      "text/plain": [
       "Department of Housing Preservation and Development    39067\n",
       "Name: Agency Name, dtype: int64"
      ]
     },
     "execution_count": 116,
     "metadata": {},
     "output_type": "execute_result"
    }
   ],
   "source": [
    "complaints['Agency Name'].value_counts()[:1]"
   ]
  },
  {
   "cell_type": "markdown",
   "metadata": {},
   "source": [
    "How can we compute number of complaints per hour?"
   ]
  },
  {
   "cell_type": "code",
   "execution_count": null,
   "metadata": {
    "collapsed": true
   },
   "outputs": [],
   "source": [
    "complaints['created_hour'].value_counts()"
   ]
  },
  {
   "cell_type": "markdown",
   "metadata": {},
   "source": [
    "How can we compute a Boolean array indicating whether the Agency is 'DEP'?"
   ]
  },
  {
   "cell_type": "code",
   "execution_count": 117,
   "metadata": {
    "collapsed": false
   },
   "outputs": [
    {
     "data": {
      "text/plain": [
       "Unique Key\n",
       "26589651    False\n",
       "26593698    False\n",
       "26594139    False\n",
       "26595721    False\n",
       "26590930    False\n",
       "26592370    False\n",
       "26595682    False\n",
       "26595195    False\n",
       "26590540    False\n",
       "26594392    False\n",
       "26595176    False\n",
       "26591982    False\n",
       "26594169    False\n",
       "26594391    False\n",
       "26590917    False\n",
       "26591458    False\n",
       "26594086    False\n",
       "26595117    False\n",
       "26590389    False\n",
       "26594210    False\n",
       "26592932    False\n",
       "26594152    False\n",
       "26589678    False\n",
       "26592304    False\n",
       "26591892    False\n",
       "26591573    False\n",
       "26590509    False\n",
       "26591379    False\n",
       "26594085    False\n",
       "26589201    False\n",
       "            ...  \n",
       "26428764    False\n",
       "26426166    False\n",
       "26438565     True\n",
       "26428990    False\n",
       "26432659    False\n",
       "26426096    False\n",
       "26437764     True\n",
       "26436286     True\n",
       "26428989    False\n",
       "26430030    False\n",
       "26429663    False\n",
       "26437763     True\n",
       "26432955    False\n",
       "26437035     True\n",
       "26433197    False\n",
       "26426060    False\n",
       "26430628    False\n",
       "26431648    False\n",
       "26437034     True\n",
       "26426094    False\n",
       "26429040    False\n",
       "26434084     True\n",
       "26426164    False\n",
       "26439710     True\n",
       "26435569     True\n",
       "26426013    False\n",
       "26428083    False\n",
       "26428987    False\n",
       "26426115    False\n",
       "26428033    False\n",
       "Name: Agency, dtype: bool"
      ]
     },
     "execution_count": 117,
     "metadata": {},
     "output_type": "execute_result"
    }
   ],
   "source": [
    "complaints['Agency'] == 'DEP'"
   ]
  },
  {
   "cell_type": "markdown",
   "metadata": {},
   "source": [
    "complaints['created_hour'].value_counts()"
   ]
  },
  {
   "cell_type": "markdown",
   "metadata": {},
   "source": [
    "How can we create a new DataFrame containing only the 'DEP' records? Print 5 last rows of this new DataFrame"
   ]
  },
  {
   "cell_type": "markdown",
   "metadata": {},
   "source": [
    "df_new = complaints[complaints['Agency'] == 'DEP']\n",
    "df_new.tail()"
   ]
  },
  {
   "cell_type": "markdown",
   "metadata": {},
   "source": [
    "How can we use row and column indexing to set the status to closed in the second row of DataFrame?"
   ]
  },
  {
   "cell_type": "markdown",
   "metadata": {},
   "source": [
    "df_new.loc[2, 'Status'] = 'Closed'"
   ]
  },
  {
   "cell_type": "markdown",
   "metadata": {},
   "source": [
    "How can we use row and column indexing to append a new record for DataFrame with 'DEP'?"
   ]
  },
  {
   "cell_type": "markdown",
   "metadata": {},
   "source": [
    "df_new.loc[2, 'Status'] = 'Closed'"
   ]
  },
  {
   "cell_type": "markdown",
   "metadata": {},
   "source": [
    "How can we print the DataFrame, sorted by Status and by Complaint type?"
   ]
  },
  {
   "cell_type": "markdown",
   "metadata": {},
   "source": [
    "complaints.sort_values(by=['Status', 'Complaint Type'])"
   ]
  },
  {
   "cell_type": "markdown",
   "metadata": {},
   "source": [
    "How can we find the boroughs with most complaints about illegal parking at 9am?"
   ]
  },
  {
   "cell_type": "markdown",
   "metadata": {},
   "source": [
    "This solution uses an & operator to set two conditions that must both be met:"
   ]
  },
  {
   "cell_type": "markdown",
   "metadata": {},
   "source": [
    "complaints['Borough'][(complaints['Complaint Type'] == 'Illegal Parking') & (complaints['created_hour'] == 9)].value_counts()"
   ]
  },
  {
   "cell_type": "markdown",
   "metadata": {},
   "source": [
    "To see the size of DataFrame\n",
    "\n",
    "complaints.shape\n",
    "\n",
    "Print all DataFrame columns\n",
    "\n",
    "complaints.columns\n",
    "\n",
    "complaints.dtypes"
   ]
  }
 ],
 "metadata": {
  "kernelspec": {
   "display_name": "Python 3",
   "language": "python",
   "name": "python3"
  },
  "language_info": {
   "codemirror_mode": {
    "name": "ipython",
    "version": 3
   },
   "file_extension": ".py",
   "mimetype": "text/x-python",
   "name": "python",
   "nbconvert_exporter": "python",
   "pygments_lexer": "ipython3",
   "version": "3.4.4rc1"
  }
 },
 "nbformat": 4,
 "nbformat_minor": 1
}
