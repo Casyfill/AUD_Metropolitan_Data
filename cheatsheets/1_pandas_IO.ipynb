{
 "cells": [
  {
   "cell_type": "code",
   "execution_count": 1,
   "metadata": {
    "collapsed": false
   },
   "outputs": [],
   "source": [
    "# matplotlib is the basic plotting (graphical) library, it is very old and poverfull, but \n",
    "# also too complicated sometimes.\n",
    "%matplotlib inline \n",
    "### this is jupyter \"magic\" command that lets matplotlib to add plots (graphics) to the notebook\n",
    "### if you want, try `%matplotlib notebook` instead, it will add some interactivity to the plot"
   ]
  },
  {
   "cell_type": "code",
   "execution_count": 4,
   "metadata": {
    "collapsed": true
   },
   "outputs": [],
   "source": [
    "import pylab as plt\n",
    "### actually pylab is also part of the matplotlib, but this time we import it as an object to work with."
   ]
  },
  {
   "cell_type": "code",
   "execution_count": 2,
   "metadata": {
    "collapsed": true
   },
   "outputs": [],
   "source": [
    "## lets import pandas\n",
    "## we use \"pd\" as an alias - you don't have to, but it is popular convention, and also much faster to write\n",
    "## you can use this instead:\n",
    "## import pandas\n",
    "## import pandas as whatever_I_want\n",
    "import pandas as pd\n",
    "\n",
    "# by the way, all above is a common \"boilerplate code\", by which I mean standart piece of the code \n",
    "# that you can find everywhere, sometimes even if I don't need those modules"
   ]
  },
  {
   "cell_type": "markdown",
   "metadata": {},
   "source": [
    "## Reading data from CSV"
   ]
  },
  {
   "cell_type": "markdown",
   "metadata": {},
   "source": [
    "usually you start reading data as a dataframe (that represents a table in \"Excel\" terms)\n",
    "lets try the csv first\n",
    "\n",
    "this is a first 30 rows (plus header) of the 201607-citibike-tripdata.csv, which you can find [here](https://s3.amazonaws.com/tripdata/index.html)\n",
    "by the way, this file was created with the following bash pipe:\n",
    "`head -n 31 201607-citibike-tripdata.csv >> 201601-citibike-tripdata_first_30.csv`"
   ]
  },
  {
   "cell_type": "code",
   "execution_count": 5,
   "metadata": {
    "collapsed": false
   },
   "outputs": [],
   "source": [
    "df = pd.read_csv('../l2/data/201601-citibike-tripdata_first_30.csv') # file sits in the l2/data folder"
   ]
  },
  {
   "cell_type": "code",
   "execution_count": 6,
   "metadata": {
    "collapsed": false
   },
   "outputs": [
    {
     "name": "stdout",
     "output_type": "stream",
     "text": [
      "There are 30 rows in the dataset\n"
     ]
    }
   ],
   "source": [
    "#how many rows dataset contains?\n",
    "print('There are {} rows in the dataset'.format(len(df)))"
   ]
  },
  {
   "cell_type": "code",
   "execution_count": 7,
   "metadata": {
    "collapsed": false
   },
   "outputs": [
    {
     "name": "stdout",
     "output_type": "stream",
     "text": [
      "There are 15 columns in the dataset\n"
     ]
    }
   ],
   "source": [
    "#how many columns dataset contains?\n",
    "print('There are {} columns in the dataset'.format(len(df.columns)))"
   ]
  },
  {
   "cell_type": "code",
   "execution_count": 8,
   "metadata": {
    "collapsed": false
   },
   "outputs": [
    {
     "data": {
      "text/plain": [
       "(30, 15)"
      ]
     },
     "execution_count": 8,
     "metadata": {},
     "output_type": "execute_result"
    }
   ],
   "source": [
    "## can I get both at the same time?\n",
    "df.shape"
   ]
  },
  {
   "cell_type": "code",
   "execution_count": 11,
   "metadata": {
    "collapsed": false
   },
   "outputs": [
    {
     "data": {
      "text/html": [
       "<div>\n",
       "<table border=\"1\" class=\"dataframe\">\n",
       "  <thead>\n",
       "    <tr style=\"text-align: right;\">\n",
       "      <th></th>\n",
       "      <th>tripduration</th>\n",
       "      <th>starttime</th>\n",
       "      <th>stoptime</th>\n",
       "      <th>start station id</th>\n",
       "      <th>start station name</th>\n",
       "      <th>start station latitude</th>\n",
       "      <th>start station longitude</th>\n",
       "      <th>end station id</th>\n",
       "      <th>end station name</th>\n",
       "      <th>end station latitude</th>\n",
       "      <th>end station longitude</th>\n",
       "      <th>bikeid</th>\n",
       "      <th>usertype</th>\n",
       "      <th>birth year</th>\n",
       "      <th>gender</th>\n",
       "    </tr>\n",
       "  </thead>\n",
       "  <tbody>\n",
       "    <tr>\n",
       "      <th>0</th>\n",
       "      <td>704</td>\n",
       "      <td>7/1/2016 00:00:02</td>\n",
       "      <td>7/1/2016 00:11:47</td>\n",
       "      <td>459</td>\n",
       "      <td>W 20 St &amp; 11 Ave</td>\n",
       "      <td>40.746745</td>\n",
       "      <td>-74.007756</td>\n",
       "      <td>347</td>\n",
       "      <td>Greenwich St &amp; W Houston St</td>\n",
       "      <td>40.728846</td>\n",
       "      <td>-74.008591</td>\n",
       "      <td>17431</td>\n",
       "      <td>Customer</td>\n",
       "      <td>NaN</td>\n",
       "      <td>0</td>\n",
       "    </tr>\n",
       "    <tr>\n",
       "      <th>1</th>\n",
       "      <td>492</td>\n",
       "      <td>7/1/2016 00:00:18</td>\n",
       "      <td>7/1/2016 00:08:31</td>\n",
       "      <td>293</td>\n",
       "      <td>Lafayette St &amp; E 8 St</td>\n",
       "      <td>40.730287</td>\n",
       "      <td>-73.990765</td>\n",
       "      <td>466</td>\n",
       "      <td>W 25 St &amp; 6 Ave</td>\n",
       "      <td>40.743954</td>\n",
       "      <td>-73.991449</td>\n",
       "      <td>24159</td>\n",
       "      <td>Subscriber</td>\n",
       "      <td>1984.0</td>\n",
       "      <td>1</td>\n",
       "    </tr>\n",
       "  </tbody>\n",
       "</table>\n",
       "</div>"
      ],
      "text/plain": [
       "   tripduration          starttime           stoptime  start station id  \\\n",
       "0           704  7/1/2016 00:00:02  7/1/2016 00:11:47               459   \n",
       "1           492  7/1/2016 00:00:18  7/1/2016 00:08:31               293   \n",
       "\n",
       "      start station name  start station latitude  start station longitude  \\\n",
       "0       W 20 St & 11 Ave               40.746745               -74.007756   \n",
       "1  Lafayette St & E 8 St               40.730287               -73.990765   \n",
       "\n",
       "   end station id             end station name  end station latitude  \\\n",
       "0             347  Greenwich St & W Houston St             40.728846   \n",
       "1             466              W 25 St & 6 Ave             40.743954   \n",
       "\n",
       "   end station longitude  bikeid    usertype  birth year  gender  \n",
       "0             -74.008591   17431    Customer         NaN       0  \n",
       "1             -73.991449   24159  Subscriber      1984.0       1  "
      ]
     },
     "execution_count": 11,
     "metadata": {},
     "output_type": "execute_result"
    }
   ],
   "source": [
    "#can I take a look at the dataset?\n",
    "df.head(2) # number of rows"
   ]
  },
  {
   "cell_type": "code",
   "execution_count": 12,
   "metadata": {
    "collapsed": false
   },
   "outputs": [
    {
     "data": {
      "text/html": [
       "<div>\n",
       "<table border=\"1\" class=\"dataframe\">\n",
       "  <thead>\n",
       "    <tr style=\"text-align: right;\">\n",
       "      <th></th>\n",
       "      <th>tripduration</th>\n",
       "      <th>starttime</th>\n",
       "      <th>stoptime</th>\n",
       "      <th>start station id</th>\n",
       "      <th>start station name</th>\n",
       "      <th>start station latitude</th>\n",
       "      <th>start station longitude</th>\n",
       "      <th>end station id</th>\n",
       "      <th>end station name</th>\n",
       "      <th>end station latitude</th>\n",
       "      <th>end station longitude</th>\n",
       "      <th>bikeid</th>\n",
       "      <th>usertype</th>\n",
       "      <th>birth year</th>\n",
       "      <th>gender</th>\n",
       "    </tr>\n",
       "  </thead>\n",
       "  <tbody>\n",
       "    <tr>\n",
       "      <th>28</th>\n",
       "      <td>209</td>\n",
       "      <td>7/1/2016 00:02:31</td>\n",
       "      <td>7/1/2016 00:06:01</td>\n",
       "      <td>410</td>\n",
       "      <td>Suffolk St &amp; Stanton St</td>\n",
       "      <td>40.720664</td>\n",
       "      <td>-73.985180</td>\n",
       "      <td>473</td>\n",
       "      <td>Rivington St &amp; Chrystie St</td>\n",
       "      <td>40.721101</td>\n",
       "      <td>-73.991925</td>\n",
       "      <td>25845</td>\n",
       "      <td>Subscriber</td>\n",
       "      <td>1984.0</td>\n",
       "      <td>1</td>\n",
       "    </tr>\n",
       "    <tr>\n",
       "      <th>29</th>\n",
       "      <td>492</td>\n",
       "      <td>7/1/2016 00:02:32</td>\n",
       "      <td>7/1/2016 00:10:44</td>\n",
       "      <td>481</td>\n",
       "      <td>S 3 St &amp; Bedford Ave</td>\n",
       "      <td>40.712605</td>\n",
       "      <td>-73.962644</td>\n",
       "      <td>3109</td>\n",
       "      <td>Banker St &amp; Meserole Ave</td>\n",
       "      <td>40.726060</td>\n",
       "      <td>-73.956210</td>\n",
       "      <td>23648</td>\n",
       "      <td>Subscriber</td>\n",
       "      <td>1991.0</td>\n",
       "      <td>2</td>\n",
       "    </tr>\n",
       "  </tbody>\n",
       "</table>\n",
       "</div>"
      ],
      "text/plain": [
       "    tripduration          starttime           stoptime  start station id  \\\n",
       "28           209  7/1/2016 00:02:31  7/1/2016 00:06:01               410   \n",
       "29           492  7/1/2016 00:02:32  7/1/2016 00:10:44               481   \n",
       "\n",
       "         start station name  start station latitude  start station longitude  \\\n",
       "28  Suffolk St & Stanton St               40.720664               -73.985180   \n",
       "29     S 3 St & Bedford Ave               40.712605               -73.962644   \n",
       "\n",
       "    end station id            end station name  end station latitude  \\\n",
       "28             473  Rivington St & Chrystie St             40.721101   \n",
       "29            3109    Banker St & Meserole Ave             40.726060   \n",
       "\n",
       "    end station longitude  bikeid    usertype  birth year  gender  \n",
       "28             -73.991925   25845  Subscriber      1984.0       1  \n",
       "29             -73.956210   23648  Subscriber      1991.0       2  "
      ]
     },
     "execution_count": 12,
     "metadata": {},
     "output_type": "execute_result"
    }
   ],
   "source": [
    "#tail?\n",
    "df.tail(2)"
   ]
  },
  {
   "cell_type": "markdown",
   "metadata": {},
   "source": [
    "## Excel"
   ]
  },
  {
   "cell_type": "code",
   "execution_count": null,
   "metadata": {
    "collapsed": true
   },
   "outputs": [],
   "source": [
    "#you can read files from excel with the similar function\n",
    "# df = pd.read_excel('path')"
   ]
  },
  {
   "cell_type": "markdown",
   "metadata": {},
   "source": [
    "## Reading from the web"
   ]
  },
  {
   "cell_type": "code",
   "execution_count": 14,
   "metadata": {
    "collapsed": true
   },
   "outputs": [],
   "source": [
    "# you can also read data from the web - just replace path with the url. \n",
    "# this is usefull if you want to get the most recent data.\n",
    "# for example, you can publish data in google spreadsheet and\n",
    "# publish it as csv (File>Publish), then load it as an ordinary csv, take a look:"
   ]
  },
  {
   "cell_type": "markdown",
   "metadata": {},
   "source": [
    "![](https://www.dropbox.com/s/m8ib8fytvzv3r87/Screenshot%202017-03-25%2020.12.00.png?raw=1)"
   ]
  },
  {
   "cell_type": "code",
   "execution_count": 15,
   "metadata": {
    "collapsed": true
   },
   "outputs": [],
   "source": [
    "## Reading from the web\n",
    "link = 'https://docs.google.com/spreadsheets/d/1L6pro6_4y5hT7SybHnbnh0YZYFjLLTVANxXY7ws_gf4/pub?gid=0&single=true&output=csv'\n",
    "cities = pd.read_csv(link)"
   ]
  },
  {
   "cell_type": "code",
   "execution_count": 16,
   "metadata": {
    "collapsed": false
   },
   "outputs": [
    {
     "data": {
      "text/html": [
       "<div>\n",
       "<table border=\"1\" class=\"dataframe\">\n",
       "  <thead>\n",
       "    <tr style=\"text-align: right;\">\n",
       "      <th></th>\n",
       "      <th>City</th>\n",
       "      <th>population</th>\n",
       "      <th>Country</th>\n",
       "      <th>Capital</th>\n",
       "    </tr>\n",
       "  </thead>\n",
       "  <tbody>\n",
       "    <tr>\n",
       "      <th>0</th>\n",
       "      <td>Moscow</td>\n",
       "      <td>11,000,000.00</td>\n",
       "      <td>Russia</td>\n",
       "      <td>True</td>\n",
       "    </tr>\n",
       "    <tr>\n",
       "      <th>1</th>\n",
       "      <td>New York</td>\n",
       "      <td>8,000,000.00</td>\n",
       "      <td>US</td>\n",
       "      <td>False</td>\n",
       "    </tr>\n",
       "    <tr>\n",
       "      <th>2</th>\n",
       "      <td>Washington D.C.</td>\n",
       "      <td>653,000.00</td>\n",
       "      <td>US</td>\n",
       "      <td>True</td>\n",
       "    </tr>\n",
       "    <tr>\n",
       "      <th>3</th>\n",
       "      <td>New Delhi</td>\n",
       "      <td>18,980,000.00</td>\n",
       "      <td>India</td>\n",
       "      <td>True</td>\n",
       "    </tr>\n",
       "  </tbody>\n",
       "</table>\n",
       "</div>"
      ],
      "text/plain": [
       "              City     population Country Capital\n",
       "0           Moscow  11,000,000.00  Russia    True\n",
       "1         New York   8,000,000.00      US   False\n",
       "2  Washington D.C.     653,000.00      US    True\n",
       "3        New Delhi  18,980,000.00   India    True"
      ]
     },
     "execution_count": 16,
     "metadata": {},
     "output_type": "execute_result"
    }
   ],
   "source": [
    "cities"
   ]
  },
  {
   "cell_type": "markdown",
   "metadata": {},
   "source": [
    "## Reading from Json"
   ]
  },
  {
   "cell_type": "markdown",
   "metadata": {},
   "source": [
    "now, you CAN read data from json into the dataframe, but there are limitations,\n",
    "as DataFrame structure works only with the information that can be viewed as a table (think of a list of similarly-structured objects. Each of them then will be presented as a row in the table)\n",
    "\n"
   ]
  },
  {
   "cell_type": "markdown",
   "metadata": {},
   "source": [
    "Let me use live stream of data from NYC Citibike."
   ]
  },
  {
   "cell_type": "code",
   "execution_count": 31,
   "metadata": {
    "collapsed": true
   },
   "outputs": [],
   "source": [
    "link = 'https://gbfs.citibikenyc.com/gbfs/en/station_status.json'\n",
    "# here, we have to drill down to \"stations\" to get \"table-styled\" data, so we cant\n",
    "# simply pass the link to pandas"
   ]
  },
  {
   "cell_type": "code",
   "execution_count": 39,
   "metadata": {
    "collapsed": false
   },
   "outputs": [],
   "source": [
    "from urllib import request # reads data from the url\n",
    "import json # parses and stores json data"
   ]
  },
  {
   "cell_type": "code",
   "execution_count": 40,
   "metadata": {
    "collapsed": false
   },
   "outputs": [
    {
     "data": {
      "text/plain": [
       "dict_keys(['last_updated', 'ttl', 'data'])"
      ]
     },
     "execution_count": 40,
     "metadata": {},
     "output_type": "execute_result"
    }
   ],
   "source": [
    "data = json.load(request.urlopen(link))\n",
    "data.keys()"
   ]
  },
  {
   "cell_type": "code",
   "execution_count": 42,
   "metadata": {
    "collapsed": false
   },
   "outputs": [
    {
     "name": "stdout",
     "output_type": "stream",
     "text": [
      "There are 664 stations in the dataset\n"
     ]
    }
   ],
   "source": [
    "print('There are {} stations in the dataset'.format(len(data['data']['stations'])))"
   ]
  },
  {
   "cell_type": "code",
   "execution_count": 43,
   "metadata": {
    "collapsed": false
   },
   "outputs": [
    {
     "data": {
      "text/plain": [
       "{'eightd_has_available_keys': False,\n",
       " 'is_installed': 1,\n",
       " 'is_renting': 1,\n",
       " 'is_returning': 1,\n",
       " 'last_reported': 1490486677,\n",
       " 'num_bikes_available': 13,\n",
       " 'num_bikes_disabled': 0,\n",
       " 'num_docks_available': 26,\n",
       " 'num_docks_disabled': 0,\n",
       " 'station_id': '72'}"
      ]
     },
     "execution_count": 43,
     "metadata": {},
     "output_type": "execute_result"
    }
   ],
   "source": [
    "data['data']['stations'][0]"
   ]
  },
  {
   "cell_type": "code",
   "execution_count": 44,
   "metadata": {
    "collapsed": false
   },
   "outputs": [],
   "source": [
    "# now we have the data already - just as a list of dictionaries.\n",
    "# lets convert it to the dataframe\n",
    "stations = pd.DataFrame(data['data']['stations'])"
   ]
  },
  {
   "cell_type": "code",
   "execution_count": 45,
   "metadata": {
    "collapsed": false
   },
   "outputs": [
    {
     "data": {
      "text/html": [
       "<div>\n",
       "<table border=\"1\" class=\"dataframe\">\n",
       "  <thead>\n",
       "    <tr style=\"text-align: right;\">\n",
       "      <th></th>\n",
       "      <th>eightd_has_available_keys</th>\n",
       "      <th>is_installed</th>\n",
       "      <th>is_renting</th>\n",
       "      <th>is_returning</th>\n",
       "      <th>last_reported</th>\n",
       "      <th>num_bikes_available</th>\n",
       "      <th>num_bikes_disabled</th>\n",
       "      <th>num_docks_available</th>\n",
       "      <th>num_docks_disabled</th>\n",
       "      <th>station_id</th>\n",
       "    </tr>\n",
       "  </thead>\n",
       "  <tbody>\n",
       "    <tr>\n",
       "      <th>0</th>\n",
       "      <td>False</td>\n",
       "      <td>1</td>\n",
       "      <td>1</td>\n",
       "      <td>1</td>\n",
       "      <td>1490486677</td>\n",
       "      <td>13</td>\n",
       "      <td>0</td>\n",
       "      <td>26</td>\n",
       "      <td>0</td>\n",
       "      <td>72</td>\n",
       "    </tr>\n",
       "    <tr>\n",
       "      <th>1</th>\n",
       "      <td>False</td>\n",
       "      <td>1</td>\n",
       "      <td>1</td>\n",
       "      <td>1</td>\n",
       "      <td>1490486168</td>\n",
       "      <td>31</td>\n",
       "      <td>1</td>\n",
       "      <td>1</td>\n",
       "      <td>0</td>\n",
       "      <td>79</td>\n",
       "    </tr>\n",
       "    <tr>\n",
       "      <th>2</th>\n",
       "      <td>False</td>\n",
       "      <td>1</td>\n",
       "      <td>1</td>\n",
       "      <td>1</td>\n",
       "      <td>1490487357</td>\n",
       "      <td>3</td>\n",
       "      <td>0</td>\n",
       "      <td>24</td>\n",
       "      <td>0</td>\n",
       "      <td>82</td>\n",
       "    </tr>\n",
       "  </tbody>\n",
       "</table>\n",
       "</div>"
      ],
      "text/plain": [
       "  eightd_has_available_keys  is_installed  is_renting  is_returning  \\\n",
       "0                     False             1           1             1   \n",
       "1                     False             1           1             1   \n",
       "2                     False             1           1             1   \n",
       "\n",
       "   last_reported  num_bikes_available  num_bikes_disabled  \\\n",
       "0     1490486677                   13                   0   \n",
       "1     1490486168                   31                   1   \n",
       "2     1490487357                    3                   0   \n",
       "\n",
       "   num_docks_available  num_docks_disabled station_id  \n",
       "0                   26                   0         72  \n",
       "1                    1                   0         79  \n",
       "2                   24                   0         82  "
      ]
     },
     "execution_count": 45,
     "metadata": {},
     "output_type": "execute_result"
    }
   ],
   "source": [
    "stations.head(3)"
   ]
  },
  {
   "cell_type": "markdown",
   "metadata": {},
   "source": [
    "## Reading from the database"
   ]
  },
  {
   "cell_type": "markdown",
   "metadata": {},
   "source": [
    "Now, pandas makes it very easy to get data from the database.\n",
    "in this case we will use cartodb service as a web-based POSTGRESQL database, using special wrapper function.\n",
    "it is not exactly how you usually acces databases, but pretty similar"
   ]
  },
  {
   "cell_type": "code",
   "execution_count": 108,
   "metadata": {
    "collapsed": false
   },
   "outputs": [],
   "source": [
    "from urllib.parse import urlencode # that converts dictionary to the set of url-encoded params\n",
    "\n",
    "\n",
    "def myQueryCartoDB(query='SELECT * FROM nyc_discharge_2013 LIMIT 3', user='casyfill'):\n",
    "    '''this function reads data from cartodb service. dataset need to be \"public\" '''\n",
    "    source = 'http://{user}.cartodb.com/api/v2/sql'.format(user = user)\n",
    "    \n",
    "    params = { 'q':query, \n",
    "                'format': 'CSV'} # we will discuss other formats in a while\n",
    "    link = \"?\".join([source, urlencode(params)])\n",
    "    \n",
    "    return pd.read_csv(link) "
   ]
  },
  {
   "cell_type": "code",
   "execution_count": 109,
   "metadata": {
    "collapsed": false
   },
   "outputs": [],
   "source": [
    "df = myQueryCartoDB(query = 'SELECT adres, admarea, global_id,  soor, vyvad from mosplus01 LIMIT 4', \n",
    "                    user='pbk236') # my nyu login"
   ]
  },
  {
   "cell_type": "code",
   "execution_count": 110,
   "metadata": {
    "collapsed": false
   },
   "outputs": [
    {
     "data": {
      "text/html": [
       "<div>\n",
       "<table border=\"1\" class=\"dataframe\">\n",
       "  <thead>\n",
       "    <tr style=\"text-align: right;\">\n",
       "      <th></th>\n",
       "      <th>adres</th>\n",
       "      <th>admarea</th>\n",
       "      <th>global_id</th>\n",
       "      <th>soor</th>\n",
       "      <th>vyvad</th>\n",
       "    </tr>\n",
       "  </thead>\n",
       "  <tbody>\n",
       "    <tr>\n",
       "      <th>0</th>\n",
       "      <td>2-я улица Синичкина, дом 4, строение 13</td>\n",
       "      <td>Юго-Восточный административный округ</td>\n",
       "      <td>21041147</td>\n",
       "      <td>Строение</td>\n",
       "      <td>адрес утвержден распорядительным документом</td>\n",
       "    </tr>\n",
       "    <tr>\n",
       "      <th>1</th>\n",
       "      <td>улица Лётчика Бабушкина, владение 21А</td>\n",
       "      <td>Северо-Восточный административный округ</td>\n",
       "      <td>20840549</td>\n",
       "      <td>Строение</td>\n",
       "      <td>адрес утвержден распорядительным документом</td>\n",
       "    </tr>\n",
       "    <tr>\n",
       "      <th>2</th>\n",
       "      <td>улица Достоевского, дом 23</td>\n",
       "      <td>Центральный административный округ</td>\n",
       "      <td>21194382</td>\n",
       "      <td>Строение</td>\n",
       "      <td>адрес утвержден распорядительным документом</td>\n",
       "    </tr>\n",
       "    <tr>\n",
       "      <th>3</th>\n",
       "      <td>улица Шумкина, дом 5</td>\n",
       "      <td>Восточный административный округ</td>\n",
       "      <td>20885523</td>\n",
       "      <td>Строение</td>\n",
       "      <td>адрес утвержден распорядительным документом</td>\n",
       "    </tr>\n",
       "  </tbody>\n",
       "</table>\n",
       "</div>"
      ],
      "text/plain": [
       "                                     adres  \\\n",
       "0  2-я улица Синичкина, дом 4, строение 13   \n",
       "1    улица Лётчика Бабушкина, владение 21А   \n",
       "2               улица Достоевского, дом 23   \n",
       "3                     улица Шумкина, дом 5   \n",
       "\n",
       "                                   admarea  global_id      soor  \\\n",
       "0     Юго-Восточный административный округ   21041147  Строение   \n",
       "1  Северо-Восточный административный округ   20840549  Строение   \n",
       "2       Центральный административный округ   21194382  Строение   \n",
       "3         Восточный административный округ   20885523  Строение   \n",
       "\n",
       "                                         vyvad  \n",
       "0  адрес утвержден распорядительным документом  \n",
       "1  адрес утвержден распорядительным документом  \n",
       "2  адрес утвержден распорядительным документом  \n",
       "3  адрес утвержден распорядительным документом  "
      ]
     },
     "execution_count": 110,
     "metadata": {},
     "output_type": "execute_result"
    }
   ],
   "source": [
    "df"
   ]
  },
  {
   "cell_type": "markdown",
   "metadata": {},
   "source": [
    "# Storing the data"
   ]
  },
  {
   "cell_type": "code",
   "execution_count": 111,
   "metadata": {
    "collapsed": true
   },
   "outputs": [],
   "source": [
    "# to csv\n",
    "df.to_csv('../l2/data/3_buildings.csv')"
   ]
  },
  {
   "cell_type": "code",
   "execution_count": 113,
   "metadata": {
    "collapsed": false
   },
   "outputs": [],
   "source": [
    "# to excel\n",
    "df.to_excel('../l2/data/3_buildings.xlsx')"
   ]
  },
  {
   "cell_type": "code",
   "execution_count": 114,
   "metadata": {
    "collapsed": true
   },
   "outputs": [],
   "source": [
    "# to binary msgpack \n",
    "# (experimental, but can store type of the variables, including datatime -> fast to read for large files)\n",
    "df.to_msgpack('../l2/data/3_buildings.msg')"
   ]
  },
  {
   "cell_type": "code",
   "execution_count": null,
   "metadata": {
    "collapsed": true
   },
   "outputs": [],
   "source": []
  }
 ],
 "metadata": {
  "kernelspec": {
   "display_name": "Python 3",
   "language": "python",
   "name": "python3"
  },
  "language_info": {
   "codemirror_mode": {
    "name": "ipython",
    "version": 3
   },
   "file_extension": ".py",
   "mimetype": "text/x-python",
   "name": "python",
   "nbconvert_exporter": "python",
   "pygments_lexer": "ipython3",
   "version": "3.6.1"
  }
 },
 "nbformat": 4,
 "nbformat_minor": 0
}
