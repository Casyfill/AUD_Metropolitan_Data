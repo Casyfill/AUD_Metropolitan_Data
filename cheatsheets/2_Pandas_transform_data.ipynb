{
 "cells": [
  {
   "cell_type": "code",
   "execution_count": 105,
   "metadata": {
    "collapsed": true
   },
   "outputs": [],
   "source": [
    "# matplotlib is the basic plotting (graphical) library, it is very old and poverfull, but \n",
    "# also too complicated sometimes.\n",
    "%matplotlib inline \n",
    "### this is jupyter \"magic\" command that lets matplotlib to add plots (graphics) to the notebook\n",
    "### if you want, try `%matplotlib notebook` instead, it will add some interactivity to the plot"
   ]
  },
  {
   "cell_type": "code",
   "execution_count": 106,
   "metadata": {
    "collapsed": true
   },
   "outputs": [],
   "source": [
    "import pylab as plt\n",
    "### actually pylab is also part of the matplotlib, but this time we import it as an object to work with."
   ]
  },
  {
   "cell_type": "code",
   "execution_count": 107,
   "metadata": {
    "collapsed": true
   },
   "outputs": [],
   "source": [
    "import pandas as pd"
   ]
  },
  {
   "cell_type": "markdown",
   "metadata": {},
   "source": [
    "## Read Data"
   ]
  },
  {
   "cell_type": "code",
   "execution_count": 108,
   "metadata": {
    "collapsed": false
   },
   "outputs": [],
   "source": [
    "# download any file from here\n",
    "# https://s3.amazonaws.com/tripdata/index.html\n",
    "# documentation of the dataset is here: https://www.citibikenyc.com/system-data\n",
    "\n",
    "\n",
    "# this might take a while, especially in the HSU\n",
    "df = pd.read_csv('data/201607-citibike-tripdata.csv')    "
   ]
  },
  {
   "cell_type": "markdown",
   "metadata": {},
   "source": [
    "## Shape"
   ]
  },
  {
   "cell_type": "code",
   "execution_count": 10,
   "metadata": {
    "collapsed": false
   },
   "outputs": [
    {
     "name": "stdout",
     "output_type": "stream",
     "text": [
      "Dataset contains 1380110 rows and 15 columns\n"
     ]
    }
   ],
   "source": [
    "## Shape of the dataset\n",
    "shape = df.shape\n",
    "\n",
    "print('Dataset contains {r} rows and {c} columns'.format(r=shape[0], c=shape[1]))\n",
    "# this is not a "
   ]
  },
  {
   "cell_type": "code",
   "execution_count": 12,
   "metadata": {
    "collapsed": false
   },
   "outputs": [
    {
     "data": {
      "text/html": [
       "<div>\n",
       "<table border=\"1\" class=\"dataframe\">\n",
       "  <thead>\n",
       "    <tr style=\"text-align: right;\">\n",
       "      <th></th>\n",
       "      <th>tripduration</th>\n",
       "      <th>starttime</th>\n",
       "      <th>stoptime</th>\n",
       "      <th>start station id</th>\n",
       "      <th>start station name</th>\n",
       "      <th>start station latitude</th>\n",
       "      <th>start station longitude</th>\n",
       "      <th>end station id</th>\n",
       "      <th>end station name</th>\n",
       "      <th>end station latitude</th>\n",
       "      <th>end station longitude</th>\n",
       "      <th>bikeid</th>\n",
       "      <th>usertype</th>\n",
       "      <th>birth year</th>\n",
       "      <th>gender</th>\n",
       "    </tr>\n",
       "  </thead>\n",
       "  <tbody>\n",
       "    <tr>\n",
       "      <th>0</th>\n",
       "      <td>704</td>\n",
       "      <td>7/1/2016 00:00:02</td>\n",
       "      <td>7/1/2016 00:11:47</td>\n",
       "      <td>459</td>\n",
       "      <td>W 20 St &amp; 11 Ave</td>\n",
       "      <td>40.746745</td>\n",
       "      <td>-74.007756</td>\n",
       "      <td>347</td>\n",
       "      <td>Greenwich St &amp; W Houston St</td>\n",
       "      <td>40.728846</td>\n",
       "      <td>-74.008591</td>\n",
       "      <td>17431</td>\n",
       "      <td>Customer</td>\n",
       "      <td>NaN</td>\n",
       "      <td>0</td>\n",
       "    </tr>\n",
       "    <tr>\n",
       "      <th>1</th>\n",
       "      <td>492</td>\n",
       "      <td>7/1/2016 00:00:18</td>\n",
       "      <td>7/1/2016 00:08:31</td>\n",
       "      <td>293</td>\n",
       "      <td>Lafayette St &amp; E 8 St</td>\n",
       "      <td>40.730287</td>\n",
       "      <td>-73.990765</td>\n",
       "      <td>466</td>\n",
       "      <td>W 25 St &amp; 6 Ave</td>\n",
       "      <td>40.743954</td>\n",
       "      <td>-73.991449</td>\n",
       "      <td>24159</td>\n",
       "      <td>Subscriber</td>\n",
       "      <td>1984.0</td>\n",
       "      <td>1</td>\n",
       "    </tr>\n",
       "    <tr>\n",
       "      <th>2</th>\n",
       "      <td>191</td>\n",
       "      <td>7/1/2016 00:00:19</td>\n",
       "      <td>7/1/2016 00:03:31</td>\n",
       "      <td>3090</td>\n",
       "      <td>N 8 St &amp; Driggs Ave</td>\n",
       "      <td>40.717746</td>\n",
       "      <td>-73.956001</td>\n",
       "      <td>3107</td>\n",
       "      <td>Bedford Ave &amp; Nassau Ave</td>\n",
       "      <td>40.723117</td>\n",
       "      <td>-73.952123</td>\n",
       "      <td>16345</td>\n",
       "      <td>Subscriber</td>\n",
       "      <td>1986.0</td>\n",
       "      <td>2</td>\n",
       "    </tr>\n",
       "  </tbody>\n",
       "</table>\n",
       "</div>"
      ],
      "text/plain": [
       "   tripduration          starttime           stoptime  start station id  \\\n",
       "0           704  7/1/2016 00:00:02  7/1/2016 00:11:47               459   \n",
       "1           492  7/1/2016 00:00:18  7/1/2016 00:08:31               293   \n",
       "2           191  7/1/2016 00:00:19  7/1/2016 00:03:31              3090   \n",
       "\n",
       "      start station name  start station latitude  start station longitude  \\\n",
       "0       W 20 St & 11 Ave               40.746745               -74.007756   \n",
       "1  Lafayette St & E 8 St               40.730287               -73.990765   \n",
       "2    N 8 St & Driggs Ave               40.717746               -73.956001   \n",
       "\n",
       "   end station id             end station name  end station latitude  \\\n",
       "0             347  Greenwich St & W Houston St             40.728846   \n",
       "1             466              W 25 St & 6 Ave             40.743954   \n",
       "2            3107     Bedford Ave & Nassau Ave             40.723117   \n",
       "\n",
       "   end station longitude  bikeid    usertype  birth year  gender  \n",
       "0             -74.008591   17431    Customer         NaN       0  \n",
       "1             -73.991449   24159  Subscriber      1984.0       1  \n",
       "2             -73.952123   16345  Subscriber      1986.0       2  "
      ]
     },
     "execution_count": 12,
     "metadata": {},
     "output_type": "execute_result"
    }
   ],
   "source": [
    "## We cant look at hunderd of thousands of rows at once, but let check a few first ones\n",
    "df.head(3)"
   ]
  },
  {
   "cell_type": "code",
   "execution_count": 15,
   "metadata": {
    "collapsed": false
   },
   "outputs": [
    {
     "name": "stdout",
     "output_type": "stream",
     "text": [
      "0 tripduration\n",
      "1 starttime\n",
      "2 stoptime\n",
      "3 start station id\n",
      "4 start station name\n",
      "5 start station latitude\n",
      "6 start station longitude\n",
      "7 end station id\n",
      "8 end station name\n",
      "9 end station latitude\n",
      "10 end station longitude\n",
      "11 bikeid\n",
      "12 usertype\n",
      "13 birth year\n",
      "14 gender\n"
     ]
    }
   ],
   "source": [
    "## let us take a look at all columns\n",
    "for i, col in enumerate(df.columns):\n",
    "    print(i, col)"
   ]
  },
  {
   "cell_type": "markdown",
   "metadata": {},
   "source": [
    "## Selection"
   ]
  },
  {
   "cell_type": "code",
   "execution_count": 62,
   "metadata": {
    "collapsed": false
   },
   "outputs": [
    {
     "data": {
      "text/plain": [
       "0    704\n",
       "1    492\n",
       "2    191\n",
       "Name: tripduration, dtype: int64"
      ]
     },
     "execution_count": 62,
     "metadata": {},
     "output_type": "execute_result"
    }
   ],
   "source": [
    "# get one column\n",
    "df['tripduration'].head(3)"
   ]
  },
  {
   "cell_type": "code",
   "execution_count": 65,
   "metadata": {
    "collapsed": false
   },
   "outputs": [
    {
     "data": {
      "text/html": [
       "<div>\n",
       "<table border=\"1\" class=\"dataframe\">\n",
       "  <thead>\n",
       "    <tr style=\"text-align: right;\">\n",
       "      <th></th>\n",
       "      <th>tripduration</th>\n",
       "      <th>birth year</th>\n",
       "    </tr>\n",
       "  </thead>\n",
       "  <tbody>\n",
       "    <tr>\n",
       "      <th>0</th>\n",
       "      <td>704</td>\n",
       "      <td>nan</td>\n",
       "    </tr>\n",
       "    <tr>\n",
       "      <th>1</th>\n",
       "      <td>492</td>\n",
       "      <td>1984.000</td>\n",
       "    </tr>\n",
       "    <tr>\n",
       "      <th>2</th>\n",
       "      <td>191</td>\n",
       "      <td>1986.000</td>\n",
       "    </tr>\n",
       "  </tbody>\n",
       "</table>\n",
       "</div>"
      ],
      "text/plain": [
       "   tripduration  birth year\n",
       "0           704         nan\n",
       "1           492    1984.000\n",
       "2           191    1986.000"
      ]
     },
     "execution_count": 65,
     "metadata": {},
     "output_type": "execute_result"
    }
   ],
   "source": [
    "#get subset of columns\n",
    "df[['tripduration','birth year']].head(3) # note double brackets here"
   ]
  },
  {
   "cell_type": "code",
   "execution_count": 80,
   "metadata": {
    "collapsed": false
   },
   "outputs": [
    {
     "data": {
      "text/plain": [
       "29751      None\n",
       "83383      None\n",
       "304864     None\n",
       "412429     male\n",
       "564328     None\n",
       "717065     None\n",
       "1083620    None\n",
       "Name: gender, dtype: object"
      ]
     },
     "execution_count": 80,
     "metadata": {},
     "output_type": "execute_result"
    }
   ],
   "source": [
    "# mask with `loc`\n",
    "df.loc[df['tripduration']>2_500_000, 'gender']\n",
    "# you can also mask with simple brackets, but then you'll get the whole set of columns\n",
    "# df[df['tripduration']>2500000]"
   ]
  },
  {
   "cell_type": "code",
   "execution_count": 79,
   "metadata": {
    "collapsed": false
   },
   "outputs": [
    {
     "data": {
      "text/html": [
       "<div>\n",
       "<table border=\"1\" class=\"dataframe\">\n",
       "  <thead>\n",
       "    <tr style=\"text-align: right;\">\n",
       "      <th></th>\n",
       "      <th>birth year</th>\n",
       "      <th>usertype</th>\n",
       "    </tr>\n",
       "  </thead>\n",
       "  <tbody>\n",
       "    <tr>\n",
       "      <th>29751</th>\n",
       "      <td>nan</td>\n",
       "      <td>Customer</td>\n",
       "    </tr>\n",
       "    <tr>\n",
       "      <th>83383</th>\n",
       "      <td>nan</td>\n",
       "      <td>Customer</td>\n",
       "    </tr>\n",
       "    <tr>\n",
       "      <th>304864</th>\n",
       "      <td>nan</td>\n",
       "      <td>Customer</td>\n",
       "    </tr>\n",
       "    <tr>\n",
       "      <th>412429</th>\n",
       "      <td>1977.000</td>\n",
       "      <td>Subscriber</td>\n",
       "    </tr>\n",
       "    <tr>\n",
       "      <th>564328</th>\n",
       "      <td>nan</td>\n",
       "      <td>Customer</td>\n",
       "    </tr>\n",
       "    <tr>\n",
       "      <th>717065</th>\n",
       "      <td>nan</td>\n",
       "      <td>Customer</td>\n",
       "    </tr>\n",
       "    <tr>\n",
       "      <th>1083620</th>\n",
       "      <td>nan</td>\n",
       "      <td>Customer</td>\n",
       "    </tr>\n",
       "  </tbody>\n",
       "</table>\n",
       "</div>"
      ],
      "text/plain": [
       "         birth year    usertype\n",
       "29751           nan    Customer\n",
       "83383           nan    Customer\n",
       "304864          nan    Customer\n",
       "412429     1977.000  Subscriber\n",
       "564328          nan    Customer\n",
       "717065          nan    Customer\n",
       "1083620         nan    Customer"
      ]
     },
     "execution_count": 79,
     "metadata": {},
     "output_type": "execute_result"
    }
   ],
   "source": [
    "df.loc[df['tripduration']>2_500_000, ['birth year','usertype']]"
   ]
  },
  {
   "cell_type": "code",
   "execution_count": 84,
   "metadata": {
    "collapsed": false
   },
   "outputs": [
    {
     "data": {
      "text/plain": [
       "tripduration                              330\n",
       "starttime                  7/31/2016 23:59:59\n",
       "stoptime                    8/1/2016 00:05:29\n",
       "start station id                          507\n",
       "start station name            E 25 St & 2 Ave\n",
       "start station latitude                 40.739\n",
       "start station longitude               -73.980\n",
       "end station id                            433\n",
       "end station name           E 13 St & Avenue A\n",
       "end station latitude                   40.730\n",
       "end station longitude                 -73.981\n",
       "bikeid                                  24263\n",
       "usertype                           Subscriber\n",
       "birth year                           1995.000\n",
       "gender                                   male\n",
       "Name: 1380109, dtype: object"
      ]
     },
     "execution_count": 84,
     "metadata": {},
     "output_type": "execute_result"
    }
   ],
   "source": [
    "# another function, iloc, allows to subset by the order of columns/rows, not their names\n",
    "df.iloc[-1].head() # if one el is passed, it gives one row (last one, in this case)"
   ]
  },
  {
   "cell_type": "code",
   "execution_count": 86,
   "metadata": {
    "collapsed": false
   },
   "outputs": [
    {
     "data": {
      "text/html": [
       "<div>\n",
       "<table border=\"1\" class=\"dataframe\">\n",
       "  <thead>\n",
       "    <tr style=\"text-align: right;\">\n",
       "      <th></th>\n",
       "      <th>tripduration</th>\n",
       "      <th>starttime</th>\n",
       "    </tr>\n",
       "  </thead>\n",
       "  <tbody>\n",
       "    <tr>\n",
       "      <th>0</th>\n",
       "      <td>704</td>\n",
       "      <td>7/1/2016 00:00:02</td>\n",
       "    </tr>\n",
       "    <tr>\n",
       "      <th>1</th>\n",
       "      <td>492</td>\n",
       "      <td>7/1/2016 00:00:18</td>\n",
       "    </tr>\n",
       "    <tr>\n",
       "      <th>2</th>\n",
       "      <td>191</td>\n",
       "      <td>7/1/2016 00:00:19</td>\n",
       "    </tr>\n",
       "    <tr>\n",
       "      <th>3</th>\n",
       "      <td>687</td>\n",
       "      <td>7/1/2016 00:00:24</td>\n",
       "    </tr>\n",
       "  </tbody>\n",
       "</table>\n",
       "</div>"
      ],
      "text/plain": [
       "   tripduration          starttime\n",
       "0           704  7/1/2016 00:00:02\n",
       "1           492  7/1/2016 00:00:18\n",
       "2           191  7/1/2016 00:00:19\n",
       "3           687  7/1/2016 00:00:24"
      ]
     },
     "execution_count": 86,
     "metadata": {},
     "output_type": "execute_result"
    }
   ],
   "source": [
    "df.iloc[:, -1] # last column\n",
    "df.iloc[:4, :2] # first 4 rows and first 2 columns"
   ]
  },
  {
   "cell_type": "markdown",
   "metadata": {},
   "source": [
    "## Replace/clean"
   ]
  },
  {
   "cell_type": "code",
   "execution_count": 17,
   "metadata": {
    "collapsed": false
   },
   "outputs": [],
   "source": [
    "# first, let's see a simple distribution of trips by gender\n",
    "# but it is really annoying to manually decode 1 and 2, so let's replace them\n",
    "\n",
    "df['gender'].replace({1:'male', 2:'female', 0:None}, inplace=1) \n",
    "# here inplace means \"in the same object\". without it, object will be the same, and a new df will be returned"
   ]
  },
  {
   "cell_type": "markdown",
   "metadata": {},
   "source": [
    "## Add new columns"
   ]
  },
  {
   "cell_type": "code",
   "execution_count": 104,
   "metadata": {
    "collapsed": true
   },
   "outputs": [],
   "source": [
    "#it is easy to add new columns\n",
    "df['new_col'] = 'New_column'\n",
    "## However it is very inefficient to add new rows!"
   ]
  },
  {
   "cell_type": "markdown",
   "metadata": {},
   "source": [
    "## Count"
   ]
  },
  {
   "cell_type": "code",
   "execution_count": 18,
   "metadata": {
    "collapsed": false
   },
   "outputs": [
    {
     "data": {
      "text/plain": [
       "male      876368\n",
       "female    297078\n",
       "Name: gender, dtype: int64"
      ]
     },
     "execution_count": 18,
     "metadata": {},
     "output_type": "execute_result"
    }
   ],
   "source": [
    "# now, let's count\n",
    "df['gender'].value_counts()"
   ]
  },
  {
   "cell_type": "code",
   "execution_count": 23,
   "metadata": {
    "collapsed": false
   },
   "outputs": [
    {
     "data": {
      "text/plain": [
       "male      0.746833\n",
       "female    0.253167\n",
       "Name: gender, dtype: float64"
      ]
     },
     "execution_count": 23,
     "metadata": {},
     "output_type": "execute_result"
    }
   ],
   "source": [
    "df['gender'].value_counts(normalize=True) # this will give us the fraction"
   ]
  },
  {
   "cell_type": "markdown",
   "metadata": {},
   "source": [
    "so, more than 74% of all trips in january were made (or at least paid by) men."
   ]
  },
  {
   "cell_type": "markdown",
   "metadata": {},
   "source": [
    "## Stats"
   ]
  },
  {
   "cell_type": "markdown",
   "metadata": {},
   "source": [
    "how can we get some statistics on the column?\n"
   ]
  },
  {
   "cell_type": "code",
   "execution_count": 41,
   "metadata": {
    "collapsed": false
   },
   "outputs": [
    {
     "name": "stdout",
     "output_type": "stream",
     "text": [
      "count   1380110.000\n",
      "mean       1000.328\n",
      "std       13734.618\n",
      "min          61.000\n",
      "25%         403.000\n",
      "50%         672.000\n",
      "75%        1143.000\n",
      "max     6707533.000\n",
      "Name: tripduration, dtype: float64\n"
     ]
    }
   ],
   "source": [
    "# 1)  overal description\n",
    "pd.set_option('display.float_format', lambda x: '%.3f' % x) # supressed scientific notation in print\n",
    "print(df['tripduration'].describe())"
   ]
  },
  {
   "cell_type": "code",
   "execution_count": 45,
   "metadata": {
    "collapsed": false
   },
   "outputs": [],
   "source": [
    "# note that result of `df['tripduration'].describe()` is a pandas.Series by itself, you can store it!\n",
    "# but what if I want to calculate particular value?\n",
    "\n",
    "count = df['tripduration'].count() # same as len(df) but ignore Nones (empty cells)\n",
    "mean = df['tripduration'].mean() # average trip duration\n",
    "median = df['tripduration'].median()\n",
    "min_duration = df['tripduration'].min()\n",
    "max_duration = df['tripduration'].max()\n",
    "std = df['tripduration'].std() # standart deviation\n",
    "percentile = df['tripduration'].quantile(.25) # percentile of given ratio (first quartile in this case)"
   ]
  },
  {
   "cell_type": "markdown",
   "metadata": {},
   "source": [
    "## Powerfull Groupby"
   ]
  },
  {
   "cell_type": "code",
   "execution_count": 24,
   "metadata": {
    "collapsed": true
   },
   "outputs": [],
   "source": [
    "#but sometimes we want to count for the combination of two (or more) parameters.\n",
    "#in this case, we can use groupby"
   ]
  },
  {
   "cell_type": "code",
   "execution_count": 26,
   "metadata": {
    "collapsed": false
   },
   "outputs": [
    {
     "data": {
      "text/html": [
       "<div>\n",
       "<table border=\"1\" class=\"dataframe\">\n",
       "  <thead>\n",
       "    <tr style=\"text-align: right;\">\n",
       "      <th></th>\n",
       "      <th></th>\n",
       "      <th>bikeid</th>\n",
       "    </tr>\n",
       "    <tr>\n",
       "      <th>usertype</th>\n",
       "      <th>gender</th>\n",
       "      <th></th>\n",
       "    </tr>\n",
       "  </thead>\n",
       "  <tbody>\n",
       "    <tr>\n",
       "      <th rowspan=\"2\" valign=\"top\">Customer</th>\n",
       "      <th>female</th>\n",
       "      <td>1080</td>\n",
       "    </tr>\n",
       "    <tr>\n",
       "      <th>male</th>\n",
       "      <td>1533</td>\n",
       "    </tr>\n",
       "    <tr>\n",
       "      <th rowspan=\"2\" valign=\"top\">Subscriber</th>\n",
       "      <th>female</th>\n",
       "      <td>295998</td>\n",
       "    </tr>\n",
       "    <tr>\n",
       "      <th>male</th>\n",
       "      <td>874835</td>\n",
       "    </tr>\n",
       "  </tbody>\n",
       "</table>\n",
       "</div>"
      ],
      "text/plain": [
       "                   bikeid\n",
       "usertype   gender        \n",
       "Customer   female    1080\n",
       "           male      1533\n",
       "Subscriber female  295998\n",
       "           male    874835"
      ]
     },
     "execution_count": 26,
     "metadata": {},
     "output_type": "execute_result"
    }
   ],
   "source": [
    "df.groupby(['usertype', 'gender']).agg({'bikeid':'count'}) \n",
    "# it is a little bit confusing, but you can replace #bikeid# here with any other column name, \n",
    "# except the 2 we used to group"
   ]
  },
  {
   "cell_type": "code",
   "execution_count": 27,
   "metadata": {
    "collapsed": true
   },
   "outputs": [],
   "source": [
    "# as you can see, distribution here is very different for 2 usertypes.\n",
    "# we can think that much more men were PLANNING to use citybike, or using it frequently enough to by subscription"
   ]
  },
  {
   "cell_type": "code",
   "execution_count": 28,
   "metadata": {
    "collapsed": false
   },
   "outputs": [
    {
     "data": {
      "text/html": [
       "<div>\n",
       "<table border=\"1\" class=\"dataframe\">\n",
       "  <thead>\n",
       "    <tr style=\"text-align: right;\">\n",
       "      <th></th>\n",
       "      <th></th>\n",
       "      <th>bikeid</th>\n",
       "    </tr>\n",
       "    <tr>\n",
       "      <th>usertype</th>\n",
       "      <th>gender</th>\n",
       "      <th></th>\n",
       "    </tr>\n",
       "  </thead>\n",
       "  <tbody>\n",
       "    <tr>\n",
       "      <th rowspan=\"2\" valign=\"top\">Customer</th>\n",
       "      <th>female</th>\n",
       "      <td>0.000783</td>\n",
       "    </tr>\n",
       "    <tr>\n",
       "      <th>male</th>\n",
       "      <td>0.001111</td>\n",
       "    </tr>\n",
       "    <tr>\n",
       "      <th rowspan=\"2\" valign=\"top\">Subscriber</th>\n",
       "      <th>female</th>\n",
       "      <td>0.214474</td>\n",
       "    </tr>\n",
       "    <tr>\n",
       "      <th>male</th>\n",
       "      <td>0.633888</td>\n",
       "    </tr>\n",
       "  </tbody>\n",
       "</table>\n",
       "</div>"
      ],
      "text/plain": [
       "                     bikeid\n",
       "usertype   gender          \n",
       "Customer   female  0.000783\n",
       "           male    0.001111\n",
       "Subscriber female  0.214474\n",
       "           male    0.633888"
      ]
     },
     "execution_count": 28,
     "metadata": {},
     "output_type": "execute_result"
    }
   ],
   "source": [
    "# how can I manually calculate the ratios?\n",
    "# I need to split 4 numbers by the total number of records:\n",
    "\n",
    "df.groupby(['usertype', 'gender']).agg({'bikeid':'count'}) / len(df)"
   ]
  },
  {
   "cell_type": "code",
   "execution_count": 29,
   "metadata": {
    "collapsed": false
   },
   "outputs": [
    {
     "data": {
      "text/html": [
       "<div>\n",
       "<table border=\"1\" class=\"dataframe\">\n",
       "  <thead>\n",
       "    <tr style=\"text-align: right;\">\n",
       "      <th></th>\n",
       "      <th></th>\n",
       "      <th>bikeid</th>\n",
       "    </tr>\n",
       "    <tr>\n",
       "      <th>usertype</th>\n",
       "      <th>gender</th>\n",
       "      <th></th>\n",
       "    </tr>\n",
       "  </thead>\n",
       "  <tbody>\n",
       "    <tr>\n",
       "      <th rowspan=\"2\" valign=\"top\">Customer</th>\n",
       "      <th>female</th>\n",
       "      <td>0.000920</td>\n",
       "    </tr>\n",
       "    <tr>\n",
       "      <th>male</th>\n",
       "      <td>0.001306</td>\n",
       "    </tr>\n",
       "    <tr>\n",
       "      <th rowspan=\"2\" valign=\"top\">Subscriber</th>\n",
       "      <th>female</th>\n",
       "      <td>0.252247</td>\n",
       "    </tr>\n",
       "    <tr>\n",
       "      <th>male</th>\n",
       "      <td>0.745526</td>\n",
       "    </tr>\n",
       "  </tbody>\n",
       "</table>\n",
       "</div>"
      ],
      "text/plain": [
       "                     bikeid\n",
       "usertype   gender          \n",
       "Customer   female  0.000920\n",
       "           male    0.001306\n",
       "Subscriber female  0.252247\n",
       "           male    0.745526"
      ]
     },
     "execution_count": 29,
     "metadata": {},
     "output_type": "execute_result"
    }
   ],
   "source": [
    "# or, in case it was not count\n",
    "x = df.groupby(['usertype', 'gender']).agg({'bikeid':'count'})\n",
    "x/x.sum()"
   ]
  },
  {
   "cell_type": "code",
   "execution_count": 30,
   "metadata": {
    "collapsed": true
   },
   "outputs": [],
   "source": [
    "# why is it different? Becouse we don't count NONE gender it the last one!"
   ]
  },
  {
   "cell_type": "code",
   "execution_count": 34,
   "metadata": {
    "collapsed": false
   },
   "outputs": [],
   "source": [
    "# Same approach can be used to create a network of stations!\n",
    "network = df.groupby(['start station name', 'end station name']).agg({'bikeid':'count'})\n",
    "network.sort_index(inplace=1)"
   ]
  },
  {
   "cell_type": "code",
   "execution_count": 35,
   "metadata": {
    "collapsed": false
   },
   "outputs": [
    {
     "data": {
      "text/html": [
       "<div>\n",
       "<table border=\"1\" class=\"dataframe\">\n",
       "  <thead>\n",
       "    <tr style=\"text-align: right;\">\n",
       "      <th></th>\n",
       "      <th></th>\n",
       "      <th>bikeid</th>\n",
       "    </tr>\n",
       "    <tr>\n",
       "      <th>start station name</th>\n",
       "      <th>end station name</th>\n",
       "      <th></th>\n",
       "    </tr>\n",
       "  </thead>\n",
       "  <tbody>\n",
       "    <tr>\n",
       "      <th rowspan=\"10\" valign=\"top\">1 Ave &amp; E 16 St</th>\n",
       "      <th>1 Ave &amp; E 16 St</th>\n",
       "      <td>73</td>\n",
       "    </tr>\n",
       "    <tr>\n",
       "      <th>1 Ave &amp; E 18 St</th>\n",
       "      <td>103</td>\n",
       "    </tr>\n",
       "    <tr>\n",
       "      <th>1 Ave &amp; E 30 St</th>\n",
       "      <td>183</td>\n",
       "    </tr>\n",
       "    <tr>\n",
       "      <th>1 Ave &amp; E 44 St</th>\n",
       "      <td>51</td>\n",
       "    </tr>\n",
       "    <tr>\n",
       "      <th>1 Ave &amp; E 62 St</th>\n",
       "      <td>19</td>\n",
       "    </tr>\n",
       "    <tr>\n",
       "      <th>1 Ave &amp; E 68 St</th>\n",
       "      <td>48</td>\n",
       "    </tr>\n",
       "    <tr>\n",
       "      <th>1 Ave &amp; E 78 St</th>\n",
       "      <td>13</td>\n",
       "    </tr>\n",
       "    <tr>\n",
       "      <th>11 Ave &amp; W 27 St</th>\n",
       "      <td>10</td>\n",
       "    </tr>\n",
       "    <tr>\n",
       "      <th>11 Ave &amp; W 41 St</th>\n",
       "      <td>2</td>\n",
       "    </tr>\n",
       "    <tr>\n",
       "      <th>11 Ave &amp; W 59 St</th>\n",
       "      <td>1</td>\n",
       "    </tr>\n",
       "  </tbody>\n",
       "</table>\n",
       "</div>"
      ],
      "text/plain": [
       "                                     bikeid\n",
       "start station name end station name        \n",
       "1 Ave & E 16 St    1 Ave & E 16 St       73\n",
       "                   1 Ave & E 18 St      103\n",
       "                   1 Ave & E 30 St      183\n",
       "                   1 Ave & E 44 St       51\n",
       "                   1 Ave & E 62 St       19\n",
       "                   1 Ave & E 68 St       48\n",
       "                   1 Ave & E 78 St       13\n",
       "                   11 Ave & W 27 St      10\n",
       "                   11 Ave & W 41 St       2\n",
       "                   11 Ave & W 59 St       1"
      ]
     },
     "execution_count": 35,
     "metadata": {},
     "output_type": "execute_result"
    }
   ],
   "source": [
    "network.head(10) # we will work on that later on!"
   ]
  },
  {
   "cell_type": "code",
   "execution_count": 83,
   "metadata": {
    "collapsed": false
   },
   "outputs": [
    {
     "data": {
      "text/html": [
       "<div>\n",
       "<table border=\"1\" class=\"dataframe\">\n",
       "  <thead>\n",
       "    <tr style=\"text-align: right;\">\n",
       "      <th></th>\n",
       "      <th></th>\n",
       "      <th>trips</th>\n",
       "    </tr>\n",
       "    <tr>\n",
       "      <th>start station name</th>\n",
       "      <th>end station name</th>\n",
       "      <th></th>\n",
       "    </tr>\n",
       "  </thead>\n",
       "  <tbody>\n",
       "    <tr>\n",
       "      <th rowspan=\"10\" valign=\"top\">1 Ave &amp; E 16 St</th>\n",
       "      <th>1 Ave &amp; E 16 St</th>\n",
       "      <td>73</td>\n",
       "    </tr>\n",
       "    <tr>\n",
       "      <th>1 Ave &amp; E 18 St</th>\n",
       "      <td>103</td>\n",
       "    </tr>\n",
       "    <tr>\n",
       "      <th>1 Ave &amp; E 30 St</th>\n",
       "      <td>183</td>\n",
       "    </tr>\n",
       "    <tr>\n",
       "      <th>1 Ave &amp; E 44 St</th>\n",
       "      <td>51</td>\n",
       "    </tr>\n",
       "    <tr>\n",
       "      <th>1 Ave &amp; E 62 St</th>\n",
       "      <td>19</td>\n",
       "    </tr>\n",
       "    <tr>\n",
       "      <th>1 Ave &amp; E 68 St</th>\n",
       "      <td>48</td>\n",
       "    </tr>\n",
       "    <tr>\n",
       "      <th>1 Ave &amp; E 78 St</th>\n",
       "      <td>13</td>\n",
       "    </tr>\n",
       "    <tr>\n",
       "      <th>11 Ave &amp; W 27 St</th>\n",
       "      <td>10</td>\n",
       "    </tr>\n",
       "    <tr>\n",
       "      <th>11 Ave &amp; W 41 St</th>\n",
       "      <td>2</td>\n",
       "    </tr>\n",
       "    <tr>\n",
       "      <th>11 Ave &amp; W 59 St</th>\n",
       "      <td>1</td>\n",
       "    </tr>\n",
       "  </tbody>\n",
       "</table>\n",
       "</div>"
      ],
      "text/plain": [
       "                                     trips\n",
       "start station name end station name       \n",
       "1 Ave & E 16 St    1 Ave & E 16 St      73\n",
       "                   1 Ave & E 18 St     103\n",
       "                   1 Ave & E 30 St     183\n",
       "                   1 Ave & E 44 St      51\n",
       "                   1 Ave & E 62 St      19\n",
       "                   1 Ave & E 68 St      48\n",
       "                   1 Ave & E 78 St      13\n",
       "                   11 Ave & W 27 St     10\n",
       "                   11 Ave & W 41 St      2\n",
       "                   11 Ave & W 59 St      1"
      ]
     },
     "execution_count": 83,
     "metadata": {},
     "output_type": "execute_result"
    }
   ],
   "source": [
    "#by the way, I am really annoyed by this column name. let's change it\n",
    "network.columns = ['trips'] # as this is the DF, it assumes ther is multiple columns, thus we have to pass a list\n",
    "network.head(10)"
   ]
  },
  {
   "cell_type": "code",
   "execution_count": 49,
   "metadata": {
    "collapsed": true
   },
   "outputs": [],
   "source": [
    "# Now, groupby does not limit us to boring counts!\n",
    "# lets get some stats for subgroups"
   ]
  },
  {
   "cell_type": "code",
   "execution_count": 55,
   "metadata": {
    "collapsed": false
   },
   "outputs": [
    {
     "data": {
      "text/html": [
       "<div>\n",
       "<table border=\"1\" class=\"dataframe\">\n",
       "  <thead>\n",
       "    <tr>\n",
       "      <th></th>\n",
       "      <th></th>\n",
       "      <th colspan=\"5\" halign=\"left\">tripduration</th>\n",
       "    </tr>\n",
       "    <tr>\n",
       "      <th></th>\n",
       "      <th></th>\n",
       "      <th>mean</th>\n",
       "      <th>median</th>\n",
       "      <th>min</th>\n",
       "      <th>max</th>\n",
       "      <th>std</th>\n",
       "    </tr>\n",
       "    <tr>\n",
       "      <th>usertype</th>\n",
       "      <th>gender</th>\n",
       "      <th></th>\n",
       "      <th></th>\n",
       "      <th></th>\n",
       "      <th></th>\n",
       "      <th></th>\n",
       "    </tr>\n",
       "  </thead>\n",
       "  <tbody>\n",
       "    <tr>\n",
       "      <th rowspan=\"2\" valign=\"top\">Customer</th>\n",
       "      <th>female</th>\n",
       "      <td>1915.260</td>\n",
       "      <td>1334</td>\n",
       "      <td>64</td>\n",
       "      <td>196570</td>\n",
       "      <td>7086.336</td>\n",
       "    </tr>\n",
       "    <tr>\n",
       "      <th>male</th>\n",
       "      <td>1464.199</td>\n",
       "      <td>1229</td>\n",
       "      <td>65</td>\n",
       "      <td>42945</td>\n",
       "      <td>1895.461</td>\n",
       "    </tr>\n",
       "    <tr>\n",
       "      <th rowspan=\"2\" valign=\"top\">Subscriber</th>\n",
       "      <th>female</th>\n",
       "      <td>909.563</td>\n",
       "      <td>683</td>\n",
       "      <td>61</td>\n",
       "      <td>1030505</td>\n",
       "      <td>4290.698</td>\n",
       "    </tr>\n",
       "    <tr>\n",
       "      <th>male</th>\n",
       "      <td>799.261</td>\n",
       "      <td>582</td>\n",
       "      <td>61</td>\n",
       "      <td>5700729</td>\n",
       "      <td>8038.132</td>\n",
       "    </tr>\n",
       "  </tbody>\n",
       "</table>\n",
       "</div>"
      ],
      "text/plain": [
       "                  tripduration                             \n",
       "                          mean median min      max      std\n",
       "usertype   gender                                          \n",
       "Customer   female     1915.260   1334  64   196570 7086.336\n",
       "           male       1464.199   1229  65    42945 1895.461\n",
       "Subscriber female      909.563    683  61  1030505 4290.698\n",
       "           male        799.261    582  61  5700729 8038.132"
      ]
     },
     "execution_count": 55,
     "metadata": {},
     "output_type": "execute_result"
    }
   ],
   "source": [
    "df.groupby(['usertype', 'gender']).agg({'tripduration':['mean','median','min','max', 'std', 'lam']})"
   ]
  },
  {
   "cell_type": "code",
   "execution_count": 56,
   "metadata": {
    "collapsed": true
   },
   "outputs": [],
   "source": [
    "## Note that Subscribers usually ride for a much shorter period of time, but Max is also here"
   ]
  },
  {
   "cell_type": "code",
   "execution_count": 61,
   "metadata": {
    "collapsed": false
   },
   "outputs": [
    {
     "data": {
      "text/html": [
       "<div>\n",
       "<table border=\"1\" class=\"dataframe\">\n",
       "  <thead>\n",
       "    <tr>\n",
       "      <th></th>\n",
       "      <th></th>\n",
       "      <th colspan=\"6\" halign=\"left\">tripduration</th>\n",
       "    </tr>\n",
       "    <tr>\n",
       "      <th></th>\n",
       "      <th></th>\n",
       "      <th>mean</th>\n",
       "      <th>median</th>\n",
       "      <th>min</th>\n",
       "      <th>max</th>\n",
       "      <th>std</th>\n",
       "      <th>last_quartile</th>\n",
       "    </tr>\n",
       "    <tr>\n",
       "      <th>usertype</th>\n",
       "      <th>gender</th>\n",
       "      <th></th>\n",
       "      <th></th>\n",
       "      <th></th>\n",
       "      <th></th>\n",
       "      <th></th>\n",
       "      <th></th>\n",
       "    </tr>\n",
       "  </thead>\n",
       "  <tbody>\n",
       "    <tr>\n",
       "      <th rowspan=\"2\" valign=\"top\">Customer</th>\n",
       "      <th>female</th>\n",
       "      <td>1915.260</td>\n",
       "      <td>1334</td>\n",
       "      <td>64</td>\n",
       "      <td>196570</td>\n",
       "      <td>7086.336</td>\n",
       "      <td>1720.250</td>\n",
       "    </tr>\n",
       "    <tr>\n",
       "      <th>male</th>\n",
       "      <td>1464.199</td>\n",
       "      <td>1229</td>\n",
       "      <td>65</td>\n",
       "      <td>42945</td>\n",
       "      <td>1895.461</td>\n",
       "      <td>1650.000</td>\n",
       "    </tr>\n",
       "    <tr>\n",
       "      <th rowspan=\"2\" valign=\"top\">Subscriber</th>\n",
       "      <th>female</th>\n",
       "      <td>909.563</td>\n",
       "      <td>683</td>\n",
       "      <td>61</td>\n",
       "      <td>1030505</td>\n",
       "      <td>4290.698</td>\n",
       "      <td>1102.000</td>\n",
       "    </tr>\n",
       "    <tr>\n",
       "      <th>male</th>\n",
       "      <td>799.261</td>\n",
       "      <td>582</td>\n",
       "      <td>61</td>\n",
       "      <td>5700729</td>\n",
       "      <td>8038.132</td>\n",
       "      <td>959.000</td>\n",
       "    </tr>\n",
       "  </tbody>\n",
       "</table>\n",
       "</div>"
      ],
      "text/plain": [
       "                  tripduration                                           \n",
       "                          mean median min      max      std last_quartile\n",
       "usertype   gender                                                        \n",
       "Customer   female     1915.260   1334  64   196570 7086.336      1720.250\n",
       "           male       1464.199   1229  65    42945 1895.461      1650.000\n",
       "Subscriber female      909.563    683  61  1030505 4290.698      1102.000\n",
       "           male        799.261    582  61  5700729 8038.132       959.000"
      ]
     },
     "execution_count": 61,
     "metadata": {},
     "output_type": "execute_result"
    }
   ],
   "source": [
    "## we can also add \"custom\" functions - for example, wrapped around the percentile\n",
    "def last_quartile(x):\n",
    "    return x.quantile(.75)\n",
    "\n",
    "df.groupby(['usertype', 'gender']).agg({'tripduration':['mean','median','min','max', 'std', last_quartile]})"
   ]
  },
  {
   "cell_type": "markdown",
   "metadata": {},
   "source": [
    "note, that wemen ride for a LONGER period of time than men. Does it mean they ride slower, or for a larger distances?"
   ]
  },
  {
   "cell_type": "markdown",
   "metadata": {
    "collapsed": true
   },
   "source": [
    "## Unique"
   ]
  },
  {
   "cell_type": "code",
   "execution_count": 109,
   "metadata": {
    "collapsed": true
   },
   "outputs": [],
   "source": [
    "#lets now get a clean set of all stations and their lat/lon pairs"
   ]
  },
  {
   "cell_type": "code",
   "execution_count": 110,
   "metadata": {
    "collapsed": true
   },
   "outputs": [],
   "source": [
    "cols = ['start station name', 'start station latitude', 'start station longitude']\n",
    "stations = df[cols]"
   ]
  },
  {
   "cell_type": "code",
   "execution_count": 112,
   "metadata": {
    "collapsed": false
   },
   "outputs": [],
   "source": [
    "stations.columns = [x.split(' ')[-1] for x in stations.columns] \n",
    "# drop repeating first part, by splitting string by space"
   ]
  },
  {
   "cell_type": "code",
   "execution_count": 113,
   "metadata": {
    "collapsed": true
   },
   "outputs": [],
   "source": [
    "# now, lets dedupe our table\n",
    "stations = stations.drop_duplicates()"
   ]
  },
  {
   "cell_type": "code",
   "execution_count": 114,
   "metadata": {
    "collapsed": false
   },
   "outputs": [
    {
     "data": {
      "text/plain": [
       "(483, 3)"
      ]
     },
     "execution_count": 114,
     "metadata": {},
     "output_type": "execute_result"
    }
   ],
   "source": [
    "stations.shape"
   ]
  },
  {
   "cell_type": "code",
   "execution_count": null,
   "metadata": {
    "collapsed": true
   },
   "outputs": [],
   "source": []
  }
 ],
 "metadata": {
  "kernelspec": {
   "display_name": "Python 3",
   "language": "python",
   "name": "python3"
  },
  "language_info": {
   "codemirror_mode": {
    "name": "ipython",
    "version": 3
   },
   "file_extension": ".py",
   "mimetype": "text/x-python",
   "name": "python",
   "nbconvert_exporter": "python",
   "pygments_lexer": "ipython3",
   "version": "3.6.1"
  }
 },
 "nbformat": 4,
 "nbformat_minor": 0
}
