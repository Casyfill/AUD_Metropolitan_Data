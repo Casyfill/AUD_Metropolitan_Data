{
 "cells": [
  {
   "cell_type": "markdown",
   "metadata": {},
   "source": [
    "# 1. Functions"
   ]
  },
  {
   "cell_type": "markdown",
   "metadata": {},
   "source": [
    "there are a few main rules of thumb for the coders:\n",
    "    - KISS (Keep it Simple, Stupid)\n",
    "    - DRY (Don't repeat yourself)\n",
    "    - YaGNY (“You Aren’t Gonna Need It”)\n",
    "    \n",
    "http://www.itexico.com/blog/bid/99765/software-development-kiss-yagni-dry-3-principles-to-simplify-your-life\n",
    "\n",
    "\n",
    "I think, DRY is the main one though: good code meanse as less code as you can, with minimum amount of repetition.\n",
    "In practice, you want to keep code simple, expressive and short, first of all - becaouse it will make way easier to debug (find mistakes) and maintain (change, adjust and adopt) the code.\n",
    "\n",
    "In practice, that mean that if there is a functionality that you use frequently, it should be converted to one single function, and then you can call (activate) this function whenever you want - being sure that it works as you intended it to be. It will also help you to change the code (as you will be sure where to make changes) and spend less memory."
   ]
  },
  {
   "cell_type": "markdown",
   "metadata": {},
   "source": [
    "#### So, what is the function?\n",
    "\n",
    "A function is a block of organized, reusable code that is used to perform a single, related action. Functions provide better modularity for your application and a high degree of code reusing. As you already know, Python gives you many built-in functions like print(), etc. but you can also create your own functions."
   ]
  },
  {
   "cell_type": "markdown",
   "metadata": {},
   "source": [
    "Here is a nice tutorial on functions: https://www.tutorialspoint.com/python/python_functions.htm"
   ]
  },
  {
   "cell_type": "code",
   "execution_count": 1,
   "metadata": {
    "collapsed": false
   },
   "outputs": [
    {
     "name": "stdout",
     "output_type": "stream",
     "text": [
      "Hello_World!\n"
     ]
    }
   ],
   "source": [
    "# Lets write a new function\n",
    "\n",
    "def my_first_function(el):\n",
    "    print(el)\n",
    "    \n",
    "    \n",
    "my_first_function('Hello_World!')"
   ]
  },
  {
   "cell_type": "code",
   "execution_count": 2,
   "metadata": {
    "collapsed": false
   },
   "outputs": [
    {
     "name": "stdout",
     "output_type": "stream",
     "text": [
      "HELLO_WORLD!\n"
     ]
    }
   ],
   "source": [
    "def print_upper(text):\n",
    "    print(text.upper())\n",
    "    \n",
    "print_upper('Hello_World!')"
   ]
  },
  {
   "cell_type": "code",
   "execution_count": 4,
   "metadata": {
    "collapsed": false
   },
   "outputs": [
    {
     "name": "stdout",
     "output_type": "stream",
     "text": [
      "TURN\n",
      "BACK\n",
      "DULL\n",
      "EARTH\n",
      "AND\n",
      "FIND\n",
      "THE\n",
      "CENTRE\n",
      "OUT!\n"
     ]
    }
   ],
   "source": [
    "# and now you can use this function whenever you want:\n",
    "for el in \"Turn back dull earth and find the centre out!\".split(): # split by default splits by whitespace\n",
    "    print_upper(el)"
   ]
  },
  {
   "cell_type": "code",
   "execution_count": 14,
   "metadata": {
    "collapsed": false
   },
   "outputs": [],
   "source": [
    "# we can pass multiple parameters to the function\n",
    "\n",
    "def total_calculator(amount, tax, tip):\n",
    "    txed = amount * tax\n",
    "    suggested_tip = (txed + amount) * tip\n",
    "    total = (txed + amount) + suggested_tip\n",
    "    \n",
    "    print('Amount: {:.2f}'.format(amount))\n",
    "    print ('tax: {:.2f}'.format(txed))\n",
    "    print ('Suggested tip: {:.2f}'.format(suggested_tip))\n",
    "    print ('Total: {:.2f}'.format(total))"
   ]
  },
  {
   "cell_type": "code",
   "execution_count": 17,
   "metadata": {
    "collapsed": false
   },
   "outputs": [
    {
     "name": "stdout",
     "output_type": "stream",
     "text": [
      "Amount: 16.43\n",
      "tax: 1.48\n",
      "Suggested tip: 2.69\n",
      "Total: 20.60\n"
     ]
    }
   ],
   "source": [
    "total_calculator(amount=16.43, tax=.09, tip=.15)"
   ]
  },
  {
   "cell_type": "markdown",
   "metadata": {},
   "source": [
    "You can set default parameters, so you will nod to type them in every time, if you don't want to change them"
   ]
  },
  {
   "cell_type": "code",
   "execution_count": 20,
   "metadata": {
    "collapsed": false
   },
   "outputs": [
    {
     "name": "stdout",
     "output_type": "stream",
     "text": [
      "Amount: 16.43\n",
      "tax: 1.48\n",
      "Suggested tip: 2.69\n",
      "Total: 20.60\n"
     ]
    }
   ],
   "source": [
    "\n",
    "def total_calculator(amount, tax=0.09, tip=0.15):\n",
    "    txed = amount * tax\n",
    "    suggested_tip = (txed + amount) * tip\n",
    "    total = (txed + amount) + suggested_tip\n",
    "    \n",
    "    print('Amount: {:.2f}'.format(amount))\n",
    "    print ('tax: {:.2f}'.format(txed))\n",
    "    print ('Suggested tip: {:.2f}'.format(suggested_tip))\n",
    "    print ('Total: {:.2f}'.format(total))\n",
    "    \n",
    "    \n",
    "total_calculator(16.43)"
   ]
  },
  {
   "cell_type": "code",
   "execution_count": 22,
   "metadata": {
    "collapsed": false
   },
   "outputs": [],
   "source": [
    "## functions can be nested\n",
    "\n",
    "def fibo(n, lim=100):\n",
    "    if n<lim:\n",
    "        print(n)\n",
    "        fibo(2*n + 1)"
   ]
  },
  {
   "cell_type": "code",
   "execution_count": 23,
   "metadata": {
    "collapsed": false
   },
   "outputs": [
    {
     "name": "stdout",
     "output_type": "stream",
     "text": [
      "1\n",
      "3\n",
      "7\n",
      "15\n",
      "31\n",
      "63\n"
     ]
    }
   ],
   "source": [
    "fibo(1)"
   ]
  },
  {
   "cell_type": "code",
   "execution_count": 24,
   "metadata": {
    "collapsed": true
   },
   "outputs": [],
   "source": [
    "## function can even be produced by another function (factory, in coding terms)"
   ]
  },
  {
   "cell_type": "code",
   "execution_count": 28,
   "metadata": {
    "collapsed": false
   },
   "outputs": [
    {
     "name": "stdout",
     "output_type": "stream",
     "text": [
      "DLROW OLLEH\n"
     ]
    }
   ],
   "source": [
    "# if you want function to return the result, use `return`\n",
    "\n",
    "def inverse_string(s):\n",
    "        return s[::-1] #reverses the string\n",
    "    \n",
    "    \n",
    "x = inverse_string('HELLO WORLD')\n",
    "print(x)"
   ]
  },
  {
   "cell_type": "code",
   "execution_count": 29,
   "metadata": {
    "collapsed": false
   },
   "outputs": [
    {
     "data": {
      "text/plain": [
       "'Hello'"
      ]
     },
     "execution_count": 29,
     "metadata": {},
     "output_type": "execute_result"
    }
   ],
   "source": [
    "# return stops any computations after it\n",
    "\n",
    "def return_before(el):\n",
    "    words = el.split()\n",
    "    if len(words) > 2:\n",
    "        return words[0]\n",
    "    print(words[-1])\n",
    "\n",
    "return_before('Hello from the cold-cold NYC')    "
   ]
  },
  {
   "cell_type": "markdown",
   "metadata": {},
   "source": [
    "There is an alternative to return - a yield. Yield returns element, but then continues the code until the end. in fact, it is slightly more complicated: yield returns a \"promise\" of the computation, so that any time anyone requests the value, whole computation will be performed. as it returns multiple values, it works as a \"list\"-like object (even if there is one value) - generator. However, as it is only a promise of the computation, it does not know of the lenght of the generator - you cannnot tell until you compute. But it is a good thing - this way you can create infinite generators, which can be very handy"
   ]
  },
  {
   "cell_type": "code",
   "execution_count": 42,
   "metadata": {
    "collapsed": true
   },
   "outputs": [],
   "source": [
    "def draw_a_color(colors):\n",
    "    l = len(colors)\n",
    "    i = 0\n",
    "    while True:\n",
    "        if i == l: # if lenght of colors set is approached, return to zero\n",
    "            i = 0  \n",
    "        \n",
    "        yield colors[i]\n",
    "        i+=1\n",
    "\n",
    "\n",
    "c = draw_a_color(['red', 'blue','green'])"
   ]
  },
  {
   "cell_type": "code",
   "execution_count": 43,
   "metadata": {
    "collapsed": false
   },
   "outputs": [
    {
     "name": "stdout",
     "output_type": "stream",
     "text": [
      "red\n",
      "blue\n",
      "green\n",
      "red\n",
      "blue\n",
      "green\n",
      "red\n",
      "blue\n",
      "green\n",
      "red\n",
      "blue\n",
      "green\n",
      "red\n"
     ]
    }
   ],
   "source": [
    "for i in range(13): # you can draw any number of colors, the generator is infinite\n",
    "    print(next(c))"
   ]
  },
  {
   "cell_type": "markdown",
   "metadata": {},
   "source": [
    "Note, that this is primitive implementation of a special `cycle` object, that lives im `collections` default module,"
   ]
  },
  {
   "cell_type": "markdown",
   "metadata": {},
   "source": [
    "## Functions: Some common recomendations "
   ]
  },
  {
   "cell_type": "markdown",
   "metadata": {},
   "source": [
    "1) Name functions with underscore and the verb! Name them clearly, to give an idea what it is all about"
   ]
  },
  {
   "cell_type": "markdown",
   "metadata": {},
   "source": [
    "2) Use a docstring:"
   ]
  },
  {
   "cell_type": "code",
   "execution_count": 44,
   "metadata": {
    "collapsed": true
   },
   "outputs": [],
   "source": [
    "\n",
    "def total_calculator(amount, tax=0.09, tip=0.15):\n",
    "    '''calculates and prints out tax, tip, and\n",
    "    total amount\n",
    "    \n",
    "    Args:\n",
    "        amount(float|int): amount of money spent\n",
    "        tax(float): tax ratio, meant to be 0t>1\n",
    "        tip(float): preffered tip ratio, meant to be 0t>1\n",
    "    Returns:\n",
    "        nothing\n",
    "    '''\n",
    "    \n",
    "    txed = amount * tax\n",
    "    suggested_tip = (txed + amount) * tip\n",
    "    total = (txed + amount) + suggested_tip\n",
    "    \n",
    "    print('Amount: {:.2f}'.format(amount))\n",
    "    print ('tax: {:.2f}'.format(txed))\n",
    "    print ('Suggested tip: {:.2f}'.format(suggested_tip))\n",
    "    print ('Total: {:.2f}'.format(total))\n",
    "    "
   ]
  },
  {
   "cell_type": "markdown",
   "metadata": {},
   "source": [
    "There are a few different standarts of docstrings - I prefer google standart (all of those are optional, this is just a best practice)"
   ]
  },
  {
   "cell_type": "markdown",
   "metadata": {},
   "source": [
    "- https://google.github.io/styleguide/pyguide.html\n",
    "- https://www.chromium.org/chromium-os/python-style-guidelines"
   ]
  },
  {
   "cell_type": "markdown",
   "metadata": {},
   "source": [
    "There are a few reasons to write docstrings:\n",
    "    \n",
    "- it will make easier to read the code by itself\n",
    "- docstring will be shown if someone request help on your function:\n",
    "- for modules, you can generate a nice documentation of your functions into the html or pdf, like this one: http://pandas.pydata.org/pandas-docs/stable/generated/pandas.DataFrame.groupby.html. It was automatically generated from the docstring"
   ]
  },
  {
   "cell_type": "code",
   "execution_count": 47,
   "metadata": {
    "collapsed": true
   },
   "outputs": [],
   "source": [
    "?total_calculator # run this"
   ]
  },
  {
   "cell_type": "markdown",
   "metadata": {},
   "source": [
    "## Anonimous functions"
   ]
  },
  {
   "cell_type": "code",
   "execution_count": 48,
   "metadata": {
    "collapsed": true
   },
   "outputs": [],
   "source": [
    "## sometimes, you need a small function just once and you don't want to keep it stored or even give it a name.\n",
    "## usually this happens if function is required by another function"
   ]
  },
  {
   "cell_type": "code",
   "execution_count": 49,
   "metadata": {
    "collapsed": true
   },
   "outputs": [],
   "source": [
    "## in this case, you can use lambda:"
   ]
  },
  {
   "cell_type": "code",
   "execution_count": 56,
   "metadata": {
    "collapsed": true
   },
   "outputs": [],
   "source": [
    "def function_executor(f, x):\n",
    "    for el in range(4):\n",
    "        print(f(x))"
   ]
  },
  {
   "cell_type": "code",
   "execution_count": 57,
   "metadata": {
    "collapsed": false
   },
   "outputs": [
    {
     "name": "stdout",
     "output_type": "stream",
     "text": [
      "HELLO\n",
      "HELLO\n",
      "HELLO\n",
      "HELLO\n"
     ]
    }
   ],
   "source": [
    "function_executor(lambda x: x.upper(), 'hello')"
   ]
  },
  {
   "cell_type": "markdown",
   "metadata": {},
   "source": [
    "# 2. Modules"
   ]
  },
  {
   "cell_type": "markdown",
   "metadata": {},
   "source": [
    "Modules are essentially files with some code in them.\n",
    "However, nice thing about python is that it is very easy to load stuff from one file into another\n",
    "for example, let me import function from the file that stays in the same folder:\n",
    "    "
   ]
  },
  {
   "cell_type": "code",
   "execution_count": 60,
   "metadata": {
    "collapsed": true
   },
   "outputs": [],
   "source": [
    "from example_module import example_function"
   ]
  },
  {
   "cell_type": "code",
   "execution_count": 61,
   "metadata": {
    "collapsed": false
   },
   "outputs": [
    {
     "name": "stdout",
     "output_type": "stream",
     "text": [
      "I am gonna print example variable!!!!\n",
      " I am an example variable!\n"
     ]
    }
   ],
   "source": [
    "example_function()"
   ]
  },
  {
   "cell_type": "markdown",
   "metadata": {},
   "source": [
    "Note, that we didn't import the variable here - function was able to get the data from the module itself!\n",
    "Thus, we can keep all the large functions in separate modules, and then use it in our notebook! It is very convinient!"
   ]
  },
  {
   "cell_type": "code",
   "execution_count": 63,
   "metadata": {
    "collapsed": true
   },
   "outputs": [],
   "source": [
    "# of course, we can import variables as well\n",
    "from example_module import example_variable"
   ]
  },
  {
   "cell_type": "markdown",
   "metadata": {},
   "source": [
    "note that autocomplete will even find possible solutions for you!"
   ]
  },
  {
   "cell_type": "markdown",
   "metadata": {},
   "source": [
    "So essentially packages you have to install (like pandas)\n",
    "are build with the very same `.py` files but just kept by python in a separate place, so you don't need to copy-paste them each time"
   ]
  },
  {
   "cell_type": "code",
   "execution_count": 64,
   "metadata": {
    "collapsed": true
   },
   "outputs": [],
   "source": [
    "import pandas as pd"
   ]
  },
  {
   "cell_type": "markdown",
   "metadata": {},
   "source": [
    "https://learnpythonthehardway.org/book/ex40.html"
   ]
  },
  {
   "cell_type": "markdown",
   "metadata": {},
   "source": [
    "# 3. Classes"
   ]
  },
  {
   "cell_type": "markdown",
   "metadata": {},
   "source": [
    "first of all, we rarely write classes in Data analysis, so don't take this too seriously."
   ]
  },
  {
   "cell_type": "markdown",
   "metadata": {},
   "source": [
    "However, classes are very important for a general programming. You can think of classes as blueprints of certain object, platonic idea. Particular object in this case will be an instance of the class.\n",
    "\n",
    "Practically speaking, class is the entity that can keep attached variables and functions as it's parts"
   ]
  },
  {
   "cell_type": "code",
   "execution_count": 107,
   "metadata": {
    "collapsed": true
   },
   "outputs": [],
   "source": [
    "class Car():\n",
    "    '''simple example of class'''\n",
    "    pos = 0\n",
    "    \n",
    "    ## __init__ represents the initiation of the class (look at next cell)\n",
    "    ## and self - represents the Car object by itself. it will be hidden when you will use the class\n",
    "    def __init__(self, model, color, fuel, speed, pos=0):  \n",
    "        self.model = model\n",
    "        self.color = color\n",
    "        self.fuel = fuel\n",
    "        self.speed = speed\n",
    "        self.pos = pos\n",
    "    \n",
    "    def drive_forward(self):\n",
    "        if self.fuel<=0:\n",
    "            raise Exception('no fuel')\n",
    "        self.pos += self.speed\n",
    "        self.fuel -=1\n",
    "    \n",
    "    def honk(self):\n",
    "        print('Honk! Honk!')"
   ]
  },
  {
   "cell_type": "code",
   "execution_count": 108,
   "metadata": {
    "collapsed": false
   },
   "outputs": [],
   "source": [
    "# creating an object\n",
    "Mycar = Car(model='Zaporozhets', color='pink', fuel=1, speed=2, pos=0)"
   ]
  },
  {
   "cell_type": "code",
   "execution_count": 109,
   "metadata": {
    "collapsed": false
   },
   "outputs": [
    {
     "data": {
      "text/plain": [
       "0"
      ]
     },
     "execution_count": 109,
     "metadata": {},
     "output_type": "execute_result"
    }
   ],
   "source": [
    "Mycar.pos"
   ]
  },
  {
   "cell_type": "code",
   "execution_count": 110,
   "metadata": {
    "collapsed": false
   },
   "outputs": [
    {
     "name": "stdout",
     "output_type": "stream",
     "text": [
      "2\n",
      "0\n"
     ]
    }
   ],
   "source": [
    "Mycar.drive_forward()\n",
    "print(Mycar.pos)\n",
    "print(Mycar.fuel)"
   ]
  },
  {
   "cell_type": "code",
   "execution_count": 111,
   "metadata": {
    "collapsed": false
   },
   "outputs": [
    {
     "ename": "Exception",
     "evalue": "no fuel",
     "output_type": "error",
     "traceback": [
      "\u001b[0;31m---------------------------------------------------------------------------\u001b[0m",
      "\u001b[0;31mException\u001b[0m                                 Traceback (most recent call last)",
      "\u001b[0;32m<ipython-input-111-7d19188f679a>\u001b[0m in \u001b[0;36m<module>\u001b[0;34m()\u001b[0m\n\u001b[0;32m----> 1\u001b[0;31m \u001b[0mMycar\u001b[0m\u001b[0;34m.\u001b[0m\u001b[0mdrive_forward\u001b[0m\u001b[0;34m(\u001b[0m\u001b[0;34m)\u001b[0m\u001b[0;34m\u001b[0m\u001b[0m\n\u001b[0m",
      "\u001b[0;32m<ipython-input-107-7d505e8ed296>\u001b[0m in \u001b[0;36mdrive_forward\u001b[0;34m(self)\u001b[0m\n\u001b[1;32m     11\u001b[0m     \u001b[0;32mdef\u001b[0m \u001b[0mdrive_forward\u001b[0m\u001b[0;34m(\u001b[0m\u001b[0mself\u001b[0m\u001b[0;34m)\u001b[0m\u001b[0;34m:\u001b[0m\u001b[0;34m\u001b[0m\u001b[0m\n\u001b[1;32m     12\u001b[0m         \u001b[0;32mif\u001b[0m \u001b[0mself\u001b[0m\u001b[0;34m.\u001b[0m\u001b[0mfuel\u001b[0m\u001b[0;34m<=\u001b[0m\u001b[0;36m0\u001b[0m\u001b[0;34m:\u001b[0m\u001b[0;34m\u001b[0m\u001b[0m\n\u001b[0;32m---> 13\u001b[0;31m             \u001b[0;32mraise\u001b[0m \u001b[0mException\u001b[0m\u001b[0;34m(\u001b[0m\u001b[0;34m'no fuel'\u001b[0m\u001b[0;34m)\u001b[0m\u001b[0;34m\u001b[0m\u001b[0m\n\u001b[0m\u001b[1;32m     14\u001b[0m         \u001b[0mself\u001b[0m\u001b[0;34m.\u001b[0m\u001b[0mpos\u001b[0m \u001b[0;34m+=\u001b[0m \u001b[0mself\u001b[0m\u001b[0;34m.\u001b[0m\u001b[0mspeed\u001b[0m\u001b[0;34m\u001b[0m\u001b[0m\n\u001b[1;32m     15\u001b[0m         \u001b[0mself\u001b[0m\u001b[0;34m.\u001b[0m\u001b[0mfuel\u001b[0m \u001b[0;34m-=\u001b[0m\u001b[0;36m1\u001b[0m\u001b[0;34m\u001b[0m\u001b[0m\n",
      "\u001b[0;31mException\u001b[0m: no fuel"
     ]
    }
   ],
   "source": [
    "Mycar.drive_forward()"
   ]
  },
  {
   "cell_type": "code",
   "execution_count": 112,
   "metadata": {
    "collapsed": false
   },
   "outputs": [
    {
     "data": {
      "text/plain": [
       "'pink'"
      ]
     },
     "execution_count": 112,
     "metadata": {},
     "output_type": "execute_result"
    }
   ],
   "source": [
    "Mycar.color"
   ]
  },
  {
   "cell_type": "code",
   "execution_count": 113,
   "metadata": {
    "collapsed": false
   },
   "outputs": [
    {
     "name": "stdout",
     "output_type": "stream",
     "text": [
      "Honk! Honk!\n"
     ]
    }
   ],
   "source": [
    "Mycar.honk()"
   ]
  },
  {
   "cell_type": "code",
   "execution_count": 114,
   "metadata": {
    "collapsed": false
   },
   "outputs": [],
   "source": [
    "#Now, we can generate many cars at once:\n",
    "ManyCars = [Car(model='Zaporozhets', color='pink', fuel=1, speed=2, pos=i) for i in range(10) ]"
   ]
  },
  {
   "cell_type": "markdown",
   "metadata": {},
   "source": [
    "Classes are often used in couple with the `inheritance` concapt - which mean that the certain class of the objects can be \"wrapped\" into another class, with additional functionality"
   ]
  },
  {
   "cell_type": "code",
   "execution_count": 115,
   "metadata": {
    "collapsed": true
   },
   "outputs": [],
   "source": [
    "class ElectricCar(Car): # note the Car class passed here\n",
    "    \n",
    "    def super_charge(self, hours=1):\n",
    "        self.fuel += hours"
   ]
  },
  {
   "cell_type": "code",
   "execution_count": 128,
   "metadata": {
    "collapsed": true
   },
   "outputs": [],
   "source": [
    "MyNewCar = ElectricCar(\"Tesla\", color='Green', fuel=10, speed=10)"
   ]
  },
  {
   "cell_type": "code",
   "execution_count": 129,
   "metadata": {
    "collapsed": false
   },
   "outputs": [
    {
     "name": "stdout",
     "output_type": "stream",
     "text": [
      "Honk! Honk!\n"
     ]
    }
   ],
   "source": [
    "MyNewCar.honk()"
   ]
  },
  {
   "cell_type": "code",
   "execution_count": 130,
   "metadata": {
    "collapsed": false
   },
   "outputs": [
    {
     "name": "stdout",
     "output_type": "stream",
     "text": [
      "0\n",
      "10\n"
     ]
    }
   ],
   "source": [
    "print(MyNewCar.pos)\n",
    "MyNewCar.drive_forward()\n",
    "print(MyNewCar.pos)"
   ]
  },
  {
   "cell_type": "code",
   "execution_count": 131,
   "metadata": {
    "collapsed": false
   },
   "outputs": [
    {
     "name": "stdout",
     "output_type": "stream",
     "text": [
      "9\n",
      "10\n"
     ]
    }
   ],
   "source": [
    "print(MyNewCar.fuel)\n",
    "MyNewCar.super_charge()\n",
    "print(MyNewCar.fuel)"
   ]
  },
  {
   "cell_type": "markdown",
   "metadata": {},
   "source": [
    "As you see, it is very convinient-  any time now we can change the `Car` code, - and that will get immidiate effect on Electric car as well!"
   ]
  }
 ],
 "metadata": {
  "kernelspec": {
   "display_name": "Python 3",
   "language": "python",
   "name": "python3"
  },
  "language_info": {
   "codemirror_mode": {
    "name": "ipython",
    "version": 3
   },
   "file_extension": ".py",
   "mimetype": "text/x-python",
   "name": "python",
   "nbconvert_exporter": "python",
   "pygments_lexer": "ipython3",
   "version": "3.6.1"
  }
 },
 "nbformat": 4,
 "nbformat_minor": 0
}
