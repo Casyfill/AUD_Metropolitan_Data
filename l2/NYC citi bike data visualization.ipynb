{
 "cells": [
  {
   "cell_type": "markdown",
   "metadata": {},
   "source": [
    "## Introduction"
   ]
  },
  {
   "cell_type": "markdown",
   "metadata": {},
   "source": [
    "CitiBike's data sharing information can be found at their [System Data website](https://www.citibikenyc.com/system-data). They provide information about the data set, such as included variables and their description. The data have been pre-cleaned before uploading, for example by removing trips taken by staff and any trips below 60 seconds in length. This means the data should be ready to use with no need for additional cleaning.\n",
    "\n",
    "The data are organized in monthly subsets (each in its own '.csv' file) and are available since July 2013, soon after citibike service started, up until October 2015 (previous month, as of this writing). Using data from one whole year is probably the most appropriate, as there may be yearly patterns. Also, this will provide a good amount of observations, enough for most analysis we may want to do. For this exercise the data for 2016 Dec was used.\n"
   ]
  },
  {
   "cell_type": "code",
   "execution_count": 29,
   "metadata": {
    "collapsed": true
   },
   "outputs": [],
   "source": [
    "import pandas as pd"
   ]
  },
  {
   "cell_type": "code",
   "execution_count": 2,
   "metadata": {
    "collapsed": true
   },
   "outputs": [],
   "source": [
    "bike_data = pd.read_csv('201612-citibike-tripdata.csv')"
   ]
  },
  {
   "cell_type": "markdown",
   "metadata": {},
   "source": [
    "### Series\n",
    "A Series is a one-dimensional object similar to an array, list, or column in a table. It will assign a labeled index to each item in the Series. By default, each item will receive an index label from 0 to N, where N is the length of the Series minus one."
   ]
  },
  {
   "cell_type": "markdown",
   "metadata": {},
   "source": [
    "### DataFrame\n",
    "A DataFrame is a tablular data structure comprised of rows and columns, akin to a spreadsheet, database table. You can also think of a DataFrame as a group of Series objects that share an index (the column names).\n",
    "For the rest of the tutorial, we'll be primarily working with DataFrames."
   ]
  },
  {
   "cell_type": "code",
   "execution_count": 3,
   "metadata": {
    "collapsed": false
   },
   "outputs": [
    {
     "data": {
      "text/html": [
       "<div>\n",
       "<table border=\"1\" class=\"dataframe\">\n",
       "  <thead>\n",
       "    <tr style=\"text-align: right;\">\n",
       "      <th></th>\n",
       "      <th>Trip Duration</th>\n",
       "      <th>Start Time</th>\n",
       "      <th>Stop Time</th>\n",
       "      <th>Start Station ID</th>\n",
       "      <th>Start Station Name</th>\n",
       "      <th>Start Station Latitude</th>\n",
       "      <th>Start Station Longitude</th>\n",
       "      <th>End Station ID</th>\n",
       "      <th>End Station Name</th>\n",
       "      <th>End Station Latitude</th>\n",
       "      <th>End Station Longitude</th>\n",
       "      <th>Bike ID</th>\n",
       "      <th>User Type</th>\n",
       "      <th>Birth Year</th>\n",
       "      <th>Gender</th>\n",
       "    </tr>\n",
       "  </thead>\n",
       "  <tbody>\n",
       "    <tr>\n",
       "      <th>0</th>\n",
       "      <td>528</td>\n",
       "      <td>2016-12-01 00:00:04</td>\n",
       "      <td>2016-12-01 00:08:52</td>\n",
       "      <td>499</td>\n",
       "      <td>Broadway &amp; W 60 St</td>\n",
       "      <td>40.769155</td>\n",
       "      <td>-73.981918</td>\n",
       "      <td>228</td>\n",
       "      <td>E 48 St &amp; 3 Ave</td>\n",
       "      <td>40.754601</td>\n",
       "      <td>-73.971879</td>\n",
       "      <td>26931</td>\n",
       "      <td>Subscriber</td>\n",
       "      <td>1964.0</td>\n",
       "      <td>1</td>\n",
       "    </tr>\n",
       "    <tr>\n",
       "      <th>1</th>\n",
       "      <td>218</td>\n",
       "      <td>2016-12-01 00:00:28</td>\n",
       "      <td>2016-12-01 00:04:06</td>\n",
       "      <td>3418</td>\n",
       "      <td>Plaza St West &amp; Flatbush Ave</td>\n",
       "      <td>40.675021</td>\n",
       "      <td>-73.971115</td>\n",
       "      <td>3358</td>\n",
       "      <td>Garfield Pl &amp; 8 Ave</td>\n",
       "      <td>40.671198</td>\n",
       "      <td>-73.974841</td>\n",
       "      <td>27122</td>\n",
       "      <td>Subscriber</td>\n",
       "      <td>1955.0</td>\n",
       "      <td>1</td>\n",
       "    </tr>\n",
       "    <tr>\n",
       "      <th>2</th>\n",
       "      <td>399</td>\n",
       "      <td>2016-12-01 00:00:39</td>\n",
       "      <td>2016-12-01 00:07:19</td>\n",
       "      <td>297</td>\n",
       "      <td>E 15 St &amp; 3 Ave</td>\n",
       "      <td>40.734232</td>\n",
       "      <td>-73.986923</td>\n",
       "      <td>345</td>\n",
       "      <td>W 13 St &amp; 6 Ave</td>\n",
       "      <td>40.736494</td>\n",
       "      <td>-73.997044</td>\n",
       "      <td>19352</td>\n",
       "      <td>Subscriber</td>\n",
       "      <td>1985.0</td>\n",
       "      <td>1</td>\n",
       "    </tr>\n",
       "    <tr>\n",
       "      <th>3</th>\n",
       "      <td>254</td>\n",
       "      <td>2016-12-01 00:00:44</td>\n",
       "      <td>2016-12-01 00:04:59</td>\n",
       "      <td>405</td>\n",
       "      <td>Washington St &amp; Gansevoort St</td>\n",
       "      <td>40.739323</td>\n",
       "      <td>-74.008119</td>\n",
       "      <td>358</td>\n",
       "      <td>Christopher St &amp; Greenwich St</td>\n",
       "      <td>40.732916</td>\n",
       "      <td>-74.007114</td>\n",
       "      <td>20015</td>\n",
       "      <td>Subscriber</td>\n",
       "      <td>1982.0</td>\n",
       "      <td>1</td>\n",
       "    </tr>\n",
       "    <tr>\n",
       "      <th>4</th>\n",
       "      <td>1805</td>\n",
       "      <td>2016-12-01 00:00:54</td>\n",
       "      <td>2016-12-01 00:31:00</td>\n",
       "      <td>279</td>\n",
       "      <td>Peck Slip &amp; Front St</td>\n",
       "      <td>40.707873</td>\n",
       "      <td>-74.001670</td>\n",
       "      <td>279</td>\n",
       "      <td>Peck Slip &amp; Front St</td>\n",
       "      <td>40.707873</td>\n",
       "      <td>-74.001670</td>\n",
       "      <td>23148</td>\n",
       "      <td>Subscriber</td>\n",
       "      <td>1989.0</td>\n",
       "      <td>1</td>\n",
       "    </tr>\n",
       "  </tbody>\n",
       "</table>\n",
       "</div>"
      ],
      "text/plain": [
       "   Trip Duration           Start Time            Stop Time  Start Station ID  \\\n",
       "0            528  2016-12-01 00:00:04  2016-12-01 00:08:52               499   \n",
       "1            218  2016-12-01 00:00:28  2016-12-01 00:04:06              3418   \n",
       "2            399  2016-12-01 00:00:39  2016-12-01 00:07:19               297   \n",
       "3            254  2016-12-01 00:00:44  2016-12-01 00:04:59               405   \n",
       "4           1805  2016-12-01 00:00:54  2016-12-01 00:31:00               279   \n",
       "\n",
       "              Start Station Name  Start Station Latitude  \\\n",
       "0             Broadway & W 60 St               40.769155   \n",
       "1   Plaza St West & Flatbush Ave               40.675021   \n",
       "2                E 15 St & 3 Ave               40.734232   \n",
       "3  Washington St & Gansevoort St               40.739323   \n",
       "4           Peck Slip & Front St               40.707873   \n",
       "\n",
       "   Start Station Longitude  End Station ID               End Station Name  \\\n",
       "0               -73.981918             228                E 48 St & 3 Ave   \n",
       "1               -73.971115            3358            Garfield Pl & 8 Ave   \n",
       "2               -73.986923             345                W 13 St & 6 Ave   \n",
       "3               -74.008119             358  Christopher St & Greenwich St   \n",
       "4               -74.001670             279           Peck Slip & Front St   \n",
       "\n",
       "   End Station Latitude  End Station Longitude  Bike ID   User Type  \\\n",
       "0             40.754601             -73.971879    26931  Subscriber   \n",
       "1             40.671198             -73.974841    27122  Subscriber   \n",
       "2             40.736494             -73.997044    19352  Subscriber   \n",
       "3             40.732916             -74.007114    20015  Subscriber   \n",
       "4             40.707873             -74.001670    23148  Subscriber   \n",
       "\n",
       "   Birth Year  Gender  \n",
       "0      1964.0       1  \n",
       "1      1955.0       1  \n",
       "2      1985.0       1  \n",
       "3      1982.0       1  \n",
       "4      1989.0       1  "
      ]
     },
     "execution_count": 3,
     "metadata": {},
     "output_type": "execute_result"
    }
   ],
   "source": [
    "bike_data.head()"
   ]
  },
  {
   "cell_type": "code",
   "execution_count": 17,
   "metadata": {
    "collapsed": false,
    "scrolled": true
   },
   "outputs": [
    {
     "data": {
      "text/plain": [
       "Index(['Trip Duration', 'Start Time', 'Stop Time', 'Start Station ID',\n",
       "       'Start Station Name', 'Start Station Latitude',\n",
       "       'Start Station Longitude', 'End Station ID', 'End Station Name',\n",
       "       'End Station Latitude', 'End Station Longitude', 'Bike ID', 'User Type',\n",
       "       'Birth Year', 'Gender'],\n",
       "      dtype='object')"
      ]
     },
     "execution_count": 17,
     "metadata": {},
     "output_type": "execute_result"
    }
   ],
   "source": [
    "bike_data.columns"
   ]
  },
  {
   "cell_type": "code",
   "execution_count": 18,
   "metadata": {
    "collapsed": false
   },
   "outputs": [
    {
     "data": {
      "text/plain": [
       "Trip Duration                int64\n",
       "Start Time                  object\n",
       "Stop Time                   object\n",
       "Start Station ID             int64\n",
       "Start Station Name          object\n",
       "Start Station Latitude     float64\n",
       "Start Station Longitude    float64\n",
       "End Station ID               int64\n",
       "End Station Name            object\n",
       "End Station Latitude       float64\n",
       "End Station Longitude      float64\n",
       "Bike ID                      int64\n",
       "User Type                   object\n",
       "Birth Year                 float64\n",
       "Gender                       int64\n",
       "dtype: object"
      ]
     },
     "execution_count": 18,
     "metadata": {},
     "output_type": "execute_result"
    }
   ],
   "source": [
    "bike_data.dtypes"
   ]
  },
  {
   "cell_type": "code",
   "execution_count": 19,
   "metadata": {
    "collapsed": false
   },
   "outputs": [
    {
     "data": {
      "text/plain": [
       "(812192, 15)"
      ]
     },
     "execution_count": 19,
     "metadata": {},
     "output_type": "execute_result"
    }
   ],
   "source": [
    "bike_data.shape"
   ]
  },
  {
   "cell_type": "code",
   "execution_count": 20,
   "metadata": {
    "collapsed": false
   },
   "outputs": [
    {
     "data": {
      "text/plain": [
       "'2016-12-01 00:00:04'"
      ]
     },
     "execution_count": 20,
     "metadata": {},
     "output_type": "execute_result"
    }
   ],
   "source": [
    "bike_data['Start Time'].min()"
   ]
  },
  {
   "cell_type": "code",
   "execution_count": 21,
   "metadata": {
    "collapsed": false
   },
   "outputs": [
    {
     "data": {
      "text/plain": [
       "'2016-12-31 23:59:56'"
      ]
     },
     "execution_count": 21,
     "metadata": {},
     "output_type": "execute_result"
    }
   ],
   "source": [
    "bike_data['Start Time'].max()"
   ]
  },
  {
   "cell_type": "code",
   "execution_count": 22,
   "metadata": {
    "collapsed": false
   },
   "outputs": [
    {
     "data": {
      "text/plain": [
       "'2016-12-01 00:04:06'"
      ]
     },
     "execution_count": 22,
     "metadata": {},
     "output_type": "execute_result"
    }
   ],
   "source": [
    "bike_data['Stop Time'].min()"
   ]
  },
  {
   "cell_type": "code",
   "execution_count": 23,
   "metadata": {
    "collapsed": false
   },
   "outputs": [
    {
     "data": {
      "text/plain": [
       "'2017-01-19 08:08:17'"
      ]
     },
     "execution_count": 23,
     "metadata": {},
     "output_type": "execute_result"
    }
   ],
   "source": [
    "bike_data['Stop Time'].max()"
   ]
  },
  {
   "cell_type": "markdown",
   "metadata": {},
   "source": [
    "Let's compute the number of indivudual bikes available. We can do it using function **unique()**. This function returns an array contained only distinct bike IDs. After that we can get the dimension properties of the created array."
   ]
  },
  {
   "cell_type": "code",
   "execution_count": 46,
   "metadata": {
    "collapsed": false
   },
   "outputs": [
    {
     "data": {
      "text/plain": [
       "(9481,)"
      ]
     },
     "execution_count": 46,
     "metadata": {},
     "output_type": "execute_result"
    }
   ],
   "source": [
    "bike_data['Bike ID'].unique().shape"
   ]
  },
  {
   "cell_type": "markdown",
   "metadata": {},
   "source": [
    "Apply the same procedure to calculate the total number of bike stations"
   ]
  },
  {
   "cell_type": "code",
   "execution_count": 47,
   "metadata": {
    "collapsed": false
   },
   "outputs": [
    {
     "data": {
      "text/plain": [
       "(609,)"
      ]
     },
     "execution_count": 47,
     "metadata": {},
     "output_type": "execute_result"
    }
   ],
   "source": [
    "bike_data['Start Station ID'].unique().shape"
   ]
  },
  {
   "cell_type": "markdown",
   "metadata": {},
   "source": [
    "With Pandas we can print only one Series(column) of interest. For that purpose we pass the column name to square brackets"
   ]
  },
  {
   "cell_type": "code",
   "execution_count": 100,
   "metadata": {
    "collapsed": false
   },
   "outputs": [
    {
     "data": {
      "text/html": [
       "<div>\n",
       "<table border=\"1\" class=\"dataframe\">\n",
       "  <thead>\n",
       "    <tr style=\"text-align: right;\">\n",
       "      <th></th>\n",
       "      <th>Start Station ID</th>\n",
       "      <th>Start Station Name</th>\n",
       "    </tr>\n",
       "  </thead>\n",
       "  <tbody>\n",
       "    <tr>\n",
       "      <th>0</th>\n",
       "      <td>499</td>\n",
       "      <td>Broadway &amp; W 60 St</td>\n",
       "    </tr>\n",
       "    <tr>\n",
       "      <th>1</th>\n",
       "      <td>3418</td>\n",
       "      <td>Plaza St West &amp; Flatbush Ave</td>\n",
       "    </tr>\n",
       "    <tr>\n",
       "      <th>2</th>\n",
       "      <td>297</td>\n",
       "      <td>E 15 St &amp; 3 Ave</td>\n",
       "    </tr>\n",
       "    <tr>\n",
       "      <th>3</th>\n",
       "      <td>405</td>\n",
       "      <td>Washington St &amp; Gansevoort St</td>\n",
       "    </tr>\n",
       "    <tr>\n",
       "      <th>4</th>\n",
       "      <td>279</td>\n",
       "      <td>Peck Slip &amp; Front St</td>\n",
       "    </tr>\n",
       "    <tr>\n",
       "      <th>5</th>\n",
       "      <td>245</td>\n",
       "      <td>Myrtle Ave &amp; St Edwards St</td>\n",
       "    </tr>\n",
       "    <tr>\n",
       "      <th>6</th>\n",
       "      <td>470</td>\n",
       "      <td>W 20 St &amp; 8 Ave</td>\n",
       "    </tr>\n",
       "    <tr>\n",
       "      <th>9</th>\n",
       "      <td>496</td>\n",
       "      <td>E 16 St &amp; 5 Ave</td>\n",
       "    </tr>\n",
       "    <tr>\n",
       "      <th>10</th>\n",
       "      <td>297</td>\n",
       "      <td>E 15 St &amp; 3 Ave</td>\n",
       "    </tr>\n",
       "    <tr>\n",
       "      <th>11</th>\n",
       "      <td>2004</td>\n",
       "      <td>6 Ave &amp; Broome St</td>\n",
       "    </tr>\n",
       "    <tr>\n",
       "      <th>12</th>\n",
       "      <td>390</td>\n",
       "      <td>Duffield St &amp; Willoughby St</td>\n",
       "    </tr>\n",
       "    <tr>\n",
       "      <th>13</th>\n",
       "      <td>3164</td>\n",
       "      <td>Columbus Ave &amp; W 72 St</td>\n",
       "    </tr>\n",
       "    <tr>\n",
       "      <th>15</th>\n",
       "      <td>79</td>\n",
       "      <td>Franklin St &amp; W Broadway</td>\n",
       "    </tr>\n",
       "    <tr>\n",
       "      <th>16</th>\n",
       "      <td>301</td>\n",
       "      <td>E 2 St &amp; Avenue B</td>\n",
       "    </tr>\n",
       "    <tr>\n",
       "      <th>17</th>\n",
       "      <td>490</td>\n",
       "      <td>8 Ave &amp; W 33 St</td>\n",
       "    </tr>\n",
       "    <tr>\n",
       "      <th>18</th>\n",
       "      <td>509</td>\n",
       "      <td>9 Ave &amp; W 22 St</td>\n",
       "    </tr>\n",
       "    <tr>\n",
       "      <th>19</th>\n",
       "      <td>511</td>\n",
       "      <td>E 14 St &amp; Avenue B</td>\n",
       "    </tr>\n",
       "    <tr>\n",
       "      <th>20</th>\n",
       "      <td>539</td>\n",
       "      <td>Metropolitan Ave &amp; Bedford Ave</td>\n",
       "    </tr>\n",
       "    <tr>\n",
       "      <th>21</th>\n",
       "      <td>3345</td>\n",
       "      <td>Madison Ave &amp; E 99 St</td>\n",
       "    </tr>\n",
       "    <tr>\n",
       "      <th>22</th>\n",
       "      <td>526</td>\n",
       "      <td>E 33 St &amp; 5 Ave</td>\n",
       "    </tr>\n",
       "    <tr>\n",
       "      <th>23</th>\n",
       "      <td>161</td>\n",
       "      <td>LaGuardia Pl &amp; W 3 St</td>\n",
       "    </tr>\n",
       "    <tr>\n",
       "      <th>24</th>\n",
       "      <td>3100</td>\n",
       "      <td>Nassau Ave &amp; Newell St</td>\n",
       "    </tr>\n",
       "    <tr>\n",
       "      <th>25</th>\n",
       "      <td>212</td>\n",
       "      <td>W 16 St &amp; The High Line</td>\n",
       "    </tr>\n",
       "    <tr>\n",
       "      <th>26</th>\n",
       "      <td>3416</td>\n",
       "      <td>7 Ave &amp; Park Pl</td>\n",
       "    </tr>\n",
       "    <tr>\n",
       "      <th>27</th>\n",
       "      <td>3263</td>\n",
       "      <td>Cooper Square &amp; E 7 St</td>\n",
       "    </tr>\n",
       "    <tr>\n",
       "      <th>28</th>\n",
       "      <td>127</td>\n",
       "      <td>Barrow St &amp; Hudson St</td>\n",
       "    </tr>\n",
       "    <tr>\n",
       "      <th>29</th>\n",
       "      <td>2008</td>\n",
       "      <td>Little West St &amp; 1 Pl</td>\n",
       "    </tr>\n",
       "    <tr>\n",
       "      <th>30</th>\n",
       "      <td>224</td>\n",
       "      <td>Spruce St &amp; Nassau St</td>\n",
       "    </tr>\n",
       "    <tr>\n",
       "      <th>31</th>\n",
       "      <td>268</td>\n",
       "      <td>Howard St &amp; Centre St</td>\n",
       "    </tr>\n",
       "    <tr>\n",
       "      <th>32</th>\n",
       "      <td>497</td>\n",
       "      <td>E 17 St &amp; Broadway</td>\n",
       "    </tr>\n",
       "    <tr>\n",
       "      <th>...</th>\n",
       "      <td>...</td>\n",
       "      <td>...</td>\n",
       "    </tr>\n",
       "    <tr>\n",
       "      <th>812156</th>\n",
       "      <td>3310</td>\n",
       "      <td>14 St &amp; 7 Ave</td>\n",
       "    </tr>\n",
       "    <tr>\n",
       "      <th>812157</th>\n",
       "      <td>3396</td>\n",
       "      <td>Clinton St &amp; 4 Place</td>\n",
       "    </tr>\n",
       "    <tr>\n",
       "      <th>812158</th>\n",
       "      <td>3396</td>\n",
       "      <td>Clinton St &amp; 4 Place</td>\n",
       "    </tr>\n",
       "    <tr>\n",
       "      <th>812159</th>\n",
       "      <td>295</td>\n",
       "      <td>Pike St &amp; E Broadway</td>\n",
       "    </tr>\n",
       "    <tr>\n",
       "      <th>812160</th>\n",
       "      <td>168</td>\n",
       "      <td>W 18 St &amp; 6 Ave</td>\n",
       "    </tr>\n",
       "    <tr>\n",
       "      <th>812161</th>\n",
       "      <td>478</td>\n",
       "      <td>11 Ave &amp; W 41 St</td>\n",
       "    </tr>\n",
       "    <tr>\n",
       "      <th>812162</th>\n",
       "      <td>3372</td>\n",
       "      <td>E 74 St &amp; 1 Ave</td>\n",
       "    </tr>\n",
       "    <tr>\n",
       "      <th>812163</th>\n",
       "      <td>383</td>\n",
       "      <td>Greenwich Ave &amp; Charles St</td>\n",
       "    </tr>\n",
       "    <tr>\n",
       "      <th>812164</th>\n",
       "      <td>3241</td>\n",
       "      <td>Monroe St &amp; Tompkins Ave</td>\n",
       "    </tr>\n",
       "    <tr>\n",
       "      <th>812165</th>\n",
       "      <td>438</td>\n",
       "      <td>St Marks Pl &amp; 1 Ave</td>\n",
       "    </tr>\n",
       "    <tr>\n",
       "      <th>812168</th>\n",
       "      <td>3113</td>\n",
       "      <td>Greenpoint Ave &amp; Manhattan Ave</td>\n",
       "    </tr>\n",
       "    <tr>\n",
       "      <th>812171</th>\n",
       "      <td>2008</td>\n",
       "      <td>Little West St &amp; 1 Pl</td>\n",
       "    </tr>\n",
       "    <tr>\n",
       "      <th>812172</th>\n",
       "      <td>491</td>\n",
       "      <td>E 24 St &amp; Park Ave S</td>\n",
       "    </tr>\n",
       "    <tr>\n",
       "      <th>812173</th>\n",
       "      <td>368</td>\n",
       "      <td>Carmine St &amp; 6 Ave</td>\n",
       "    </tr>\n",
       "    <tr>\n",
       "      <th>812174</th>\n",
       "      <td>3146</td>\n",
       "      <td>E 81 St &amp; 3 Ave</td>\n",
       "    </tr>\n",
       "    <tr>\n",
       "      <th>812175</th>\n",
       "      <td>499</td>\n",
       "      <td>Broadway &amp; W 60 St</td>\n",
       "    </tr>\n",
       "    <tr>\n",
       "      <th>812176</th>\n",
       "      <td>3134</td>\n",
       "      <td>3 Ave &amp; E 62 St</td>\n",
       "    </tr>\n",
       "    <tr>\n",
       "      <th>812177</th>\n",
       "      <td>161</td>\n",
       "      <td>LaGuardia Pl &amp; W 3 St</td>\n",
       "    </tr>\n",
       "    <tr>\n",
       "      <th>812179</th>\n",
       "      <td>539</td>\n",
       "      <td>Metropolitan Ave &amp; Bedford Ave</td>\n",
       "    </tr>\n",
       "    <tr>\n",
       "      <th>812180</th>\n",
       "      <td>3360</td>\n",
       "      <td>Amsterdam Ave &amp; W 79 St</td>\n",
       "    </tr>\n",
       "    <tr>\n",
       "      <th>812181</th>\n",
       "      <td>3438</td>\n",
       "      <td>E 76 St &amp; 3 Ave</td>\n",
       "    </tr>\n",
       "    <tr>\n",
       "      <th>812182</th>\n",
       "      <td>312</td>\n",
       "      <td>Allen St &amp; Stanton St</td>\n",
       "    </tr>\n",
       "    <tr>\n",
       "      <th>812183</th>\n",
       "      <td>3171</td>\n",
       "      <td>Amsterdam Ave &amp; W 82 St</td>\n",
       "    </tr>\n",
       "    <tr>\n",
       "      <th>812184</th>\n",
       "      <td>3113</td>\n",
       "      <td>Greenpoint Ave &amp; Manhattan Ave</td>\n",
       "    </tr>\n",
       "    <tr>\n",
       "      <th>812185</th>\n",
       "      <td>334</td>\n",
       "      <td>W 20 St &amp; 7 Ave</td>\n",
       "    </tr>\n",
       "    <tr>\n",
       "      <th>812186</th>\n",
       "      <td>3236</td>\n",
       "      <td>W 42 St &amp; Dyer Ave</td>\n",
       "    </tr>\n",
       "    <tr>\n",
       "      <th>812187</th>\n",
       "      <td>284</td>\n",
       "      <td>Greenwich Ave &amp; 8 Ave</td>\n",
       "    </tr>\n",
       "    <tr>\n",
       "      <th>812189</th>\n",
       "      <td>3424</td>\n",
       "      <td>E 106 St &amp; Lexington Ave</td>\n",
       "    </tr>\n",
       "    <tr>\n",
       "      <th>812190</th>\n",
       "      <td>3158</td>\n",
       "      <td>W 63 St &amp; Broadway</td>\n",
       "    </tr>\n",
       "    <tr>\n",
       "      <th>812191</th>\n",
       "      <td>3263</td>\n",
       "      <td>Cooper Square &amp; E 7 St</td>\n",
       "    </tr>\n",
       "  </tbody>\n",
       "</table>\n",
       "<p>767100 rows × 2 columns</p>\n",
       "</div>"
      ],
      "text/plain": [
       "        Start Station ID              Start Station Name\n",
       "0                    499              Broadway & W 60 St\n",
       "1                   3418    Plaza St West & Flatbush Ave\n",
       "2                    297                 E 15 St & 3 Ave\n",
       "3                    405   Washington St & Gansevoort St\n",
       "4                    279            Peck Slip & Front St\n",
       "5                    245      Myrtle Ave & St Edwards St\n",
       "6                    470                 W 20 St & 8 Ave\n",
       "9                    496                 E 16 St & 5 Ave\n",
       "10                   297                 E 15 St & 3 Ave\n",
       "11                  2004               6 Ave & Broome St\n",
       "12                   390     Duffield St & Willoughby St\n",
       "13                  3164          Columbus Ave & W 72 St\n",
       "15                    79        Franklin St & W Broadway\n",
       "16                   301               E 2 St & Avenue B\n",
       "17                   490                 8 Ave & W 33 St\n",
       "18                   509                 9 Ave & W 22 St\n",
       "19                   511              E 14 St & Avenue B\n",
       "20                   539  Metropolitan Ave & Bedford Ave\n",
       "21                  3345           Madison Ave & E 99 St\n",
       "22                   526                 E 33 St & 5 Ave\n",
       "23                   161           LaGuardia Pl & W 3 St\n",
       "24                  3100          Nassau Ave & Newell St\n",
       "25                   212         W 16 St & The High Line\n",
       "26                  3416                 7 Ave & Park Pl\n",
       "27                  3263          Cooper Square & E 7 St\n",
       "28                   127           Barrow St & Hudson St\n",
       "29                  2008           Little West St & 1 Pl\n",
       "30                   224           Spruce St & Nassau St\n",
       "31                   268           Howard St & Centre St\n",
       "32                   497              E 17 St & Broadway\n",
       "...                  ...                             ...\n",
       "812156              3310                   14 St & 7 Ave\n",
       "812157              3396            Clinton St & 4 Place\n",
       "812158              3396            Clinton St & 4 Place\n",
       "812159               295            Pike St & E Broadway\n",
       "812160               168                 W 18 St & 6 Ave\n",
       "812161               478                11 Ave & W 41 St\n",
       "812162              3372                 E 74 St & 1 Ave\n",
       "812163               383      Greenwich Ave & Charles St\n",
       "812164              3241        Monroe St & Tompkins Ave\n",
       "812165               438             St Marks Pl & 1 Ave\n",
       "812168              3113  Greenpoint Ave & Manhattan Ave\n",
       "812171              2008           Little West St & 1 Pl\n",
       "812172               491            E 24 St & Park Ave S\n",
       "812173               368              Carmine St & 6 Ave\n",
       "812174              3146                 E 81 St & 3 Ave\n",
       "812175               499              Broadway & W 60 St\n",
       "812176              3134                 3 Ave & E 62 St\n",
       "812177               161           LaGuardia Pl & W 3 St\n",
       "812179               539  Metropolitan Ave & Bedford Ave\n",
       "812180              3360         Amsterdam Ave & W 79 St\n",
       "812181              3438                 E 76 St & 3 Ave\n",
       "812182               312           Allen St & Stanton St\n",
       "812183              3171         Amsterdam Ave & W 82 St\n",
       "812184              3113  Greenpoint Ave & Manhattan Ave\n",
       "812185               334                 W 20 St & 7 Ave\n",
       "812186              3236              W 42 St & Dyer Ave\n",
       "812187               284           Greenwich Ave & 8 Ave\n",
       "812189              3424        E 106 St & Lexington Ave\n",
       "812190              3158              W 63 St & Broadway\n",
       "812191              3263          Cooper Square & E 7 St\n",
       "\n",
       "[767100 rows x 2 columns]"
      ]
     },
     "execution_count": 100,
     "metadata": {},
     "output_type": "execute_result"
    }
   ],
   "source": [
    "bike_data[['Start Station ID', 'Start Station Name']]"
   ]
  },
  {
   "cell_type": "markdown",
   "metadata": {},
   "source": [
    "Our dataset is quite big and we can print also part of rows using slice notation. The slice is defined in the same way as with Python strings and lists."
   ]
  },
  {
   "cell_type": "code",
   "execution_count": 55,
   "metadata": {
    "collapsed": false
   },
   "outputs": [
    {
     "data": {
      "text/plain": [
       "0               Broadway & W 60 St\n",
       "1     Plaza St West & Flatbush Ave\n",
       "2                  E 15 St & 3 Ave\n",
       "3    Washington St & Gansevoort St\n",
       "4             Peck Slip & Front St\n",
       "Name: Start Station Name, dtype: object"
      ]
     },
     "execution_count": 55,
     "metadata": {},
     "output_type": "execute_result"
    }
   ],
   "source": [
    "bike_data['Start Station Name'][:5]"
   ]
  },
  {
   "cell_type": "markdown",
   "metadata": {},
   "source": [
    "The **value_counts** method will tally up the number of times a value appears in a column, and will return a Series with the counts, in descending order."
   ]
  },
  {
   "cell_type": "code",
   "execution_count": 10,
   "metadata": {
    "collapsed": false
   },
   "outputs": [
    {
     "data": {
      "text/plain": [
       "Subscriber    774278\n",
       "Customer       32526\n",
       "Name: User Type, dtype: int64"
      ]
     },
     "execution_count": 10,
     "metadata": {},
     "output_type": "execute_result"
    }
   ],
   "source": [
    "bike_data['User Type'].value_counts()"
   ]
  },
  {
   "cell_type": "code",
   "execution_count": 33,
   "metadata": {
    "collapsed": false
   },
   "outputs": [
    {
     "data": {
      "text/plain": [
       "male       592839\n",
       "female     171585\n",
       "unknown      2676\n",
       "Name: gender, dtype: int64"
      ]
     },
     "execution_count": 33,
     "metadata": {},
     "output_type": "execute_result"
    }
   ],
   "source": [
    "bike_data['gender'].value_counts()"
   ]
  },
  {
   "cell_type": "code",
   "execution_count": 12,
   "metadata": {
    "collapsed": true
   },
   "outputs": [],
   "source": [
    "gender = {0:'unknown', 1: 'male', 2:'female'}#Zero=unknown; 1=male; 2=female."
   ]
  },
  {
   "cell_type": "code",
   "execution_count": 19,
   "metadata": {
    "collapsed": true
   },
   "outputs": [],
   "source": [
    "bike_data['age'] = 2016 - bike_data['Birth Year']"
   ]
  },
  {
   "cell_type": "code",
   "execution_count": 13,
   "metadata": {
    "collapsed": true
   },
   "outputs": [],
   "source": [
    "bike_data['gender'] = bike_data.apply(lambda x: gender[x['Gender']], axis = 1)"
   ]
  },
  {
   "cell_type": "markdown",
   "metadata": {},
   "source": [
    "To get brief statistics about numerical variables with method **describe()**"
   ]
  },
  {
   "cell_type": "code",
   "execution_count": 11,
   "metadata": {
    "collapsed": false
   },
   "outputs": [
    {
     "data": {
      "text/html": [
       "<div>\n",
       "<table border=\"1\" class=\"dataframe\">\n",
       "  <thead>\n",
       "    <tr style=\"text-align: right;\">\n",
       "      <th></th>\n",
       "      <th>Trip Duration</th>\n",
       "      <th>Start Station ID</th>\n",
       "      <th>Start Station Latitude</th>\n",
       "      <th>Start Station Longitude</th>\n",
       "      <th>End Station ID</th>\n",
       "      <th>End Station Latitude</th>\n",
       "      <th>End Station Longitude</th>\n",
       "      <th>Bike ID</th>\n",
       "      <th>Birth Year</th>\n",
       "      <th>Gender</th>\n",
       "      <th>start_time</th>\n",
       "      <th>stop_time</th>\n",
       "      <th>start_hour</th>\n",
       "      <th>start_month</th>\n",
       "      <th>stop_hour</th>\n",
       "      <th>stop_month</th>\n",
       "    </tr>\n",
       "  </thead>\n",
       "  <tbody>\n",
       "    <tr>\n",
       "      <th>count</th>\n",
       "      <td>8.121920e+05</td>\n",
       "      <td>812192.000000</td>\n",
       "      <td>812192.000000</td>\n",
       "      <td>812192.000000</td>\n",
       "      <td>812192.000000</td>\n",
       "      <td>812192.000000</td>\n",
       "      <td>812192.000000</td>\n",
       "      <td>812192.000000</td>\n",
       "      <td>772488.000000</td>\n",
       "      <td>812192.000000</td>\n",
       "      <td>8.121920e+05</td>\n",
       "      <td>8.121920e+05</td>\n",
       "      <td>812192.000000</td>\n",
       "      <td>812192.0</td>\n",
       "      <td>812192.000000</td>\n",
       "      <td>812192.000000</td>\n",
       "    </tr>\n",
       "    <tr>\n",
       "      <th>mean</th>\n",
       "      <td>7.759573e+02</td>\n",
       "      <td>1230.658706</td>\n",
       "      <td>40.737667</td>\n",
       "      <td>-73.984587</td>\n",
       "      <td>1210.592212</td>\n",
       "      <td>40.737181</td>\n",
       "      <td>-73.984581</td>\n",
       "      <td>21949.073166</td>\n",
       "      <td>1977.099969</td>\n",
       "      <td>1.161004</td>\n",
       "      <td>1.481690e+09</td>\n",
       "      <td>1.481690e+09</td>\n",
       "      <td>13.577580</td>\n",
       "      <td>12.0</td>\n",
       "      <td>13.718379</td>\n",
       "      <td>11.998957</td>\n",
       "    </tr>\n",
       "    <tr>\n",
       "      <th>std</th>\n",
       "      <td>7.542199e+03</td>\n",
       "      <td>1281.955016</td>\n",
       "      <td>0.082664</td>\n",
       "      <td>0.143095</td>\n",
       "      <td>1272.932141</td>\n",
       "      <td>0.122438</td>\n",
       "      <td>0.217795</td>\n",
       "      <td>3982.457558</td>\n",
       "      <td>11.999981</td>\n",
       "      <td>0.489375</td>\n",
       "      <td>7.605314e+05</td>\n",
       "      <td>7.605812e+05</td>\n",
       "      <td>4.816329</td>\n",
       "      <td>0.0</td>\n",
       "      <td>4.841047</td>\n",
       "      <td>0.107100</td>\n",
       "    </tr>\n",
       "    <tr>\n",
       "      <th>min</th>\n",
       "      <td>6.100000e+01</td>\n",
       "      <td>72.000000</td>\n",
       "      <td>0.000000</td>\n",
       "      <td>-74.031372</td>\n",
       "      <td>72.000000</td>\n",
       "      <td>0.000000</td>\n",
       "      <td>-74.049968</td>\n",
       "      <td>14529.000000</td>\n",
       "      <td>1885.000000</td>\n",
       "      <td>0.000000</td>\n",
       "      <td>1.480540e+09</td>\n",
       "      <td>1.480540e+09</td>\n",
       "      <td>0.000000</td>\n",
       "      <td>12.0</td>\n",
       "      <td>0.000000</td>\n",
       "      <td>1.000000</td>\n",
       "    </tr>\n",
       "    <tr>\n",
       "      <th>25%</th>\n",
       "      <td>3.340000e+02</td>\n",
       "      <td>358.000000</td>\n",
       "      <td>40.721101</td>\n",
       "      <td>-73.995101</td>\n",
       "      <td>356.000000</td>\n",
       "      <td>40.720874</td>\n",
       "      <td>-73.995960</td>\n",
       "      <td>18352.000000</td>\n",
       "      <td>1969.000000</td>\n",
       "      <td>1.000000</td>\n",
       "      <td>1.481029e+09</td>\n",
       "      <td>1.481030e+09</td>\n",
       "      <td>9.000000</td>\n",
       "      <td>12.0</td>\n",
       "      <td>10.000000</td>\n",
       "      <td>12.000000</td>\n",
       "    </tr>\n",
       "    <tr>\n",
       "      <th>50%</th>\n",
       "      <td>5.330000e+02</td>\n",
       "      <td>482.000000</td>\n",
       "      <td>40.739445</td>\n",
       "      <td>-73.987216</td>\n",
       "      <td>480.000000</td>\n",
       "      <td>40.739355</td>\n",
       "      <td>-73.987586</td>\n",
       "      <td>22708.000000</td>\n",
       "      <td>1979.000000</td>\n",
       "      <td>1.000000</td>\n",
       "      <td>1.481615e+09</td>\n",
       "      <td>1.481616e+09</td>\n",
       "      <td>14.000000</td>\n",
       "      <td>12.0</td>\n",
       "      <td>14.000000</td>\n",
       "      <td>12.000000</td>\n",
       "    </tr>\n",
       "    <tr>\n",
       "      <th>75%</th>\n",
       "      <td>8.760000e+02</td>\n",
       "      <td>3096.000000</td>\n",
       "      <td>40.756014</td>\n",
       "      <td>-73.976485</td>\n",
       "      <td>3090.000000</td>\n",
       "      <td>40.755103</td>\n",
       "      <td>-73.976806</td>\n",
       "      <td>25655.000000</td>\n",
       "      <td>1987.000000</td>\n",
       "      <td>1.000000</td>\n",
       "      <td>1.482316e+09</td>\n",
       "      <td>1.482317e+09</td>\n",
       "      <td>17.000000</td>\n",
       "      <td>12.0</td>\n",
       "      <td>18.000000</td>\n",
       "      <td>12.000000</td>\n",
       "    </tr>\n",
       "    <tr>\n",
       "      <th>max</th>\n",
       "      <td>3.473103e+06</td>\n",
       "      <td>3440.000000</td>\n",
       "      <td>40.804213</td>\n",
       "      <td>0.000000</td>\n",
       "      <td>3440.000000</td>\n",
       "      <td>40.804213</td>\n",
       "      <td>0.000000</td>\n",
       "      <td>27342.000000</td>\n",
       "      <td>2000.000000</td>\n",
       "      <td>2.000000</td>\n",
       "      <td>1.483218e+09</td>\n",
       "      <td>1.484802e+09</td>\n",
       "      <td>23.000000</td>\n",
       "      <td>12.0</td>\n",
       "      <td>23.000000</td>\n",
       "      <td>12.000000</td>\n",
       "    </tr>\n",
       "  </tbody>\n",
       "</table>\n",
       "</div>"
      ],
      "text/plain": [
       "       Trip Duration  Start Station ID  Start Station Latitude  \\\n",
       "count   8.121920e+05     812192.000000           812192.000000   \n",
       "mean    7.759573e+02       1230.658706               40.737667   \n",
       "std     7.542199e+03       1281.955016                0.082664   \n",
       "min     6.100000e+01         72.000000                0.000000   \n",
       "25%     3.340000e+02        358.000000               40.721101   \n",
       "50%     5.330000e+02        482.000000               40.739445   \n",
       "75%     8.760000e+02       3096.000000               40.756014   \n",
       "max     3.473103e+06       3440.000000               40.804213   \n",
       "\n",
       "       Start Station Longitude  End Station ID  End Station Latitude  \\\n",
       "count            812192.000000   812192.000000         812192.000000   \n",
       "mean                -73.984587     1210.592212             40.737181   \n",
       "std                   0.143095     1272.932141              0.122438   \n",
       "min                 -74.031372       72.000000              0.000000   \n",
       "25%                 -73.995101      356.000000             40.720874   \n",
       "50%                 -73.987216      480.000000             40.739355   \n",
       "75%                 -73.976485     3090.000000             40.755103   \n",
       "max                   0.000000     3440.000000             40.804213   \n",
       "\n",
       "       End Station Longitude        Bike ID     Birth Year         Gender  \\\n",
       "count          812192.000000  812192.000000  772488.000000  812192.000000   \n",
       "mean              -73.984581   21949.073166    1977.099969       1.161004   \n",
       "std                 0.217795    3982.457558      11.999981       0.489375   \n",
       "min               -74.049968   14529.000000    1885.000000       0.000000   \n",
       "25%               -73.995960   18352.000000    1969.000000       1.000000   \n",
       "50%               -73.987586   22708.000000    1979.000000       1.000000   \n",
       "75%               -73.976806   25655.000000    1987.000000       1.000000   \n",
       "max                 0.000000   27342.000000    2000.000000       2.000000   \n",
       "\n",
       "         start_time     stop_time     start_hour  start_month      stop_hour  \\\n",
       "count  8.121920e+05  8.121920e+05  812192.000000     812192.0  812192.000000   \n",
       "mean   1.481690e+09  1.481690e+09      13.577580         12.0      13.718379   \n",
       "std    7.605314e+05  7.605812e+05       4.816329          0.0       4.841047   \n",
       "min    1.480540e+09  1.480540e+09       0.000000         12.0       0.000000   \n",
       "25%    1.481029e+09  1.481030e+09       9.000000         12.0      10.000000   \n",
       "50%    1.481615e+09  1.481616e+09      14.000000         12.0      14.000000   \n",
       "75%    1.482316e+09  1.482317e+09      17.000000         12.0      18.000000   \n",
       "max    1.483218e+09  1.484802e+09      23.000000         12.0      23.000000   \n",
       "\n",
       "          stop_month  \n",
       "count  812192.000000  \n",
       "mean       11.998957  \n",
       "std         0.107100  \n",
       "min         1.000000  \n",
       "25%        12.000000  \n",
       "50%        12.000000  \n",
       "75%        12.000000  \n",
       "max        12.000000  "
      ]
     },
     "execution_count": 11,
     "metadata": {},
     "output_type": "execute_result"
    }
   ],
   "source": [
    "bike_data.describe()"
   ]
  },
  {
   "cell_type": "code",
   "execution_count": 30,
   "metadata": {
    "collapsed": true
   },
   "outputs": [],
   "source": [
    "import matplotlib.pyplot as plt\n",
    "import seaborn as sns\n",
    "%matplotlib inline"
   ]
  },
  {
   "cell_type": "markdown",
   "metadata": {},
   "source": [
    "Let's estimate the trips duration time and visualize the distribution"
   ]
  },
  {
   "cell_type": "code",
   "execution_count": 14,
   "metadata": {
    "collapsed": true
   },
   "outputs": [],
   "source": [
    "bike_data['duration_min'] = bike_data['Trip Duration'] // 60"
   ]
  },
  {
   "cell_type": "code",
   "execution_count": 15,
   "metadata": {
    "collapsed": false
   },
   "outputs": [
    {
     "data": {
      "text/plain": [
       "1"
      ]
     },
     "execution_count": 15,
     "metadata": {},
     "output_type": "execute_result"
    }
   ],
   "source": [
    "bike_data['duration_min'].min()"
   ]
  },
  {
   "cell_type": "code",
   "execution_count": 16,
   "metadata": {
    "collapsed": false
   },
   "outputs": [
    {
     "data": {
      "text/plain": [
       "57885"
      ]
     },
     "execution_count": 16,
     "metadata": {},
     "output_type": "execute_result"
    }
   ],
   "source": [
    "bike_data['duration_min'].max()"
   ]
  },
  {
   "cell_type": "code",
   "execution_count": 17,
   "metadata": {
    "collapsed": false
   },
   "outputs": [
    {
     "data": {
      "text/plain": [
       "12.441666502501871"
      ]
     },
     "execution_count": 17,
     "metadata": {},
     "output_type": "execute_result"
    }
   ],
   "source": [
    "bike_data['duration_min'].mean()"
   ]
  },
  {
   "cell_type": "code",
   "execution_count": 159,
   "metadata": {
    "collapsed": false
   },
   "outputs": [],
   "source": [
    "bike_sample = bike_data[bike_data['duration_min'] < 60]"
   ]
  },
  {
   "cell_type": "markdown",
   "metadata": {},
   "source": [
    "### Bar plots\n",
    "Bar plots are useful for displaying and comparing measurable quantities, such as counts or volumes. In Pandas, we just use the plot method with a kind='bar' argument."
   ]
  },
  {
   "cell_type": "code",
   "execution_count": 13,
   "metadata": {
    "collapsed": false
   },
   "outputs": [
    {
     "data": {
      "text/plain": [
       "<matplotlib.text.Text at 0x10af0fd30>"
      ]
     },
     "execution_count": 13,
     "metadata": {},
     "output_type": "execute_result"
    },
    {
     "data": {
      "image/png": "[encoded data removed]",
      "text/plain": [
       "<matplotlib.figure.Figure at 0x10ab19fd0>"
      ]
     },
     "metadata": {},
     "output_type": "display_data"
    }
   ],
   "source": [
    "bike_data.groupby('gender')['gender'].count().plot(kind='bar')\n",
    "plt.ylabel('Number of trips')\n",
    "plt.title('Distribution of trips according to user gender')"
   ]
  },
  {
   "cell_type": "code",
   "execution_count": 14,
   "metadata": {
    "collapsed": false
   },
   "outputs": [
    {
     "data": {
      "text/plain": [
       "<matplotlib.text.Text at 0x10b1a7828>"
      ]
     },
     "execution_count": 14,
     "metadata": {},
     "output_type": "execute_result"
    },
    {
     "data": {
      "image/png": "[encoded data removed]",
      "text/plain": [
       "<matplotlib.figure.Figure at 0x10af07f28>"
      ]
     },
     "metadata": {},
     "output_type": "display_data"
    }
   ],
   "source": [
    "bike_data.groupby('User Type')['User Type'].count().plot(kind='bar')\n",
    "plt.ylabel('Number of trips')\n",
    "plt.title('Distribution of trips according to user type')"
   ]
  },
  {
   "cell_type": "markdown",
   "metadata": {},
   "source": [
    "Bar graphs are very useful to plot the number of trips over time. The two graphs below show the different number of trips made in weekdays and weekends."
   ]
  },
  {
   "cell_type": "code",
   "execution_count": 98,
   "metadata": {
    "collapsed": false
   },
   "outputs": [
    {
     "data": {
      "text/plain": [
       "<matplotlib.text.Text at 0x118a4b668>"
      ]
     },
     "execution_count": 98,
     "metadata": {},
     "output_type": "execute_result"
    },
    {
     "data": {
      "image/png": "[encoded data removed]",
      "text/plain": [
       "<matplotlib.figure.Figure at 0x1185a0128>"
      ]
     },
     "metadata": {},
     "output_type": "display_data"
    }
   ],
   "source": [
    "bike_data[bike_data.day_type == 1].groupby('start_hour').size().plot(kind='bar', width=1)\n",
    "plt.xlabel('Pick up hours')\n",
    "plt.ylabel('Number of trips')\n",
    "plt.title('Number of trips / hour weekday')\n"
   ]
  },
  {
   "cell_type": "code",
   "execution_count": 97,
   "metadata": {
    "collapsed": false
   },
   "outputs": [
    {
     "data": {
      "text/plain": [
       "<matplotlib.text.Text at 0x1151c6550>"
      ]
     },
     "execution_count": 97,
     "metadata": {},
     "output_type": "execute_result"
    },
    {
     "data": {
      "image/png": "[encoded data removed]",
      "text/plain": [
       "<matplotlib.figure.Figure at 0x115130240>"
      ]
     },
     "metadata": {},
     "output_type": "display_data"
    }
   ],
   "source": [
    "bike_data[bike_data.day_type == 0].groupby('start_hour').size().plot(kind='bar', width=1)\n",
    "plt.xlabel('Pick up hours')\n",
    "plt.ylabel('Number of trips')\n",
    "plt.title('Number of trips / hour weekend')"
   ]
  },
  {
   "cell_type": "markdown",
   "metadata": {},
   "source": [
    "We can observe some phenomenon directly from the data, by looking at an hourly graph of trips that travel between Manhattan and the outer boroughs:"
   ]
  },
  {
   "cell_type": "code",
   "execution_count": 121,
   "metadata": {
    "collapsed": true
   },
   "outputs": [],
   "source": [
    "bike_from_manhattan = bike_data[(bike_data['Start Station Name'].str.contains('Manhattan'))]\n",
    "bike_from_manhattan = bike_from_manhattan[(bike_from_manhattan['Start Station ID'] != bike_from_manhattan['End Station ID'])]"
   ]
  },
  {
   "cell_type": "code",
   "execution_count": 122,
   "metadata": {
    "collapsed": false
   },
   "outputs": [
    {
     "data": {
      "text/plain": [
       "<matplotlib.text.Text at 0x153124518>"
      ]
     },
     "execution_count": 122,
     "metadata": {},
     "output_type": "execute_result"
    },
    {
     "data": {
      "image/png": "[encoded data removed]",
      "text/plain": [
       "<matplotlib.figure.Figure at 0x152edfb70>"
      ]
     },
     "metadata": {},
     "output_type": "display_data"
    }
   ],
   "source": [
    "bike_from_manhattan.groupby('start_hour').size().plot(kind='bar', width=1)\n",
    "plt.xlabel('Pick up hours')\n",
    "plt.ylabel('Number of trips')\n",
    "plt.title('Number of trips / hour from Manhattan to other boroughs')"
   ]
  },
  {
   "cell_type": "code",
   "execution_count": 119,
   "metadata": {
    "collapsed": false
   },
   "outputs": [],
   "source": [
    "bike_to_manhattan = bike_data[(bike_data['End Station Name'].str.contains('Manhattan'))]\n",
    "bike_to_manhattan = bike_to_manhattan[(bike_to_manhattan['Start Station ID'] != bike_to_manhattan['End Station ID'])]"
   ]
  },
  {
   "cell_type": "code",
   "execution_count": 120,
   "metadata": {
    "collapsed": false
   },
   "outputs": [
    {
     "data": {
      "text/plain": [
       "<matplotlib.text.Text at 0x142adbc88>"
      ]
     },
     "execution_count": 120,
     "metadata": {},
     "output_type": "execute_result"
    },
    {
     "data": {
      "image/png": "[encoded data removed]",
      "text/plain": [
       "<matplotlib.figure.Figure at 0x1426aafd0>"
      ]
     },
     "metadata": {},
     "output_type": "display_data"
    }
   ],
   "source": [
    "bike_to_manhattan.groupby('start_hour').size().plot(kind='bar', width=1)\n",
    "plt.xlabel('Pick up hours')\n",
    "plt.ylabel('Number of trips')\n",
    "plt.title('Number of trips / hour to Manhattan from other boroughs')"
   ]
  },
  {
   "cell_type": "code",
   "execution_count": 143,
   "metadata": {
    "collapsed": false
   },
   "outputs": [
    {
     "data": {
      "text/plain": [
       "<matplotlib.axes._subplots.AxesSubplot at 0x159ed3320>"
      ]
     },
     "execution_count": 143,
     "metadata": {},
     "output_type": "execute_result"
    },
    {
     "data": {
      "image/png": "[encoded data removed]",
      "text/plain": [
       "<matplotlib.figure.Figure at 0x157188cf8>"
      ]
     },
     "metadata": {},
     "output_type": "display_data"
    }
   ],
   "source": [
    "station = 'Lafayette Ave & Fort Greene Pl'\n",
    "bike_data[bike_data['Start Station Name'] == station].groupby('start_hour')['Bike ID'].count().plot(kind='bar', width=1)"
   ]
  },
  {
   "cell_type": "markdown",
   "metadata": {},
   "source": [
    "### Histograms"
   ]
  },
  {
   "cell_type": "markdown",
   "metadata": {},
   "source": [
    "Frequenfly it is useful to look at the distribution of data before you analyze it. Histograms are a sort of bar graph that displays relative frequencies of data values; hence, the y-axis is always some measure of frequency. This can either be raw counts of values or scaled proportions."
   ]
  },
  {
   "cell_type": "code",
   "execution_count": 51,
   "metadata": {
    "collapsed": false
   },
   "outputs": [
    {
     "data": {
      "text/plain": [
       "<matplotlib.text.Text at 0x120907588>"
      ]
     },
     "execution_count": 51,
     "metadata": {},
     "output_type": "execute_result"
    },
    {
     "data": {
      "image/png": "[encoded data removed]",
      "text/plain": [
       "<matplotlib.figure.Figure at 0x10ab17d30>"
      ]
     },
     "metadata": {},
     "output_type": "display_data"
    }
   ],
   "source": [
    "bike_data['age'].plot(kind='hist')\n",
    "plt.xlabel('Age')"
   ]
  },
  {
   "cell_type": "markdown",
   "metadata": {},
   "source": [
    "The hist method puts the continuous agw values into bins, trying to make a sensible decision about how many bins to use (or equivalently, how wide the bins are). We can override the default value (10):"
   ]
  },
  {
   "cell_type": "code",
   "execution_count": 79,
   "metadata": {
    "collapsed": false
   },
   "outputs": [
    {
     "data": {
      "text/plain": [
       "<matplotlib.text.Text at 0x1116cefd0>"
      ]
     },
     "execution_count": 79,
     "metadata": {},
     "output_type": "execute_result"
    },
    {
     "data": {
      "image/png": "[encoded data removed]",
      "text/plain": [
       "<matplotlib.figure.Figure at 0x10fe749b0>"
      ]
     },
     "metadata": {},
     "output_type": "display_data"
    }
   ],
   "source": [
    "bike_data['age'].plot(kind='hist', bins=30)\n",
    "plt.xlabel('Age')"
   ]
  },
  {
   "cell_type": "markdown",
   "metadata": {},
   "source": [
    "A density plot is similar to a histogram in that it describes the distribution of the underlying data, but rather than being a pure empirical representation, it is an estimate of the underlying \"true\" distribution. As a result, it is smoothed into a continuous line plot. We create them in Pandas using the plot method with kind='kde', where kde stands for kernel density estimate."
   ]
  },
  {
   "cell_type": "code",
   "execution_count": 148,
   "metadata": {
    "collapsed": false,
    "slideshow": {
     "slide_type": "-"
    }
   },
   "outputs": [
    {
     "data": {
      "text/plain": [
       "<matplotlib.text.Text at 0x161796a58>"
      ]
     },
     "execution_count": 148,
     "metadata": {},
     "output_type": "execute_result"
    },
    {
     "data": {
      "image/png": "[encoded data removed]",
      "text/plain": [
       "<matplotlib.figure.Figure at 0x15a25c828>"
      ]
     },
     "metadata": {},
     "output_type": "display_data"
    }
   ],
   "source": [
    "bike_data['age'].plot(kind='kde')\n",
    "plt.xlabel('Age')"
   ]
  },
  {
   "cell_type": "markdown",
   "metadata": {},
   "source": [
    "Often, histograms and density plots are shown together:"
   ]
  },
  {
   "cell_type": "code",
   "execution_count": 153,
   "metadata": {
    "collapsed": false
   },
   "outputs": [
    {
     "data": {
      "text/plain": [
       "<matplotlib.text.Text at 0x16a3386d8>"
      ]
     },
     "execution_count": 153,
     "metadata": {},
     "output_type": "execute_result"
    },
    {
     "data": {
      "image/png": "[encoded data removed]",
      "text/plain": [
       "<matplotlib.figure.Figure at 0x17080b128>"
      ]
     },
     "metadata": {},
     "output_type": "display_data"
    }
   ],
   "source": [
    "bike_data['age'].hist(bins=30, normed=True, color='lightseagreen')\n",
    "bike_data['age'].plot(kind='kde', linewidth=3)\n",
    "plt.xlabel('Age')"
   ]
  },
  {
   "cell_type": "markdown",
   "metadata": {},
   "source": [
    "Here, we had to normalize the histogram (normed=True), since the kernel density is normalized by definition (it is a probability distribution).\n",
    "We will explore kernel density estimates more in the next section."
   ]
  },
  {
   "cell_type": "markdown",
   "metadata": {},
   "source": [
    "Now let's plot the histogram of travel time"
   ]
  },
  {
   "cell_type": "code",
   "execution_count": 160,
   "metadata": {
    "collapsed": false
   },
   "outputs": [
    {
     "data": {
      "text/plain": [
       "<matplotlib.text.Text at 0x167e2b0f0>"
      ]
     },
     "execution_count": 160,
     "metadata": {},
     "output_type": "execute_result"
    },
    {
     "data": {
      "image/png": "[encoded data removed]",
      "text/plain": [
       "<matplotlib.figure.Figure at 0x16d630080>"
      ]
     },
     "metadata": {},
     "output_type": "display_data"
    }
   ],
   "source": [
    "bike_sample['duration_min'].plot(kind='hist', bins=30)\n",
    "plt.xlabel('trip duration, minutes')\n",
    "plt.title('Distribution of trip durations')"
   ]
  },
  {
   "cell_type": "markdown",
   "metadata": {},
   "source": [
    "### Boxplots\n",
    "A different way of visualizing the distribution of data is the boxplot, which is a display of common quantiles; these are typically the quartiles and the lower and upper 5 percent values."
   ]
  },
  {
   "cell_type": "code",
   "execution_count": 161,
   "metadata": {
    "collapsed": false
   },
   "outputs": [
    {
     "data": {
      "text/plain": [
       "<matplotlib.text.Text at 0x13cef50b8>"
      ]
     },
     "execution_count": 161,
     "metadata": {},
     "output_type": "execute_result"
    },
    {
     "data": {
      "image/png": "[encoded data removed]",
      "text/plain": [
       "<matplotlib.figure.Figure at 0x16cbb7898>"
      ]
     },
     "metadata": {},
     "output_type": "display_data"
    }
   ],
   "source": [
    "bike_data.boxplot(column='age', by='gender')\n",
    "plt.ylabel('Frequency')"
   ]
  },
  {
   "cell_type": "markdown",
   "metadata": {},
   "source": [
    "### Scatter plots"
   ]
  },
  {
   "cell_type": "markdown",
   "metadata": {},
   "source": [
    "Scatterplots are useful for data exploration, where we seek to uncover relationships among variables. There are two ways for visualization - scatterplot methods for Series or DataFrame objects or instead use the matplotlib function scatter."
   ]
  },
  {
   "cell_type": "code",
   "execution_count": 123,
   "metadata": {
    "collapsed": false
   },
   "outputs": [
    {
     "data": {
      "text/plain": [
       "<matplotlib.text.Text at 0x15315af28>"
      ]
     },
     "execution_count": 123,
     "metadata": {},
     "output_type": "execute_result"
    },
    {
     "data": {
      "image/png": "[encoded data removed]",
      "text/plain": [
       "<matplotlib.figure.Figure at 0x1531b6898>"
      ]
     },
     "metadata": {},
     "output_type": "display_data"
    }
   ],
   "source": [
    "plt.scatter(bike_data['duration_min'], bike_data['age'])\n",
    "plt.ylabel('age')\n",
    "plt.xlabel('trip duration minutes')"
   ]
  },
  {
   "cell_type": "markdown",
   "metadata": {},
   "source": [
    "There is corr() method to calculate the correlation between variables "
   ]
  },
  {
   "cell_type": "code",
   "execution_count": 156,
   "metadata": {
    "collapsed": false
   },
   "outputs": [
    {
     "data": {
      "text/html": [
       "<div>\n",
       "<table border=\"1\" class=\"dataframe\">\n",
       "  <thead>\n",
       "    <tr style=\"text-align: right;\">\n",
       "      <th></th>\n",
       "      <th>duration_min</th>\n",
       "      <th>age</th>\n",
       "    </tr>\n",
       "  </thead>\n",
       "  <tbody>\n",
       "    <tr>\n",
       "      <th>duration_min</th>\n",
       "      <td>1.000000</td>\n",
       "      <td>0.005175</td>\n",
       "    </tr>\n",
       "    <tr>\n",
       "      <th>age</th>\n",
       "      <td>0.005175</td>\n",
       "      <td>1.000000</td>\n",
       "    </tr>\n",
       "  </tbody>\n",
       "</table>\n",
       "</div>"
      ],
      "text/plain": [
       "              duration_min       age\n",
       "duration_min      1.000000  0.005175\n",
       "age               0.005175  1.000000"
      ]
     },
     "execution_count": 156,
     "metadata": {},
     "output_type": "execute_result"
    }
   ],
   "source": [
    "bike_data[['duration_min', 'age']].corr()"
   ]
  },
  {
   "cell_type": "code",
   "execution_count": 57,
   "metadata": {
    "collapsed": false
   },
   "outputs": [
    {
     "data": {
      "text/plain": [
       "<matplotlib.text.Text at 0x12b075278>"
      ]
     },
     "execution_count": 57,
     "metadata": {},
     "output_type": "execute_result"
    },
    {
     "data": {
      "image/png": "[encoded data removed]",
      "text/plain": [
       "<matplotlib.figure.Figure at 0x12b140518>"
      ]
     },
     "metadata": {},
     "output_type": "display_data"
    }
   ],
   "source": [
    "plt.scatter(bike_data['start_hour'], bike_data['duration_min'])\n",
    "plt.xlabel('age')\n",
    "plt.ylabel('trip duration minutes')"
   ]
  }
 ],
 "metadata": {
  "kernelspec": {
   "display_name": "Python 3",
   "language": "python",
   "name": "python3"
  },
  "language_info": {
   "codemirror_mode": {
    "name": "ipython",
    "version": 3
   },
   "file_extension": ".py",
   "mimetype": "text/x-python",
   "name": "python",
   "nbconvert_exporter": "python",
   "pygments_lexer": "ipython3",
   "version": "3.4.4rc1"
  }
 },
 "nbformat": 4,
 "nbformat_minor": 0
}
